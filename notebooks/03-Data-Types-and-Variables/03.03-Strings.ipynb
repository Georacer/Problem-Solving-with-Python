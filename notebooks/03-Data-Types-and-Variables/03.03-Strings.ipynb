{
 "cells": [
  {
   "cell_type": "markdown",
   "metadata": {},
   "source": [
    "## Strings"
   ]
  },
  {
   "cell_type": "markdown",
   "metadata": {},
   "source": [
    "Another built-in data type in Python is _strings_. Strings are sequences of letters, numbers, symbols, and spaces. In Python, strings can be almost any length and can contain spaces. String variables are assigned in Python using quotation marks ```'   '``` or ```\" \"```. In Python, strings can be defined by single quotation marks ```' '``` or double quotation marks ```\" \"```. \n",
    "\n",
    "Python strings can contain blank spaces. A blank space is a valid character in Python string.\n",
    "\n",
    "```python\n",
    ">>> string = 'z'\n",
    ">>>> type(string)\n",
    "<class 'str'>\n",
    "\n",
    ">>> string = 'Engineers'\n",
    ">>> type(string)\n",
    "<class 'str'>\n",
    "```\n",
    "\n",
    "The output ```<class 'str'>``` indicates the variable is a string."
   ]
  },
  {
   "cell_type": "markdown",
   "metadata": {},
   "source": [
    "### Numbers as Strings\n",
    "\n",
    "Numbers and decimals can be defined as strings too. If a decimal number is defined using quotes ```'   '```, the number is saved as a string rather than saved as a float. Like floats, integers also become strings if surrounded by quotes.\n",
    "\n",
    "```python\n",
    ">>> num = '5.2'\n",
    ">>> type(num)\n",
    "<class 'str'>\n",
    "\n",
    ">>> num = '2'\n",
    ">>> type(num)\n",
    "<class 'str'>\n",
    "```"
   ]
  },
  {
   "cell_type": "markdown",
   "metadata": {},
   "source": [
    "### Strings as Boolean Values\n",
    "\n",
    "Strings can be converted to boolean values (converted to True or False). The empty string ```\"\"``` returns as ```False```. All other strings convert to ```True```. \n",
    "\n",
    "```python\n",
    ">>> name = \"Kendra\"\n",
    ">>> bool(name)\n",
    "True\n",
    "```\n",
    "\n",
    "```python\n",
    ">>> empty = \"\"\n",
    ">>> bool(empty)\n",
    "False\n",
    "```\n",
    "\n",
    "Note that a string which contains just one space (```\" \"```) is not empty. It contains the space character. Therefore a string made up of just one space converts to ```True```.\n",
    "\n",
    "```python\n",
    ">>> space = \" \"\n",
    ">>> bool(space)\n",
    "True\n",
    "```"
   ]
  },
  {
   "cell_type": "code",
   "execution_count": null,
   "metadata": {},
   "outputs": [],
   "source": []
  }
 ],
 "metadata": {
  "kernelspec": {
   "display_name": "Python 3",
   "language": "python",
   "name": "python3"
  },
  "language_info": {
   "codemirror_mode": {
    "name": "ipython",
    "version": 3
   },
   "file_extension": ".py",
   "mimetype": "text/x-python",
   "name": "python",
   "nbconvert_exporter": "python",
   "pygments_lexer": "ipython3",
   "version": "3.6.4"
  }
 },
 "nbformat": 4,
 "nbformat_minor": 2
}
