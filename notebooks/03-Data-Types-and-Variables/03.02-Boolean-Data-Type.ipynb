{
 "cells": [
  {
   "cell_type": "markdown",
   "metadata": {},
   "source": [
    "## Boolean Data Type"
   ]
  },
  {
   "cell_type": "markdown",
   "metadata": {},
   "source": [
    "The _boolean_ data type is either True or False. In Python, boolean variables are defined by the ```True``` and ```False``` keywords. \n",
    "\n",
    "```python\n",
    ">>> a = True\n",
    ">>> type(a)\n",
    "<class 'bool'>\n",
    "\n",
    ">>> b = False\n",
    ">>> type(b)\n",
    "<class 'bool'>\n",
    "```\n",
    "\n",
    "Note that ```True``` and ```False``` must have an Upper Case first letter. Using a lowercase ```true``` returns an error.\n",
    "\n",
    "```python\n",
    ">>> c = true\n",
    "Traceback (most recent call last):\n",
    "  File \"<input>\", line 1, in <module>\n",
    "NameError: name 'true' is not defined\n",
    "d = false\n",
    "Traceback (most recent call last):\n",
    "  File \"<input>\", line 1, in <module>\n",
    "NameError: name 'false' is not defined\n",
    "```"
   ]
  },
  {
   "cell_type": "markdown",
   "metadata": {},
   "source": [
    "### Integers and Floats as Booleans\n",
    "\n",
    "Integers and floating point numbers can be converted to the boolean data type using Python's ```bool()``` function. An int, float or complex number set to zero returns as ```False```. An int, float or complex number set to any other number, positive or negative, will returns as ```True```.\n",
    "\n",
    "```python\n",
    ">>> zero_int = 0\n",
    ">>> bool(zero_int)\n",
    "False\n",
    "```\n",
    "\n",
    "```python\n",
    ">>> pos_int = 1\n",
    ">>> bool(pos_int)\n",
    "True\n",
    "```\n",
    "\n",
    "```python\n",
    ">>> neg_flt = -5.1\n",
    ">>> bool(neg_flt)\n",
    "True\n",
    "```"
   ]
  },
  {
   "cell_type": "markdown",
   "metadata": {},
   "source": [
    "### Boolean Arithmetic\n",
    "\n",
    "_Boolean Arithmetic_ is the arithmetic of true and false logic. A _boolean_ or logical value can either be ```True``` or ```False```.  Boolean values can be manipulated and combined with boolean operators.\n",
    "\n",
    "The common boolean operators in Python are below:\n",
    "\n",
    " * ```or```\n",
    " * ```and```\n",
    " * ```not```\n",
    " * ```==```(equivalent)\n",
    " * ```!=``` (not equivalent)\n",
    "\n",
    "```python\n",
    ">>> A = True\n",
    ">>> B = False\n",
    "```\n",
    "\n",
    "```python\n",
    ">>> A or B\n",
    "True\n",
    "```\n",
    "\n",
    "```python\n",
    ">>> A and B\n",
    "False\n",
    "```\n",
    "\n",
    "```python\n",
    ">>> not A\n",
    "False\n",
    "```\n",
    "\n",
    "```python\n",
    ">>> not B\n",
    "True\n",
    "```\n",
    "\n",
    "```python\n",
    ">>> A == B\n",
    "False\n",
    "```\n",
    "\n",
    "```python\n",
    ">>> A != B\n",
    "True\n",
    "```\n",
    "\n",
    "Boolean operators such as ```and```, ```or```, ```not``` can be combined with parenthesis to make compound boolean expressions. \n",
    "\n",
    "```python\n",
    ">>> C = False\n",
    ">>> A or (C and B)\n",
    "True\n",
    ">>> (A and B) or C\n",
    "False\n",
    "```"
   ]
  },
  {
   "cell_type": "markdown",
   "metadata": {},
   "source": [
    "A summary of boolean arithmetic and boolean operators is shown in the table below.\n",
    "\n",
    "| A | B | not A | not B | A == B | A =! B | A or B | A and B |\n",
    "| --- | --- | --- | --- | --- | --- | --- | --- |\n",
    "| T   |   F |   F |   T |   F |   T |   T |   F |\n",
    "| F   |   T |   T |   F |   F |   T |   T |   F |\n",
    "| T   |   T |   F |   F |   T |   F |   T |   T |\n",
    "| F   |   F |   T |   T |   T |   F |   F |   F |"
   ]
  },
  {
   "cell_type": "code",
   "execution_count": null,
   "metadata": {},
   "outputs": [],
   "source": []
  }
 ],
 "metadata": {
  "kernelspec": {
   "display_name": "Python 3",
   "language": "python",
   "name": "python3"
  },
  "language_info": {
   "codemirror_mode": {
    "name": "ipython",
    "version": 3
   },
   "file_extension": ".py",
   "mimetype": "text/x-python",
   "name": "python",
   "nbconvert_exporter": "python",
   "pygments_lexer": "ipython3",
   "version": "3.6.4"
  }
 },
 "nbformat": 4,
 "nbformat_minor": 2
}
