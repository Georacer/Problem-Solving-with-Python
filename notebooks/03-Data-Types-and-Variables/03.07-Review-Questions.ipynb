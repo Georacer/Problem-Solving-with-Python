{
 "cells": [
  {
   "cell_type": "markdown",
   "metadata": {},
   "source": [
    "## Review Questions"
   ]
  },
  {
   "cell_type": "markdown",
   "metadata": {
    "latex": {
     "environment": "problems"
    }
   },
   "source": [
    "#### Determine the Data Type\n",
    "\n",
    "Q03.01 Find the data type of ```a``` if ```a=9```\n",
    "\n",
    "Q03.02 Find the data type of ```a``` if ```a=9.```\n",
    "\n",
    "Q03.03 Find the data type of ```a``` if ```a='9.'```\n",
    "\n",
    "Q03.04 Find the data type of ```a``` if ```a=(9)```\n",
    "\n",
    "Q03.05 Find the data type of ```a``` if ```a=False```\n",
    "\n",
    "Q03.06 Find the data type of ```a``` if ```a=[1,2,3]```\n",
    "\n",
    "Q03.07 Find the data type of ```a``` if ```a=(1,2,3)```\n",
    "\n",
    "Q03.08 Find the data type of ```a``` if ```a={'key'=9}```\n",
    "\n",
    "Q03.08 Find the data type of ```a``` if ```a=1 + 9j```"
   ]
  },
  {
   "cell_type": "markdown",
   "metadata": {},
   "source": [
    "#### Numeric Data Types\n",
    "\n",
    "Q03.10 Set ```a=1``` and ```b=2```. What data type is ```a/b```?\n",
    "\n",
    "Q03.11 Set ```a=1``` and ```b=2```. What data type is ```a*b```?\n",
    "\n",
    "Q03.12 What is ```5.1``` plus ```0 + 3j```?\n",
    "\n",
    "Q03.13 What floating point number converts to the boolean ```False?``` Show this in code and the ```bool()``` function.\n",
    "\n",
    "Q03.14 Create the floating point number $0.001 \\times 10^-0.2$ and assign it to the variable ```b```.\n",
    "\n",
    "Q03.15 Show that ```3e2``` is the same as ```3E2``` with the comparison operator ```===```"
   ]
  },
  {
   "cell_type": "markdown",
   "metadata": {},
   "source": [
    "#### Booleans\n",
    "\n",
    "Q03.20 Predict the output if the lines ```n=5``` and ```(n<3) and (n<7)``` are run. Then run the the two lines of code.\n",
    "\n",
    "Q03.21 Predict the output if the lines ```ans='Yes'``` and ```ans=='Yes' or ans='No'```are run. Then run the the two lines of code.\n",
    "\n",
    "Q03.22 Pick a number ```n``` to make the following statement ```True```: ```(2<n) or (n==2+n)```Then run the code to show your number works.\n",
    "\n",
    "Q03.23 Pick a number ```n``` to make the following statement ```False```: ```not (n<6) and (n<4)``` Then run the code to show your number works.\n",
    "\n",
    "Q03.24 Create the floating point number $0.001 \\times 10^-0.2$ and assign it to the variable ```b```.\n",
    "\n",
    "Q03.25 Show that ```(n>5) and (n<=10)``` is equivalent to ```5 < n <= 10``` using the two different numbers for ```n```.\n",
    "\n",
    "Q03.26 Show that ```(n<5) or (n>=10)``` is equivalent to ```not(5 =< n < 10)``` using the two different numbers for ```n```."
   ]
  },
  {
   "cell_type": "markdown",
   "metadata": {},
   "source": [
    "#### Strings\n",
    "\n",
    "Q03.30 "
   ]
  },
  {
   "cell_type": "markdown",
   "metadata": {},
   "source": [
    "#### Lists\n",
    "\n",
    "Q03.40 Create a list that contains the numbers $1$, $2.9 \\times 10^8$, and the word $game$."
   ]
  },
  {
   "cell_type": "markdown",
   "metadata": {},
   "source": [
    "#### Dictionaries\n",
    "\n",
    "Q03.60"
   ]
  },
  {
   "cell_type": "markdown",
   "metadata": {},
   "source": [
    "#### Tuples\n",
    "\n",
    "Q03.70 Create a tuple with the numbers $8$, $9$, and $10$. \n",
    "\n",
    "Q03.71 Create a tuple that has a single entry, the number $10$.\n",
    "\n"
   ]
  },
  {
   "cell_type": "markdown",
   "metadata": {
    "latex": {
     "environment": "problems"
    }
   },
   "source": [
    "#### Errors, Explanations, and Solutions\n",
    "\n",
    "Q03.80 Run the following lines of code and explain the error in your own words, then write the lines of code to run without an error:\n",
    "\n",
    "```python\n",
    "n = 503\n",
    "n[3]\n",
    "```\n",
    "\n",
    "Q03.81 Run the following lines of code and explain the error in your own words, then write the lines of code to run without an error:\n",
    "\n",
    "```python\n",
    "a = 321\n",
    "b = 'go!'\n",
    "c = a + b\n",
    "```\n",
    "\n",
    "Q03.82 Run the following lines of code and explain the error in your own words, then write the lines of code to run without an error:\n",
    "\n",
    "```python\n",
    "d = {one:1, two:2, three:3}\n",
    "d[one]\n",
    "```\n",
    "\n",
    "Q03.83 Run the following lines of code and explain the error in your own words, then write the lines of code to run without an error:\n",
    "\n",
    "```python\n",
    "f = false\n",
    "not f\n",
    "```\n",
    "\n",
    "Q03.84 Run the following lines of code and explain the error in your own words, then write the lines of code to run without an error:\n",
    "\n",
    "```python\n",
    "comp = 0.1 - 4.3i\n",
    "comp + 5\n",
    "```\n",
    "\n",
    "Q03.84 Run the following lines of code and explain the error in your own words, then write the lines of code to run without an error:\n",
    "\n",
    "```python\n",
    "empty = ''\n",
    "bool(empty)\n",
    "```\n",
    "\n",
    "Q03.84 Run the following lines of code and explain the error in your own words, then write the lines of code to run without an error:\n",
    "\n",
    "```python\n",
    "lst = [1,3,5]\n",
    "lst[1:3:2]\n",
    "```\n",
    "\n",
    "Q03.85 Run the following lines of code and explain the error in your own words, then write the lines of code to run without an error:\n",
    "\n",
    "```python\n",
    "dict = ['key': 8, 'pair': 9]\n",
    "dict['key']\n",
    "```"
   ]
  },
  {
   "cell_type": "code",
   "execution_count": null,
   "metadata": {},
   "outputs": [],
   "source": []
  }
 ],
 "metadata": {
  "kernelspec": {
   "display_name": "Python 3",
   "language": "python",
   "name": "python3"
  },
  "language_info": {
   "codemirror_mode": {
    "name": "ipython",
    "version": 3
   },
   "file_extension": ".py",
   "mimetype": "text/x-python",
   "name": "python",
   "nbconvert_exporter": "python",
   "pygments_lexer": "ipython3",
   "version": "3.6.8"
  }
 },
 "nbformat": 4,
 "nbformat_minor": 2
}
