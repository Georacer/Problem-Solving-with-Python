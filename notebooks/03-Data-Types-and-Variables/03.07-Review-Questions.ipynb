{
 "cells": [
  {
   "cell_type": "markdown",
   "metadata": {},
   "source": [
    "## Review Questions"
   ]
  },
  {
   "cell_type": "markdown",
   "metadata": {
    "latex": {
     "environment": "problems"
    }
   },
   "source": [
    "Q03.01 Write two lines of code that pulls out the first three letters of the word \"Problem\" \n",
    "\n",
    "Q03.02 Write two lines of code that pulls out the last four letters of the word \"Problem\"\n",
    "\n",
    "Q03.03 Write two lines of code that pulls out every other letter of the word \"Problem\" starting with the letter \"P\".\n",
    "\n",
    "Q03.04 \n",
    "\n",
    "Q03.05 \n",
    " \n",
    "Q03.06 \n",
    "\n",
    "Q03.07 \n"
   ]
  },
  {
   "cell_type": "markdown",
   "metadata": {
    "latex": {
     "environment": "problems"
    }
   },
   "source": [
    "#### Errors, Explanations, and Solutions\n",
    "\n",
    "Q03.50 Run the following lines of code and explain the error in your own words:\n",
    "\n",
    "```python\n",
    "n = 503\n",
    "n[3]\n",
    "```\n",
    "\n",
    "Q03.51 Run the following lines of code and explain the error in your own words:\n",
    "\n",
    "```python\n",
    "a = 321\n",
    "b = 'go!'\n",
    "c = a + b\n",
    "```\n",
    "\n",
    "Q03.52 Run the following lines of code and explain the error in your own words:\n",
    "\n",
    "```python\n",
    "d = {one:1, two:2, three:3}\n",
    "d[one]\n",
    "```"
   ]
  },
  {
   "cell_type": "code",
   "execution_count": null,
   "metadata": {},
   "outputs": [],
   "source": []
  }
 ],
 "metadata": {
  "kernelspec": {
   "display_name": "Python 3",
   "language": "python",
   "name": "python3"
  },
  "language_info": {
   "codemirror_mode": {
    "name": "ipython",
    "version": 3
   },
   "file_extension": ".py",
   "mimetype": "text/x-python",
   "name": "python",
   "nbconvert_exporter": "python",
   "pygments_lexer": "ipython3",
   "version": "3.6.8"
  }
 },
 "nbformat": 4,
 "nbformat_minor": 2
}
