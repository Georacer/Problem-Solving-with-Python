{
 "cells": [
  {
   "cell_type": "markdown",
   "metadata": {},
   "source": [
    "## Review Questions"
   ]
  },
  {
   "cell_type": "markdown",
   "metadata": {
    "latex": {
     "environment": "problems"
    }
   },
   "source": [
    "#### Determine the Data Type\n",
    "\n",
    "Q03.01 Find the data type of ```a``` if ```a=9```\n",
    "\n",
    "Q03.02 Find the data type of ```a``` if ```a=9.```\n",
    "\n",
    "Q03.03 Find the data type of ```a``` if ```a='9.'```\n",
    "\n",
    "Q03.04 Find the data type of ```a``` if ```a=(9)```\n",
    "\n",
    "Q03.05 Find the data type of ```a``` if ```a=False```\n",
    "\n",
    "Q03.06 Find the data type of ```a``` if ```a=[1,2,3]```\n",
    "\n",
    "Q03.07 Find the data type of ```a``` if ```a=(1,2,3)```\n",
    "\n",
    "Q03.08 Find the data type of ```a``` if ```a={'key'=9}```\n",
    "\n",
    "Q03.08 Find the data type of ```a``` if ```a=1 + 9j```"
   ]
  },
  {
   "cell_type": "markdown",
   "metadata": {},
   "source": [
    "#### Numeric Data Types\n",
    "\n",
    "Q03.10 Set ```a=1``` and ```b=2```. What data type is ```a/b```?\n",
    "\n",
    "Q03.11 Set ```a=1``` and ```b=2```. What data type is ```a*b```?\n",
    "\n",
    "Q03.12 What is ```5.1``` plus ```0 + 3j```?\n",
    "\n",
    "Q03.13 What floating point number converts to the boolean ```False?``` Show this in code and the ```bool()``` function.\n",
    "\n",
    "Q03.14 Create the floating point number $0.001 \\times 10^-0.2$ and assign it to the variable ```b```.\n",
    "\n",
    "Q03.15 Show that ```3e2``` is the same as ```3E2``` with the comparison operator ```===```"
   ]
  },
  {
   "cell_type": "markdown",
   "metadata": {},
   "source": [
    "#### Booleans\n",
    "\n",
    "Q03.20 Predict the output if the lines ```n=5``` and ```(n<3) and (n<7)``` are run. Then run the the two lines of code.\n",
    "\n",
    "Q03.21 Predict the output if the lines ```ans='Yes'``` and ```ans=='Yes' or ans='No'```are run. Then run the the two lines of code.\n",
    "\n",
    "Q03.22 Pick a number ```n``` to make the following statement ```True```: ```(2<n) or (n==2+n)```Then run the code to show your number works.\n",
    "\n",
    "Q03.23 Pick a number ```n``` to make the following statement ```False```: ```not (n<6) and (n<4)``` Then run the code to show your number works.\n",
    "\n",
    "Q03.24 Create the floating point number $0.001 \\times 10^-0.2$ and assign it to the variable ```b```.\n",
    "\n",
    "Q03.25 Show that ```(n>5) and (n<=10)``` is equivalent to ```5 < n <= 10``` using the two different numbers for ```n```.\n",
    "\n",
    "Q03.26 Show that ```(n<5) or (n>=10)``` is equivalent to ```not(5 =< n < 10)``` using the two different numbers for ```n```."
   ]
  },
  {
   "cell_type": "markdown",
   "metadata": {},
   "source": [
    "#### Strings\n",
    "\n",
    "Q03.30 "
   ]
  },
  {
   "cell_type": "markdown",
   "metadata": {},
   "source": [
    "#### Lists\n",
    "\n",
    "Q03.40 Create a list that contains the numbers $1$, $2.9 \\times 10^8$, and the word $game$.\n",
    "\n",
    "Q03.41 Create a list that contains the words $problem$, $solving$, $with$, $python$.\n",
    "\n",
    "Q03.42 Create a list with one value, the number $6$. Convert the list to a boolean with the ```bool()``` function.\n",
    "\n",
    "Q03.43 Create an empty list. Convert the empty list to a boolean with the ```bool()``` function.\n",
    "\n",
    "Q03.44 Create a list with the letters $C$, $D$, and $R$. Pull the letters $C$ and $D$ out of your list with indexing.\n",
    "\n",
    "Q03.45 Create a list with the numbers $1$ to $10$ (counting by ones). Use slicing to pull out the number $5$ from the list.\n",
    "\n",
    "Q03.46 Create a list with the numbers $1$ to $10$ (counting by ones). Use slicing to pull out all of the numbers $5$ or less using list slicing.\n",
    "\n",
    "Q03.47 Create a list with the numbers $1$ to $10$ (counting by ones). Use slicing to pull out all of the numbers $5$ and greater using list slicing.\n",
    "\n",
    "Q03.48 Create a list with the numbers $1$ to $10$ (counting by ones). Use slicing to pull out all of the even numbers from the list.\n",
    "\n",
    "Q03.49 Create a list with the numbers $1$ to $10$ (counting by ones). Use slicing to pull out every odd number from the list.\n",
    "\n",
    "Q03.50 Create a list with the numbers $1$ to $10$ (counting by ones). Use slicing to return the list in reverse order (the returned list starts with $10$ and ends with $1$),"
   ]
  },
  {
   "cell_type": "markdown",
   "metadata": {},
   "source": [
    "#### Dictionaries\n",
    "\n",
    "Q03.60 Create a dictionary called ```capitals``` that contains the states and state capitals. Include ```Washington```, capital ```Olympia``` and ```Oregon```, capital ```Salem```.\n",
    "\n",
    "Q03.61 Create a dictionary called ```capitals``` that contains the states and state capitals. Include ```Washington```, capital ```Olympia``` and ```Oregon```, capital ```Salem```. In the line after the dictionary is created add the state ```New York```, capital ```Albany```.\n",
    "\n",
    "Q03.62 Create a dictionary ```numbers = {'one':1, 'two':2, 'three':3}```. Pull out the number ```'2'``` by calling the key ```'two'```.\n",
    "\n",
    "Q03.63 Create a dictionary ```colors = {'red':'\t#FF0000', 'green':'#008000', 'blue':'#0000FF'}```. Pull out all the keys and add them to a list called ```colors_list``` with the ```.keys()``` method.\n",
    "\n",
    "Q03.64 Create a dictionary ```colors = {'red':'\t#FF0000', 'green':'#008000', 'blue':'#0000FF'}```. Pull out all the values and add them to a list called ```colors_hex``` with the ```.values()``` method.\n",
    "\n",
    "Q03.65 Create a dictionary ```colors = {'red':'\t#FF0000', 'green':'#008000', 'blue':'#0000FF'}```. Pull out all the items from the dictionary and add them to a list called ```color_items``` with the ```.items()``` method.\n",
    "\n",
    "Q03.66 Create a dictionary ```groups = {'solo':1, 'duo':'2'}```. Add the key $trio$ and the corresponding value $3$.\n",
    "\n",
    "Q03.67 Create a dictionary ```groups = {'solo':1, 'duo':'2'}```. Then remove the key ```'duo'``` and the value ```'2'``` so that only ```'solo':1``` remains.\n",
    "\n",
    "Q03.68 Create a dictionary ```college = {'name': 'University of Oregon'}```. Add the following two keys: $abbreviation$, $mascot$ and the corresponding two values: $UofO$, $ducks$."
   ]
  },
  {
   "cell_type": "markdown",
   "metadata": {},
   "source": [
    "#### Tuples\n",
    "\n",
    "Q03.70 Create a tuple with the numbers $8$, $9$, and $10$. \n",
    "\n",
    "Q03.71 Create a tuple that has a single entry, the number $10$.\n",
    "\n",
    "Q03.72 Create a list and a tuple that both contains the values: $one$, $two$ and $three$.   Pull the word $two$ out of both the list and the tuple.\n",
    "\n",
    "Q03.73 Create a list and a tuple that both contains the values: $one$, $two$ and $three$. Try to substitute the number $2$ for the word $two$ in both the list and tuple using indexing (square brackets).\n",
    "\n",
    "Q03.74 Code in the following lines:\n",
    "\n",
    "```python\n",
    "t1 = (9)\n",
    "t2 = (9,)\n",
    "t3 = ('9')\n",
    "```\n",
    "\n",
    "Use Python's ```type()``` function to find the object type of each variable.\n",
    "\n",
    "Q03.75 Create a tuple that returns ```True``` when converted to a boolean. Use the ```bool()``` function to demonstrate your tuple converts to ```True```.\n",
    "\n",
    "Q03.76 Create a tuple that returns ```False``` when converted to a boolean. Use the ```bool()``` function to demonstrate your tuple converts to ```False```.\n",
    "\n"
   ]
  },
  {
   "cell_type": "markdown",
   "metadata": {
    "latex": {
     "environment": "problems"
    }
   },
   "source": [
    "#### Errors, Explanations, and Solutions\n",
    "\n",
    "Q03.80 Run the following lines of code and explain the error in your own words, then write the lines of code to run without an error:\n",
    "\n",
    "```python\n",
    "n = 503\n",
    "n[3]\n",
    "```\n",
    "\n",
    "Q03.81 Run the following lines of code and explain the error in your own words, then write the lines of code to run without an error:\n",
    "\n",
    "```python\n",
    "a = 321\n",
    "b = 'go!'\n",
    "c = a + b\n",
    "```\n",
    "\n",
    "Q03.82 Run the following lines of code and explain the error in your own words, then write the lines of code to run without an error:\n",
    "\n",
    "```python\n",
    "d = {one:1, two:2, three:3}\n",
    "d[one]\n",
    "```\n",
    "\n",
    "Q03.83 Run the following lines of code and explain the error in your own words, then write the lines of code to run without an error:\n",
    "\n",
    "```python\n",
    "f = false\n",
    "not f\n",
    "```\n",
    "\n",
    "Q03.84 Run the following lines of code and explain the error in your own words, then write the lines of code to run without an error:\n",
    "\n",
    "```python\n",
    "comp = 0.1 - 4.3i\n",
    "comp + 5\n",
    "```\n",
    "\n",
    "Q03.84 Run the following lines of code and explain the error in your own words, then write the lines of code to run without an error:\n",
    "\n",
    "```python\n",
    "empty = ''\n",
    "bool(empty)\n",
    "```\n",
    "\n",
    "Q03.84 Run the following lines of code and explain the error in your own words, then write the lines of code to run without an error:\n",
    "\n",
    "```python\n",
    "lst = [1,3,5]\n",
    "lst[1:3:2]\n",
    "```\n",
    "\n",
    "Q03.85 Run the following lines of code and explain the error in your own words, then write the lines of code to run without an error:\n",
    "\n",
    "```python\n",
    "dict = ['key': 8, 'pair': 9]\n",
    "dict['key']\n",
    "```"
   ]
  },
  {
   "cell_type": "code",
   "execution_count": null,
   "metadata": {},
   "outputs": [],
   "source": []
  }
 ],
 "metadata": {
  "kernelspec": {
   "display_name": "Python 3",
   "language": "python",
   "name": "python3"
  },
  "language_info": {
   "codemirror_mode": {
    "name": "ipython",
    "version": 3
   },
   "file_extension": ".py",
   "mimetype": "text/x-python",
   "name": "python",
   "nbconvert_exporter": "python",
   "pygments_lexer": "ipython3",
   "version": "3.6.8"
  }
 },
 "nbformat": 4,
 "nbformat_minor": 2
}
