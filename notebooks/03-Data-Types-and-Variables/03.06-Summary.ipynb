{
 "cells": [
  {
   "cell_type": "markdown",
   "metadata": {},
   "source": [
    "## Summary"
   ]
  },
  {
   "cell_type": "markdown",
   "metadata": {},
   "source": [
    "In this chapter we reviewed a couple of different data types built-in to Python"
   ]
  },
  {
   "cell_type": "markdown",
   "metadata": {},
   "source": [
    "### Key Terms and Concepts"
   ]
  },
  {
   "cell_type": "markdown",
   "metadata": {},
   "source": [
    "variable\n",
    "\n",
    "integer\n",
    "\n",
    "floating point number\n",
    "\n",
    "boolean\n",
    "\n",
    "dictionary\n",
    "\n",
    "tuple\n",
    "\n",
    "list\n",
    "\n",
    "index, indexing"
   ]
  },
  {
   "cell_type": "markdown",
   "metadata": {},
   "source": [
    "### Summary of Python Functions and Commands"
   ]
  },
  {
   "cell_type": "markdown",
   "metadata": {},
   "source": [
    "#### Built-in Data Types\n",
    "\n",
    "| Python Object | Description |\n",
    "| --- | --- |\n",
    "| ```int``` | integer |\n",
    "| ```float``` | floating point number |\n",
    "| ```bool``` | boolean value: True or False |\n",
    "| ```complex``` | complex number, real and imaginary components |\n",
    "| ```str``` | string, sequence of letters, numbers and symbols |\n",
    "| ```list``` | a Python list |\n",
    "| ```dict``` | a Python dictionary |\n",
    "| ```tuple``` | an imutable list |\n",
    "\n",
    "#### Python Functions\n",
    "\n",
    "| Function | Description |\n",
    "| --- | --- |\n",
    "| ```type()``` | ouputs a variable or objects data type |\n",
    "| ```len()``` | return the length of a string\n",
    "| ```str()``` | converts a ```float``` or ```int``` into a ```str``` (string)\n",
    "| ```int()``` | converts a ```float``` or ```str``` into an ```int``` (integer)\n",
    "| ```float()``` | converts an ```int``` or ```str``` into an ```float``` (floating point number)\n",
    "\n",
    "#### Python List Operators\n",
    "\n",
    "| Operator | Description | Example | Result |\n",
    "| --- | --- | ---- | --- |\n",
    "| [ ] | indexing | ```lst[1]``` | ```4``` |\n",
    "| : | start | ```lst[:2]``` | ```[ 2, 4 ]``` |\n",
    "| : | end | ```lst[2:]``` | ```[ 6, 8 ]``` |\n",
    "| : | through | ```lst[0:3]``` | ```[ 2, 4, 6 ]``` |\n",
    "| : | start, step, end+1 | ```lst[0:5:2]``` | ```[2, 6]``` |"
   ]
  },
  {
   "cell_type": "code",
   "execution_count": null,
   "metadata": {},
   "outputs": [],
   "source": []
  }
 ],
 "metadata": {
  "kernelspec": {
   "display_name": "Python 3",
   "language": "python",
   "name": "python3"
  },
  "language_info": {
   "codemirror_mode": {
    "name": "ipython",
    "version": 3
   },
   "file_extension": ".py",
   "mimetype": "text/x-python",
   "name": "python",
   "nbconvert_exporter": "python",
   "pygments_lexer": "ipython3",
   "version": "3.6.5"
  }
 },
 "nbformat": 4,
 "nbformat_minor": 2
}
