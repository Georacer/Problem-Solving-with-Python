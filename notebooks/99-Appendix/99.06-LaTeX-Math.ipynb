{
 "cells": [
  {
   "cell_type": "markdown",
   "metadata": {},
   "source": [
    "## LaTeX Math"
   ]
  },
  {
   "cell_type": "markdown",
   "metadata": {},
   "source": [
    "Latex Math can be included in Jupyter Notebook markdown cells and parts of matplotlib plots. A list of usable LaTeX commands are below\n",
    "\n",
    "```\n",
    "\\frac{}{}\n",
    "^{}\n",
    "_{}\n",
    "\n",
    "\\pi\n",
    "\\delta\n",
    "\\epsilon\n",
    "\\sigma\n",
    "```\n"
   ]
  },
  {
   "cell_type": "code",
   "execution_count": null,
   "metadata": {},
   "outputs": [],
   "source": []
  }
 ],
 "metadata": {
  "kernelspec": {
   "display_name": "Python 3",
   "language": "python",
   "name": "python3"
  },
  "language_info": {
   "codemirror_mode": {
    "name": "ipython",
    "version": 3
   },
   "file_extension": ".py",
   "mimetype": "text/x-python",
   "name": "python",
   "nbconvert_exporter": "python",
   "pygments_lexer": "ipython3",
   "version": "3.6.4"
  }
 },
 "nbformat": 4,
 "nbformat_minor": 2
}
