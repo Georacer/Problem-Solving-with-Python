{
 "cells": [
  {
   "cell_type": "markdown",
   "metadata": {},
   "source": [
    "## LaTeX Math"
   ]
  },
  {
   "cell_type": "markdown",
   "metadata": {},
   "source": [
    "Latex Math can be included in Jupyter Notebook markdown cells as well as in parts of **matplotlib plots** like axis labels and text fields. A table of useful LaTeX commands and the associated output is below:\n",
    "\n",
    "\n",
    "| LaTex Command | Output |\n",
    "| --- | --- |\n",
    "| ```2^{3}``` | $2^{3}$ |\n",
    "| ```H_{2}``` | $H_{2}$ |\n",
    "| ```\\frac{3}{4}``` | $\\frac{3}{4}$ |\n",
    "| ```\\pi``` | $\\pi$ |\n",
    "| ```\\Delta``` | $\\Delta$ |\n",
    "| ```\\epsilon``` | $\\epsilon$ |\n",
    "| ```\\sigma``` | $\\sigma$ |\n",
    "| ```2 \\times 3``` | $2 \\times 3$ |\n",
    "| ```\\int_{a}^{b} x^2 dx ``` | $\\int_{a}^{b} x^2 dx$ |\n",
    "| ```\\sum``` | $\\sum$ |\n",
    "| ```\\vec{F}``` | $\\vec{F}$ |\n",
    "| ```\\hat{k}``` | $\\hat{k}$ |\n",
    "| ```\\bar{x}``` | $\\bar{x}$ |\n",
    "| ```15 \\%``` | $15 \\%$ |"
   ]
  },
  {
   "cell_type": "code",
   "execution_count": null,
   "metadata": {},
   "outputs": [],
   "source": []
  }
 ],
 "metadata": {
  "kernelspec": {
   "display_name": "Python 3",
   "language": "python",
   "name": "python3"
  },
  "language_info": {
   "codemirror_mode": {
    "name": "ipython",
    "version": 3
   },
   "file_extension": ".py",
   "mimetype": "text/x-python",
   "name": "python",
   "nbconvert_exporter": "python",
   "pygments_lexer": "ipython3",
   "version": "3.6.4"
  }
 },
 "nbformat": 4,
 "nbformat_minor": 2
}
