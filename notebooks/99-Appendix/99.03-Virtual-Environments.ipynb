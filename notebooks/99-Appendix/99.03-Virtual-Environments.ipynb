{
 "cells": [
  {
   "cell_type": "markdown",
   "metadata": {},
   "source": [
    "## Virtual Environments"
   ]
  },
  {
   "cell_type": "markdown",
   "metadata": {},
   "source": [
    "Using __virtual environments__ is good standard of practice in Python. A virtual environment is an isolated installation of Python with associated packages. "
   ]
  },
  {
   "cell_type": "markdown",
   "metadata": {},
   "source": [
    "### Create a virtual environment with the Anaconda Prompt\n",
    "\n",
    "To create the new virtual environment, open the **Anaconda Prompt** and issue the command:\n",
    "\n",
    "```text\n",
    "> conda create --name env_name python=3.7\n",
    "```\n",
    "\n",
    "The ```conda create``` command builds the new virtual environment. The ```--name env_name``` flag gives our new virtual environment the name ```env_name```.  Including ```python=3.6``` ensures the virtual environment has a current version of Python. \n",
    "\n",
    "The following output or something similar will result:\n",
    "\n",
    "```text\n",
    "The following NEW packages will be INSTALLED:\n",
    "\n",
    "    certifi:        2016.2.28-py36_0\n",
    "    pip:            9.0.1-py36_1\n",
    "    python:         3.7.1-0\n",
    "    setuptools:     36.4.0-py36_0\n",
    "    vs2015_runtime: 14.0.25420-0\n",
    "    wheel:          0.29.0-py36_0\n",
    "    wincertstore:   0.2-py36_0\n",
    "\n",
    "Proceed ([y]/n)? y\n",
    "```\n",
    "\n",
    "Type ```y``` to confirm and create the new virtual environment. "
   ]
  },
  {
   "cell_type": "markdown",
   "metadata": {},
   "source": [
    "### Activate the virtual environment\n",
    "\n",
    "To use the new virtual environment ```env_name```, it first needs to be activated:\n",
    "\n",
    "```text\n",
    "> conda activate env_name\n",
    "```\n",
    "\n",
    "The virtual environment is active when you see ```(env_name)``` in parenthesis at the start of the prompt:\n",
    "\n",
    "```text\n",
    "(env_name) > \n",
    "```\n",
    "\n",
    "### Install packages in the virtual environment\n",
    "\n",
    "When a new virtual environment is created, no packages will be installed. If you have the Anaconda distribution of Python, the ```base``` environment contains all 200+ packages that come with Anaconda. But a fresh new virtual environment will just have the version of Python installed, no other packages.\n",
    "\n",
    "To install a package into the virtual environment, first make sure the environment is active (```(env_name)``` before the prompt). Package installation is accomplished with the ```conda install``` command followed by the package name. To install matplotlib into the virtual environment type:\n",
    "\n",
    "```text\n",
    "(env_name) > conda install matplotlib\n",
    "```\n",
    "\n",
    "Multiple packages can be installed with the same command. To install both **numpy** and **jupyter** use:\n",
    "\n",
    "```text\n",
    "(env_name) > conda install numpy jupyter\n",
    "```\n"
   ]
  },
  {
   "cell_type": "markdown",
   "metadata": {},
   "source": [
    "### Decative the virtual environment\n",
    "\n",
    "To deactivate an active environment, use:\n",
    "\n",
    "```text\n",
    "(env_name) > conda deactivate\n",
    ">\n",
    "```\n",
    "\n",
    "When the virtual environment is deactivated, the prompt looks normal ```>```, with no environment name in parenthesis before it."
   ]
  },
  {
   "cell_type": "markdown",
   "metadata": {},
   "source": [
    "### List your virtual environments\n",
    "\n",
    "View a list of your virtual environments using the command ```conda info --envs``` or ```conda env list```.\n",
    "\n",
    "```text\n",
    "> conda activate env_name\n",
    "(env_name) > conda info --envs\n",
    "\n",
    "# conda environments:\n",
    "#\n",
    "matplotlib               /home/tribilium/anaconda3/envs/matplotlib\n",
    "env_name               * /home/tribilium/anaconda3/envs/env_name\n",
    "root                     /home/tribilium/anaconda3\n",
    "```\n",
    "\n",
    "Notice the ``` * ``` asterisk on the line with ```env_name```. The virtual environment with the ``` * ``` is currently active. \n",
    "\n",
    "To exit the virtual environment, use the command ``` conda deactivate```. \n",
    "\n",
    "```\n",
    "(env_name) > conda deactive\n",
    "```\n",
    "\n",
    "If you run ```conda env list``` again, there is no ```*``` in front of ```env_name```. That's because the ```env_name``` virtual environment is no longer active.\n",
    "\n",
    "```text\n",
    "> conda env list\n",
    "\n",
    "# conda environments:\n",
    "#\n",
    "matplotlib               /home/tribilium/anaconda3/envs/matplotlib\n",
    "webscrape                /home/tribilium/anaconda3/envs/pelican\n",
    "root                  *  /home/tribilium/anaconda3\n",
    "```"
   ]
  },
  {
   "cell_type": "code",
   "execution_count": null,
   "metadata": {},
   "outputs": [],
   "source": []
  }
 ],
 "metadata": {
  "kernelspec": {
   "display_name": "Python 3",
   "language": "python",
   "name": "python3"
  },
  "language_info": {
   "codemirror_mode": {
    "name": "ipython",
    "version": 3
   },
   "file_extension": ".py",
   "mimetype": "text/x-python",
   "name": "python",
   "nbconvert_exporter": "python",
   "pygments_lexer": "ipython3",
   "version": "3.6.5"
  }
 },
 "nbformat": 4,
 "nbformat_minor": 2
}
