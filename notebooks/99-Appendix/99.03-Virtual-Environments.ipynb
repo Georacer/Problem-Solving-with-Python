{
 "cells": [
  {
   "cell_type": "markdown",
   "metadata": {},
   "source": [
    "## Virtual Environments"
   ]
  },
  {
   "cell_type": "markdown",
   "metadata": {},
   "source": [
    "Using _virtual environments_ is standard practice in Python. A virtual environment is an isolated installation of Python with associated packages. When you use virtual environments, one project can have a separate version of Python and packages. Another project can use a different virtual environment and therefore have a separate version of Python and packages. By utilizing virtual environments, two projects on the same computer can use different versions of Python and different versions of packages."
   ]
  },
  {
   "cell_type": "markdown",
   "metadata": {},
   "source": [
    "### Create a virtual environment with the Anaconda Prompt\n",
    "\n",
    "To create the new virtual environment, open the **Anaconda Prompt** and issue the command:\n",
    "\n",
    "```text\n",
    "> conda create --name env_name python=3.6\n",
    "```\n",
    "\n",
    "The ```conda create``` command builds the new virtual environment. The ```--name env_name``` flag gives the new virtual environment the name ```env_name```.  Including ```python=3.6``` ensures the virtual environment has a current version of Python. \n",
    "\n",
    "The following output or something similar results:\n",
    "\n",
    "```text\n",
    "The following NEW packages will be INSTALLED:\n",
    "\n",
    "    ca-certificates: 2018.03.07-0           \n",
    "    certifi:         2018.11.29-py36_0      \n",
    "    libedit:         3.1.20170329-h6b74fdf_2\n",
    "    libffi:          3.2.1-hd88cf55_4       \n",
    "    libgcc-ng:       8.2.0-hdf63c60_1       \n",
    "    libstdcxx-ng:    8.2.0-hdf63c60_1       \n",
    "    ncurses:         6.1-he6710b0_1         \n",
    "    openssl:         1.1.1a-h7b6447c_0      \n",
    "    pip:             18.1-py36_0            \n",
    "    python:          3.6.8-h0371630_0       \n",
    "    readline:        7.0-h7b6447c_5         \n",
    "    setuptools:      40.6.3-py36_0          \n",
    "    sqlite:          3.26.0-h7b6447c_0      \n",
    "    tk:              8.6.8-hbc83047_0       \n",
    "    wheel:           0.32.3-py36_0          \n",
    "    xz:              5.2.4-h14c3975_4       \n",
    "    zlib:            1.2.11-h7b6447c_3      \n",
    "\n",
    "Proceed ([y]/n)?\n",
    "```\n",
    "\n",
    "Type ```y``` to confirm and create the new virtual environment. "
   ]
  },
  {
   "cell_type": "markdown",
   "metadata": {},
   "source": [
    "### Activate a virtual environment\n",
    "\n",
    "To use the new virtual environment ```env_name```, it first needs to be activated:\n",
    "\n",
    "```text\n",
    "> conda activate env_name\n",
    "```\n",
    "\n",
    "The virtual environment is active when you see ```(env_name) >``` in parenthesis at the start of the prompt:\n",
    "\n",
    "```text\n",
    "(env_name) > \n",
    "```"
   ]
  },
  {
   "cell_type": "markdown",
   "metadata": {},
   "source": [
    "### Install packages in a virtual environment\n",
    "\n",
    "When a new virtual environment is created, no packages are installed by default. If you use the Anaconda distribution of Python, the ```base``` environment contains about 600 packages that come with Anaconda. But a fresh new virtual environment will just have Python installed, no other packages.\n",
    "\n",
    "To install a package into the virtual environment ```(env_name)```, first, make sure the environment is active (```(env_name)``` before the prompt). Package installation is accomplished with the ```conda install``` command followed by the package name. To install Matplotlib into the virtual environment type:\n",
    "\n",
    "```text\n",
    "(env_name) > conda install matplotlib\n",
    "```\n",
    "\n",
    "Multiple packages can be installed with the same command. To install both NumPy and Jupyter use:\n",
    "\n",
    "```text\n",
    "(env_name) > conda install numpy jupyter\n",
    "```"
   ]
  },
  {
   "cell_type": "markdown",
   "metadata": {},
   "source": [
    "### Deactivate a virtual environment\n",
    "\n",
    "To deactivate an active environment, use:\n",
    "\n",
    "```text\n",
    "(env_name) > conda deactivate\n",
    ">\n",
    "```\n",
    "\n",
    "When the virtual environment is deactivated, the prompt looks normal ```>```, with no environment name in parenthesis before it."
   ]
  },
  {
   "cell_type": "markdown",
   "metadata": {},
   "source": [
    "### List your virtual environments\n",
    "\n",
    "View a list of your virtual environments using the command ```conda info --envs``` or ```conda env list```.\n",
    "\n",
    "```text\n",
    "> conda activate env_name\n",
    "(env_name) > conda info --envs\n",
    "\n",
    "# conda environments:\n",
    "#\n",
    "base                     /home/tribilium/anaconda3\n",
    "env_name               * /home/tribilium/anaconda3/envs/env_name\n",
    "matplotlib               /home/tribilium/anaconda3/envs/matplotlib\n",
    "```\n",
    "\n",
    "Notice the ``` * ``` asterisk on the line with ```env_name```. The virtual environment with the ``` * ``` is currently active. \n",
    "\n",
    "To exit the virtual environment, use the command ``` conda deactivate```. \n",
    "\n",
    "```text\n",
    "(env_name) > conda deactive\n",
    "```\n",
    "\n",
    "If you run ```conda env list``` again, there is no ```*``` in front of ```env_name```. That's because the ```env_name``` virtual environment is no longer active.\n",
    "\n",
    "```text\n",
    "> conda env list\n",
    "\n",
    "# conda environments:\n",
    "#\n",
    "base                  *  /home/tribilium/anaconda3\n",
    "env_name                 /home/tribilium/anaconda3/envs/env_name\n",
    "matplotlib               /home/tribilium/anaconda3/envs/matplotlib\n",
    "\n",
    "```"
   ]
  },
  {
   "cell_type": "markdown",
   "metadata": {},
   "source": [
    "### Remove a virtual environment\n",
    "\n",
    "Remove a virtual environment with the command ```conda remove --name env_name --all```. Exit out of the environment to want to remove before you remove it.\n",
    "\n",
    "Check to see if the virtual environment you want to remove is present:\n",
    "\n",
    "```text\n",
    "> conda env list\n",
    "\n",
    "# conda environments:\n",
    "#\n",
    "base                  *  /home/tribilium/anaconda3\n",
    "env_name                 /home/tribilium/anaconda3/envs/env_name\n",
    "matplotlib               /home/tribilium/anaconda3/envs/matplotlib\n",
    "\n",
    "```\n",
    "\n",
    "Remove the virtual environment called ```env_name```.\n",
    "\n",
    "```text\n",
    "> conda remove --name env_name --all\n",
    "\n",
    "Proceed ([y]/n)?\n",
    "```\n",
    "\n",
    "Type [y] to remove the environment. View a list of your virtual environments again. Note that ```env_name```is no longer in the list.\n",
    "\n",
    "```text\n",
    "> conda env list\n",
    "\n",
    "# conda environments:\n",
    "#\n",
    "base                  *  /home/tribilium/anaconda3\n",
    "matplotlib               /home/tribilium/anaconda3/envs/matplotlib\n",
    "\n",
    "```"
   ]
  },
  {
   "cell_type": "code",
   "execution_count": null,
   "metadata": {},
   "outputs": [],
   "source": []
  }
 ],
 "metadata": {
  "kernelspec": {
   "display_name": "Python 3",
   "language": "python",
   "name": "python3"
  },
  "language_info": {
   "codemirror_mode": {
    "name": "ipython",
    "version": 3
   },
   "file_extension": ".py",
   "mimetype": "text/x-python",
   "name": "python",
   "nbconvert_exporter": "python",
   "pygments_lexer": "ipython3",
   "version": "3.6.8"
  }
 },
 "nbformat": 4,
 "nbformat_minor": 2
}
