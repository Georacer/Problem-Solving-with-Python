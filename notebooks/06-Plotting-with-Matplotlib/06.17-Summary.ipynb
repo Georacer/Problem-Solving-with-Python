{
 "cells": [
  {
   "cell_type": "markdown",
   "metadata": {
    "latex": {
     "before_cell": "newpage"
    }
   },
   "source": [
    "## Summary"
   ]
  },
  {
   "cell_type": "markdown",
   "metadata": {},
   "source": [
    "In this chapter, you learned how to create plots using Python and Matplotlib. You learned what Matplotlib is and why problem solvers should learn how to use Matplotlib. How to install Matplotlib on your computer was shown at the start of the chapter. You learned how to customize Matplotlib plots and save plots as images. You learned how to include axis label, titles, and legends on your plots. You also learned how to add annotations to plots.\n",
    "\n",
    "Types of charts detailed in this chapter:\n",
    " * line plots\n",
    " * multiline plots\n",
    " * bar graphs\n",
    " * pie charts\n",
    " * bar and line graphs with error bars\n",
    " * scatter plots\n",
    " * histograms\n",
    " * box plots and violin plots\n",
    " * contour plots\n",
    " * quiver plots\n",
    " * stream plots\n",
    " * 3D surface plots\n",
    " * 3D wire frame plots\n",
    " * 3D surface plots with projections\n"
   ]
  },
  {
   "cell_type": "markdown",
   "metadata": {},
   "source": [
    "### Key Terms and Concepts"
   ]
  },
  {
   "cell_type": "markdown",
   "metadata": {
    "latex": {
     "environment": "key_terms"
    }
   },
   "source": [
    "plot\n",
    "\n",
    "install\n",
    "\n",
    "invoke\n",
    "\n",
    "library\n",
    "\n",
    "parameters\n",
    "\n",
    "RGBA\n",
    "\n",
    "object\n",
    "\n",
    "attribute\n",
    "\n",
    "object-oriented programming\n",
    "\n",
    "method\n",
    "\n",
    "image resolution\n",
    "\n",
    "error bars\n",
    "\n",
    "box plot\n",
    "\n",
    "violin plot\n",
    "\n",
    "histogram\n",
    "\n",
    "annotation\n",
    "\n",
    "reference frame\n",
    "\n",
    "contour plot\n",
    "\n",
    "quiver plot\n",
    "\n",
    "stream plot\n",
    "\n",
    "gradient\n",
    "\n",
    "field\n",
    "\n",
    "wireframe plot\n",
    "\n",
    "projection"
   ]
  },
  {
   "cell_type": "markdown",
   "metadata": {},
   "source": [
    "### Additional Resources"
   ]
  },
  {
   "cell_type": "markdown",
   "metadata": {},
   "source": [
    "Matplotlib official documentation: [https://matplotlib.org/contents.html](https://matplotlib.org/contents.html)\n",
    "\n",
    "Matplotlib summary notebook on Kaggle: [https://www.kaggle.com/grroverpr/matplotlib-plotting-guide/notebook](https://www.kaggle.com/grroverpr/matplotlib-plotting-guide/notebook)\n",
    "\n",
    "Python Plotting With Matplotlib (Guide) on Real Python: [https://realpython.com/python-matplotlib-guide/#why-can-matplotlib-be-confusing](https://realpython.com/python-matplotlib-guide/#why-can-matplotlib-be-confusing)\n",
    "\n",
    "Python For Data Science: Matplotlib Cheat Sheet from DataCamp: [https://s3.amazonaws.com/assets.datacamp.com/blog_assets/Python_Matplotlib_Cheat_Sheet.pdf](https://s3.amazonaws.com/assets.datacamp.com/blog_assets/Python_Matplotlib_Cheat_Sheet.pdf)"
   ]
  },
  {
   "cell_type": "code",
   "execution_count": null,
   "metadata": {},
   "outputs": [],
   "source": []
  }
 ],
 "metadata": {
  "celltoolbar": "Edit Metadata",
  "kernelspec": {
   "display_name": "Python 3",
   "language": "python",
   "name": "python3"
  },
  "language_info": {
   "codemirror_mode": {
    "name": "ipython",
    "version": 3
   },
   "file_extension": ".py",
   "mimetype": "text/x-python",
   "name": "python",
   "nbconvert_exporter": "python",
   "pygments_lexer": "ipython3",
   "version": "3.6.4"
  }
 },
 "nbformat": 4,
 "nbformat_minor": 2
}
