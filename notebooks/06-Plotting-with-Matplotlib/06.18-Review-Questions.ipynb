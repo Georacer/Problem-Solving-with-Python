{
 "cells": [
  {
   "cell_type": "markdown",
   "metadata": {},
   "source": [
    "## Review Questions"
   ]
  },
  {
   "cell_type": "markdown",
   "metadata": {},
   "source": [
    "#### Line plots"
   ]
  },
  {
   "cell_type": "markdown",
   "metadata": {
    "latex": {
     "environment": "problems"
    }
   },
   "source": [
    "Q06.01 Create a plot of the function $y=\\cos(x)$ from $x = -2\\pi$ to $2\\pi$\n",
    "\n",
    "Q06.02 Create a plot of the function $y=\\frac{1}{2}{e^x}$ from $x = 0$ to $5$\n",
    "\n",
    "Q06.03 Create a plot of the function $y=\\sqrt{2x}$ from $x = 1$ to $10$\n",
    "\n",
    "Q06.04 Create a plot of the function $y=mx+b$, where $m=-1$ and $b=-4$. Limit the plot to values of $x=-5$ to $5$.\n",
    "\n",
    "Q06.05 Create a plot of the function $y=ax^2+bx+c$, where $a=1/2$, $b=-1/3$ and $c=4$. Limit the plot to values of $x=-10$ to $x=10$ \n",
    "\n",
    "Q06.06 Create a plot of the function $y=x^3+3$ from $x=-3$ to $x=3$.\n",
    "\n",
    "Q06.07 Create a plot of the function $y=2x^3-9x^2+7x+6$ from $x=-3$ to $x=4$.\n",
    "\n",
    "Q06.08 Plot the data set below with a line plot. Use Matplotlib's default index system, or create a set of x values from $x=0$ to $x = 4$.\n",
    "\n",
    "$$ y = [-1, 2, -3, 1, 0] $$\n",
    "\n",
    "Q06.09 Plot the following three functions on the same set of axis. Use a different color line for each function.\n",
    "\n",
    "$$ x = \\cos(t) $$\n",
    "\n",
    "$$ y = \\cos(t/2) $$\n",
    "\n",
    "$$ z = \\cos(\\sqrt(t)) $$\n",
    "\n",
    "Set values of $t=-4\\pi$ to $4\\pi$\n",
    "\n",
    "Q06.10 Plot the following three functions on the same set of axis. Use a thick red line for the $\\cos$ function. A line blue line for the $\\sin$ function and a dashed green line for the $atan$ function (the arc tangent function).\n",
    "\n",
    "$$ x = \\cos(r/10) $$\n",
    "\n",
    "$$ y = \\sin(r/4) $$\n",
    "\n",
    "$$ z = atan(r) $$\n",
    "\n",
    "Set values of $r=-1/2$ to $1/2$"
   ]
  },
  {
   "cell_type": "markdown",
   "metadata": {},
   "source": [
    "#### Bar Charts and Pie Charts"
   ]
  },
  {
   "cell_type": "markdown",
   "metadata": {
    "latex": {
     "environment": "problems"
    }
   },
   "source": [
    "Q06.30 According to the University of Waterloo, world energy consumption in 2006 from the 5 top energy resources were:\n",
    "\n",
    "$$ Natural \\ Gas = 24\\% $$\n",
    "\n",
    "$$ Hydro = 6\\% $$\n",
    "\n",
    "$$ Nuclear = 6\\% $$\n",
    "\n",
    "$$ Oil = 36\\% $$\n",
    "\n",
    "$$ Coal = 28\\% $$\n",
    "\n",
    "Build a pie chart of distribution of world energy consumption based on the data above.\n",
    "\n",
    "Q06.31 According to the 2017 Python Developer's Survey. The computer operating system used by Python Developers breaks down as follows\n",
    "\n",
    "$$ Windows = 49\\% $$\n",
    "\n",
    "$$ Linux = 19\\% $$\n",
    "\n",
    "$$ MacOS = 15\\% $$\n",
    "\n",
    "$$ Other = 17\\% $$\n",
    "\n",
    "Build a pie chart of the computer operating system used by Python Developers in 2017.\n",
    "\n",
    "Q06.32 According to the 2017 Python Developer's Survey. The commercial cloud providers used by Python Developers breaks down as follows:\n",
    "\n",
    "$$ Amazon Web Services = 67\\% $$\n",
    "\n",
    "$$ Google Cloud = 29\\% $$\n",
    "\n",
    "$$ Heroku = 26\\% $$\n",
    "\n",
    "$$ Digital Ocean = 23\\% $$\n",
    "\n",
    "$$ Microsoft Azure = 16\\% $$\n",
    "\n",
    "$$ Other = 13\\% $$\n",
    "\n",
    "Build a pie chart of the commercial cloud providers used by Python Developers in 2017.\n",
    "\n",
    "Q06.33 Create a plot of the function $y=\\sqrt{2x}$ from $x = 1$ to $10$\n",
    "\n",
    "Q06.35 A list of grades in a college engineering course and the corresponding number of students who earned each grade is shown below:\n",
    "\n",
    "```text\n",
    "grades = ['A','B','C','D','F']\n",
    "\n",
    "number_of_students =[3, 5, 8, 1, 2]\n",
    "```\n",
    "\n",
    "Build a bar plot of the grade distribution from the college engineering class. \n",
    "\n",
    "Q06.36 The proof strength of four different grades of bolts is shown below:\n",
    "\n",
    "| Bolt Type | Proof Strength (psi) |\n",
    "| --- | --- |\n",
    "| Grade 2 | 33,000 psi |\n",
    "| Grade 5 | 74,000 psi |\n",
    "| Grade 8 | 120,000 psi |\n",
    "| Grade A325 | 85,000 psi |\n",
    "\n",
    "Build a bar chart of the proof strength of the four types of bolts. Include labels on the x-axis and y-axis. Include a title.\n",
    "\n",
    "Q06.37 According to the 2017 Python Developer's Survey, the IDE (Integrated Development Environment) used by _Scientific_ Python Developers breaks down as follows:\n",
    "\n",
    "$$ PyCharm \\ Professional = 12\\% $$\n",
    "\n",
    "$$ PyCharm \\ CE = 17\\% $$\n",
    "\n",
    "$$ Sublime \\ Text = 9\\% $$\n",
    "\n",
    "$$ Vim = 8\\% $$\n",
    "\n",
    "$$ IDLE = 7\\% $$\n",
    "\n",
    "$$ Atom = 7\\% $$\n",
    "\n",
    "$$ VS \\ Code = 6\\% $$\n",
    "\n",
    "$$ Notepad \\ ++ = 6\\% $$\n",
    "\n",
    "$$ Eclipse = 3\\% $$\n",
    "\n",
    "$$ Emacs = 3\\% $$\n",
    "\n",
    "Build a bar chart of the IDE's used by Python Developers in 2017.\n",
    "\n",
    "Q06.38 Create a plot of the function $y=x^3+3$ from $x=-3$ to $x=3$.\n",
    "\n",
    "Q06.39 The tensile strength of 4 steel heat treatments is below.\n",
    "\n",
    "| Heat Treatment | Tensile Strength (MPa) |\n",
    "| --- | --- |\n",
    "| Annealed | 390 MPa |\n",
    "| Normalized | 452 MPa |\n",
    "| Oil Quench | 734 MPa\n",
    "| Oil Quench and Temper | 422 MPa |\n",
    "\n",
    "Build a bar plot of tensile strength vs. heat treatment using the data above.\n"
   ]
  },
  {
   "cell_type": "markdown",
   "metadata": {},
   "source": [
    "#### Errors, Explainations, and Solutions\n",
    "\n",
    "Q06.80\n",
    "\n",
    "Q06.81\n",
    "\n",
    "Q06.82\n",
    "\n",
    "Q06.83\n",
    "\n",
    "Q06.84"
   ]
  },
  {
   "cell_type": "code",
   "execution_count": null,
   "metadata": {},
   "outputs": [],
   "source": []
  }
 ],
 "metadata": {
  "celltoolbar": "Edit Metadata",
  "kernelspec": {
   "display_name": "Python 3",
   "language": "python",
   "name": "python3"
  },
  "language_info": {
   "codemirror_mode": {
    "name": "ipython",
    "version": 3
   },
   "file_extension": ".py",
   "mimetype": "text/x-python",
   "name": "python",
   "nbconvert_exporter": "python",
   "pygments_lexer": "ipython3",
   "version": "3.6.8"
  }
 },
 "nbformat": 4,
 "nbformat_minor": 2
}
