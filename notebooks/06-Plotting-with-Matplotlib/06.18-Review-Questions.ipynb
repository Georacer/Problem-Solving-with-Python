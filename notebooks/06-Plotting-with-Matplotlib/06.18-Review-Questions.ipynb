{
 "cells": [
  {
   "cell_type": "markdown",
   "metadata": {},
   "source": [
    "## Review Questions"
   ]
  },
  {
   "cell_type": "markdown",
   "metadata": {
    "latex": {
     "environment": "problems"
    }
   },
   "source": [
    "Q06.01\n",
    "\n",
    "Q06.02\n",
    "\n",
    "Q06.03\n",
    "\n",
    "Q06.04\n",
    "\n",
    "Q06.05\n",
    "\n",
    "Q06.06\n",
    "\n",
    "Q06.07\n",
    "\n",
    "Q06.08\n",
    "\n",
    "Q06.09"
   ]
  },
  {
   "cell_type": "markdown",
   "metadata": {},
   "source": [
    "#### Errors, Explainations, and Solutions\n",
    "\n",
    "Q06.80\n",
    "\n",
    "Q06.81\n",
    "\n",
    "Q06.82\n",
    "\n",
    "Q06.83\n",
    "\n",
    "Q06.84"
   ]
  },
  {
   "cell_type": "code",
   "execution_count": null,
   "metadata": {},
   "outputs": [],
   "source": []
  }
 ],
 "metadata": {
  "kernelspec": {
   "display_name": "Python 3",
   "language": "python",
   "name": "python3"
  },
  "language_info": {
   "codemirror_mode": {
    "name": "ipython",
    "version": 3
   },
   "file_extension": ".py",
   "mimetype": "text/x-python",
   "name": "python",
   "nbconvert_exporter": "python",
   "pygments_lexer": "ipython3",
   "version": "3.6.4"
  }
 },
 "nbformat": 4,
 "nbformat_minor": 2
}
