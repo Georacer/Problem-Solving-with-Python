{
 "cells": [
  {
   "cell_type": "markdown",
   "metadata": {},
   "source": [
    "## Line Plots"
   ]
  },
  {
   "cell_type": "markdown",
   "metadata": {},
   "source": [
    "Line plots can be created with Python using Matplotlib's ```pyplot``` library."
   ]
  },
  {
   "cell_type": "markdown",
   "metadata": {},
   "source": [
    "To build a line plot, first import Matplotlib.  It is a standard convention to import Matplotlib's ```pyplot``` library as ```plt```. The ```plt``` alias will be familiar to other Python programmers.\n",
    "\n",
    "If using a Jupyter notebook include the line ```%matplotlib inline``` after the imports. ```%matplotlib inline``` is a Jupyter notebook magic command which causes Matplotlib plots to display directly inside Jupyter notebook output cells. \n",
    "\n",
    "We will also use NumPy, a numerical computing library for Python, to build the plot. NumPy is typically imported with the alias ```np```."
   ]
  },
  {
   "cell_type": "code",
   "execution_count": 5,
   "metadata": {},
   "outputs": [],
   "source": [
    "import matplotlib.pyplot as plt\n",
    "import numpy as np\n",
    "# include if using a Jupyter notebook\n",
    "%matplotlib inline"
   ]
  },
  {
   "cell_type": "markdown",
   "metadata": {},
   "source": [
    "NumPy's ```arange()``` function creates an array of numbers with the parameters ```arange(start,stop,step)```. NumPy's ```sin()``` and ```pi``` functions do what you expect."
   ]
  },
  {
   "cell_type": "code",
   "execution_count": 6,
   "metadata": {},
   "outputs": [],
   "source": [
    "x = np.arange(0, 4 * np.pi, 0.1)\n",
    "y = np.sin(x)"
   ]
  },
  {
   "cell_type": "markdown",
   "metadata": {},
   "source": [
    "To create a line plot, pass an array of numbers as an _argument_ to Matplotlib's ```plt.plot()``` function. The command ```plt.show()``` is needed at the end to show the plot. Make sure to include the double parenthesis ```()``` in ```plt.show()```."
   ]
  },
  {
   "cell_type": "code",
   "execution_count": 7,
   "metadata": {},
   "outputs": [
    {
     "data": {
      "image/png": "[encoded data removed]",
      "text/plain": [
       "<Figure size 432x288 with 1 Axes>"
      ]
     },
     "metadata": {},
     "output_type": "display_data"
    }
   ],
   "source": [
    "plt.plot(x, y)\n",
    "plt.show()"
   ]
  },
  {
   "cell_type": "markdown",
   "metadata": {},
   "source": [
    "### Features of a Matplotlib plot"
   ]
  },
  {
   "cell_type": "markdown",
   "metadata": {},
   "source": [
    "A variety of features on a Matplotlib plot can be specified. The following is a list of commonly specified features:"
   ]
  },
  {
   "cell_type": "markdown",
   "metadata": {},
   "source": [
    "#### Line Color, Line Width, Line Style, Line Opacity and Marker Options\n",
    "\n",
    "The color, width and style of line in a plot can be specificed. Line color, line width and line style are included as extra arguments in the ```plt.plot()``` function call.\n",
    "\n",
    "```python\n",
    "plt.plot(<x-data>,<y-data>,\n",
    "            linewideth=<float or int>,\n",
    "            linestyle='<linestyle abbreviation>',\n",
    "            color='<color abbreviation>',\n",
    "            marker='<marker abbreviation>')\n",
    "```\n",
    "\n",
    "An example ```plt.plot()``` line including line color, line width and line style options is:\n",
    "\n",
    "```python\n",
    "plt.plot(x, y,\n",
    "         linewidth=2.0,\n",
    "         linestyle='+',\n",
    "         color='b',\n",
    "         alpha=0.5,\n",
    "         marker='o')\n",
    "```\n",
    "\n",
    "Below is a list of linewidths (many other widths are also available)\n",
    "\n",
    "|```linewidth=<float or int>``` | Line Width |\n",
    "| --- | --- |\n",
    "| 0.5 | 0.5 pixels wide |\n",
    "| 1   | 1 pixel wide |\n",
    "| 1.5 | 1.5 pixels wide |\n",
    "| 2   | 2 pixels wide |\n",
    "| 3 | 3 pixels wide |\n",
    "\n",
    "Below is a list of line styles\n",
    "\n",
    "|```linestyle='<style abbreviation>'``` | Line Style |\n",
    "| --- | --- |\n",
    "|```'-'``` or ```'solid'``` | \tsolid line (default) |\n",
    "|```'--'``` or ```'dashed'``` | \tdashed line |\n",
    "|```'-.'``` or ```'dashdot'``` | \tdash-dot line |\n",
    "|```':'``` or ```'dotted'``` | \tdotted line |\n",
    "|```'None'``` or ```' '``` or ```''``` |\tno line |\n",
    "\n",
    "\n",
    "Below is a list of color abbreviations. Note ```'b'``` is used for blue and ```'k'``` is used for black.\n",
    "\n",
    "| ```color ='<color abbreviation>'``` | Color Name |\n",
    "| --- | --- |\n",
    "| ```'b'``` | Blue\n",
    "| ```'c'``` | Cyan |\n",
    "| ```'g'``` | Green |\n",
    "| ```'k'``` | Black |\n",
    "| ```'m'``` | magenta |\n",
    "| ```'r'``` | Red |\n",
    "| ```'w'``` | White |\n",
    "| ```'y'``` | Yellow |\n",
    "\n",
    "Below is a list of alpha (opacity) values (any alpha value between 0.0 and 1.0 is possible)\n",
    "\n",
    "| ```alpha = <float or int>``` | Opacity |\n",
    "| --- | --- |\n",
    "| ```0``` | transparent |\n",
    "| ```0.5``` | Half transparent |\n",
    "| ```1.0``` | Opaque |\n",
    "\n",
    "Colors can also be specified in hexadecimal form surrounded by quotation marks like ```'#FF69B4'``` or in RGBA (red,green,blue,opacity) color surrounded by parenthesis like ```(255,182,193,0.5)```.\n",
    "\n",
    "| ```color ='<color abbreviation>'``` | Color Format |\n",
    "| --- | --- |\n",
    "| ```'#FF69B4'``` | hexadecimal |\n",
    "| ```(255,182,193,0.5)``` | RGBA |\n",
    "\n",
    "Below is a list of maker styles\n",
    "\n",
    "|```marker='<marker abbreviation>'``` | Marker Style |\n",
    "| --- | --- |\n",
    "|```\".\"``` |\tpoint |\n",
    "|```\",\"``` |\tone pixel |\n",
    "|```\"o\"``` |\tcircle |\n",
    "|```\"v\"``` |\ttriangle_down |\n",
    "|```\"^\"``` |\ttriangle_up |\n",
    "|```\"8\"``` |\toctagon |\n",
    "|```\"s\"``` |\tsquare |\n",
    "|```\"p\"``` |\tpentagon |\n",
    "|```\"*\"``` |\tstar |\n",
    "|```\"h\"``` |\thexagon 1 |\n",
    "|```\"H\"``` |\thexagon 2 |\n",
    "|```\"+\"``` |\tplus |\n",
    "|```\"P\"``` |\tfilled plus |\n",
    "|```\"x\"``` |\tx |\n",
    "|```\"X\"``` |\tfilled x|  \n",
    "|```\"D\"``` |\tdiamond |\n",
    "|```\"d\"```|\tthin diamond |\n",
    "\n",
    "In addition to ```marker='<marker style>'```, the color of the marker edge, the color of the marker face and the size of the marker can be specificed with:\n",
    "\n",
    "```python\n",
    "plt.plot( .... \n",
    "         \n",
    "         markeredgecolor='<color abbreviation>',\n",
    "         markerfacecolor='<color abbreviation>',\n",
    "         markersize=<float or int>....)\n",
    "```"
   ]
  },
  {
   "cell_type": "markdown",
   "metadata": {},
   "source": [
    "#### Title\n",
    "\n",
    "The plot title will be shown above the plot. The ```plt.title()``` command accepts a string as an argument.\n",
    "\n",
    "```python\n",
    "plt.title('My Title')\n",
    "```"
   ]
  },
  {
   "cell_type": "markdown",
   "metadata": {},
   "source": [
    "#### x-axis label\n",
    "\n",
    "The x-axis label is shown below the x-axis. The ```plt.xlabel()``` command accepts a string as an argument.\n",
    "\n",
    "```python\n",
    "plt.xlabel('My x-axis label')\n",
    "```"
   ]
  },
  {
   "cell_type": "markdown",
   "metadata": {},
   "source": [
    "#### y-axis label\n",
    "\n",
    "The y-axis label is shown to the left of the y-axis. The ```plt.ylabel()``` command accepts a string as an argument.\n",
    "\n",
    "```python\n",
    "plt.ylabel('My y-axis label')\n",
    "```\n",
    "\n"
   ]
  },
  {
   "cell_type": "markdown",
   "metadata": {},
   "source": [
    "#### Legend\n",
    "\n",
    "You can use the ```plt.legend()``` command to insert a legend on a plot. The legend will appear within the plot area, in the upper right corner by default. The ```plt.legend()``` command accepts a list of strings and optionally accepts a ```loc= ``` argument to position the legend in a different location\n",
    "\n",
    "```python\n",
    "plt.legend(['entry1','entry2'], loc = 0)\n",
    "```\n",
    "\n",
    "The following are the location codes for the legend location. These numbers need to be placed after ```loc= ``` in the ```plt.legend()``` call.\n",
    "\n",
    "| Legend Location | ```loc = <number>``` \"|\n",
    "| --- | --- |\n",
    "|‘best’| \t0|\n",
    "|‘upper right’| \t1|\n",
    "|‘upper left’| \t2|\n",
    "|‘lower left’| \t3|\n",
    "|‘lower right’| \t4|\n",
    "|‘right’| \t5|\n",
    "|‘center left’| \t6|\n",
    "|‘center right’| \t7|\n",
    "|‘lower center’ |\t8|\n",
    "|‘upper center’ |\t9|\n",
    "|‘center’ \t|10|"
   ]
  },
  {
   "cell_type": "markdown",
   "metadata": {},
   "source": [
    "#### Grid\n",
    "\n",
    "A grid can be shown on the plot using the ```plt.grid()``` command. By defaut, the grid is turned off. To turn on the grid use:\n",
    "\n",
    "```python\n",
    "plt.grid(True)\n",
    "```\n",
    "\n",
    "The only valid options are ```plt.grid(True)``` and ```plt.grid(False)```. Note that ```True``` and ```False``` are capitalized and are not enclosed in quotations."
   ]
  },
  {
   "cell_type": "markdown",
   "metadata": {},
   "source": [
    "### Line Plot with specified features"
   ]
  },
  {
   "cell_type": "markdown",
   "metadata": {},
   "source": [
    "Line plots with the specified features above are constructed  in Python according to this general outline:\n",
    "\n",
    "1. Imports\n",
    "2. Define data\n",
    "3. Plot Data including options\n",
    "4. Add plot details\n",
    "5. Show the plot\n",
    "\n",
    "Details of each step is explained below\n",
    "\n",
    "#### 1. Imports\n",
    "\n",
    "Import ```matplot.pyplot as plt```, as well as any other modules needed to work with the data such as NumPy or Pandas. If using a Jupyter notebook include the line ```%matplotlib inline``` in the import section.\n",
    "\n",
    "#### 2. Define data\n",
    "\n",
    "Your plot needs to contain something. This is defined after the imports. Typically data for plots is contained in Python lists, NumPy arrays or Pandas dataframes.\n",
    "\n",
    "#### 3. Plot data including options\n",
    "\n",
    "Use ```plt.plot()``` to plot the data defined you defined. Note the ```plt.plot()``` line needs to be called before any other plot details are specified. Otherwise the details have no plot to apply to.\n",
    "\n",
    "Besides the data, arguments in ```plt.plot()``` call can include:\n",
    "\n",
    " * ```linewideth= <float or int>```\n",
    " * ```linestyle='<linestyle abbreviation>'```\n",
    " * ```color='<color abbreviation>'```\n",
    " * ```alpha= <float or int>```\n",
    " * ```marker='<marker abbreviation>'```\n",
    " * ```markeredgecolor='<color abbreviation>'```\n",
    " * ```markerfacecolor='<color abbreviation>'```\n",
    " * ```markersize=<float or int>```\n",
    "\n",
    "#### 4. Add plot details\n",
    "\n",
    "Add details such as a title, axis labels, legend and a grid. Plot details to add include:\n",
    "\n",
    "* ```plt.title('<title string>')```\n",
    "* ```plt.xlabel('<x-axis label string>')```\n",
    "* ```plt.ylabel('<y-axis label string>')```\n",
    "* ```plt.legend(['list','of','strings'])```\n",
    "* ```ptl.grid(<True or False>)```\n",
    "* ```plt.xticks([list of tick locations, floats or ints],[list of tick labels, strings]```\n",
    "* ```plt.yticks([list of tick locations, floats or ints],[list of tick labels, strings]```\n",
    "\n",
    "\n",
    "#### 5. Show the plot\n",
    "\n",
    "Use the ```plt.show()``` command to show the plot. ```plt.show()``` causes the plot to display in a Jupyter notebook or pop out as a new window if the plot is constructed in a separate **_.py_** file. Note that ```plt.show()``` needs to be called after all of the plot specifications."
   ]
  },
  {
   "cell_type": "markdown",
   "metadata": {},
   "source": [
    "A section of code following this outline and the resulting plot is shown below:"
   ]
  },
  {
   "cell_type": "code",
   "execution_count": 8,
   "metadata": {},
   "outputs": [
    {
     "data": {
      "image/png": "[encoded data removed]",
      "text/plain": [
       "<Figure size 432x288 with 1 Axes>"
      ]
     },
     "metadata": {},
     "output_type": "display_data"
    }
   ],
   "source": [
    "# Imports\n",
    "import numpy as np\n",
    "import matplotlib.pyplot as plt\n",
    "# Include if using a jupyter notebook. Remove if using a .py-file.\n",
    "%matplotlib inline\n",
    "\n",
    "# Define data\n",
    "x = np.arange(0, 4 * np.pi, 0.2)\n",
    "y = np.sin(x)\n",
    "\n",
    "# Plot data including options\n",
    "plt.plot(x, y,\n",
    "    linewidth=0.5,\n",
    "    linestyle='--',\n",
    "    color='r',\n",
    "    marker='o',\n",
    "    markersize=10,\n",
    "    markerfacecolor=(1, 0, 0, 0.1))\n",
    "\n",
    "# Add plot details\n",
    "plt.title('Plot of sin(x) vs x from 0 to 4 pi')\n",
    "plt.xlabel('x (0 to 4 pi)')\n",
    "plt.ylabel('sin(x)')\n",
    "plt.legend(['sin(x)'])\n",
    "plt.xticks(\n",
    "    np.arange(0, 4 * np.pi, np.pi / 2),\n",
    "    ['0','$\\pi$/2','$\\pi$','$3\\pi/2$','2$\\pi$','5$\\pi$/2','3$\\pi$','7$\\pi$/2'])\n",
    "plt.grid(True)\n",
    "\n",
    "# Show the plot\n",
    "plt.show()"
   ]
  },
  {
   "cell_type": "code",
   "execution_count": null,
   "metadata": {},
   "outputs": [],
   "source": []
  }
 ],
 "metadata": {
  "kernelspec": {
   "display_name": "Python 3",
   "language": "python",
   "name": "python3"
  },
  "language_info": {
   "codemirror_mode": {
    "name": "ipython",
    "version": 3
   },
   "file_extension": ".py",
   "mimetype": "text/x-python",
   "name": "python",
   "nbconvert_exporter": "python",
   "pygments_lexer": "ipython3",
   "version": "3.6.8"
  }
 },
 "nbformat": 4,
 "nbformat_minor": 2
}
