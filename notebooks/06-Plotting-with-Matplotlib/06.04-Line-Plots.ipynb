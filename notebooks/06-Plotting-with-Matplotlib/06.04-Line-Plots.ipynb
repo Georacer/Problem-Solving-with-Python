{
 "cells": [
  {
   "cell_type": "markdown",
   "metadata": {},
   "source": [
    "## Line Plots"
   ]
  },
  {
   "cell_type": "markdown",
   "metadata": {},
   "source": [
    "Line plots in can be created in Python using Matplotlib's ```pyplot``` library"
   ]
  },
  {
   "cell_type": "markdown",
   "metadata": {},
   "source": [
    "To build a line plot, first import Matplotlib.  It is common convention to import Matplotlib's ```pyplot``` library as ```plt```. The ```plt``` alias will be familiar to other Python users.\n",
    "\n",
    "If using a Jupyter notebook include the line ```%matplotlib inline``` command after the imports. ```%matplotlib inline``` is a Jupyter notebook magic command which causes Matplotlib plots to display directly inside Jupyter notebook output cells."
   ]
  },
  {
   "cell_type": "code",
   "execution_count": 1,
   "metadata": {},
   "outputs": [],
   "source": [
    "import matplotlib.pyplot as plt\n",
    "import numpy as np\n",
    "# include if using a Jupyter notebook\n",
    "%matplotlib inline"
   ]
  },
  {
   "cell_type": "code",
   "execution_count": 2,
   "metadata": {},
   "outputs": [],
   "source": [
    "x = np.arange(0, 4 * np.pi, 0.1)\n",
    "y = np.sin(x)"
   ]
  },
  {
   "cell_type": "code",
   "execution_count": 3,
   "metadata": {},
   "outputs": [
    {
     "data": {
      "image/png": "[encoded data removed]",
      "text/plain": [
       "<Figure size 432x288 with 1 Axes>"
      ]
     },
     "metadata": {
      "needs_background": "light"
     },
     "output_type": "display_data"
    }
   ],
   "source": [
    "plt.plot(x, y)\n",
    "plt.show()"
   ]
  },
  {
   "cell_type": "markdown",
   "metadata": {},
   "source": [
    "### Features of a Matplotlib plot"
   ]
  },
  {
   "cell_type": "markdown",
   "metadata": {},
   "source": [
    "A variety of features on a Matplotlib plot can be specified. The following is a list of commonly specified features:"
   ]
  },
  {
   "cell_type": "markdown",
   "metadata": {},
   "source": [
    "#### Line Color, Line Width, Line Style, Line Opacity and Marker Options\n",
    "\n",
    "The color, width and style of line in a plot can be specificed. Line color, line width and line style are included as extra arguments in the ```plt.plot()``` function call.\n",
    "\n",
    "```\n",
    "plt.plot(<x-data>,<y-data>, linewideth=<float or int>, linestyle='<linestyle abbreviation>', color='<color abbreviation>', marker='<marker abbreviation>')\n",
    "```\n",
    "\n",
    "An example ```plt.plot()``` line including line color, line width and line style options is:\n",
    "\n",
    "```\n",
    "plt.plot(x, y, linewidth=2.0, linestyle='+', color='b', alpha=0.5, marker='o')\n",
    "```\n",
    "\n",
    "Below is a list of linewidths (many other widths are also available)\n",
    "\n",
    "|```linewidth=<float or int>``` | Line Width |\n",
    "| --- | --- |\n",
    "| 0.5 | 0.5 pixels wide |\n",
    "| 1   | 1 pixel wide |\n",
    "| 1.5 | 1.5 pixels wide |\n",
    "| 2   | 2 pixels wide |\n",
    "| 3 | 3 pixels wide |\n",
    "\n",
    "Below is a list of line styles\n",
    "\n",
    "|```linestyle='<style abbreviation>'``` | Line Style |\n",
    "| --- | --- |\n",
    "|```'-'``` or ```'solid'``` | \tsolid line (default) |\n",
    "|```'--'``` or ```'dashed'``` | \tdashed line |\n",
    "|```'-.'``` or ```'dashdot'``` | \tdash-dot line |\n",
    "|```':'``` or ```'dotted'``` | \tdotted line |\n",
    "|```'None'``` or ```' '``` or ```''``` |\tno line |\n",
    "\n",
    "\n",
    "Below is a list of color abbreviations. Note ```'b'``` is used for blue and ```'k'``` is used for black.\n",
    "\n",
    "| ```color ='<color abbreviation>'``` | Color Name |\n",
    "| --- | --- |\n",
    "| ```'b'``` | Blue\n",
    "| ```'c'``` | Cyan |\n",
    "| ```'g'``` | Green |\n",
    "| ```'k'``` | Black |\n",
    "| ```'m'``` | magenta |\n",
    "| ```'r'``` | Red |\n",
    "| ```'w'``` | White |\n",
    "| ```'y'``` | Yellow |\n",
    "\n",
    "Below is a list of alpha (opacity) values (any alpha value between 0.0 and 1.0 is possible)\n",
    "\n",
    "| ```alpha = <float or int>``` | Opacity |\n",
    "| --- | --- |\n",
    "| ```0``` | transparent |\n",
    "| ```0.5``` | Half transparent |\n",
    "| ```1.0``` | Opaque |\n",
    "\n",
    "Colors can also be specified in hexadecimal form surrounded by quotation marks like ```'#FF69B4'``` or in RGBA (red,green,blue,oppacity) color surronded by parenthesis like ```(255,182,193,0.5)```.\n",
    "\n",
    "| ```color ='<color abbreviation>'``` | Color Format |\n",
    "| --- | --- |\n",
    "| ```'#FF69B4'``` | hexadecimal |\n",
    "| ```(255,182,193,0.5)``` | RGBA |\n",
    "\n",
    "\n",
    "\n",
    "\n",
    "Below is a list of maker styles\n",
    "\n",
    "\n",
    "|```marker='<marker abbreviation>'``` | Marker Style |\n",
    "| --- | --- |\n",
    "|```\".\"``` |\tpoint |\n",
    "|```\",\"``` |\tone pixel |\n",
    "|```\"o\"``` |\tcircle |\n",
    "|```\"v\"``` |\ttriangle_down |\n",
    "|```\"^\"``` |\ttriangle_up |\n",
    "|```\"8\"``` |\toctagon |\n",
    "|```\"s\"``` |\tsquare |\n",
    "|```\"p\"``` |\tpentagon |\n",
    "|```\"*\"``` |\tstar |\n",
    "|```\"h\"``` |\thexagon 1 |\n",
    "|```\"H\"``` |\thexagon 2 |\n",
    "|```\"+\"``` |\tplus |\n",
    "|```\"P\"``` |\tfilled plus |\n",
    "|```\"x\"``` |\tx |\n",
    "|```\"X\"``` |\tfilled x|  \n",
    "|```\"D\"``` |\tdiamond |\n",
    "|```\"d\"```|\tthin diamond |\n",
    "\n",
    "In addition to ```marker='<marker style>'```, the color of the marker edge, the color of the marker face and the size of the marker can be specificed with:\n",
    "\n",
    "```plt.plot( .... markeredgecolor='<color abbreviation>', markerfacecolor='<color abbreviation>', markersize=<float or int>....)```\n",
    "\n"
   ]
  },
  {
   "cell_type": "markdown",
   "metadata": {},
   "source": [
    "#### Title\n",
    "The plot title will be shown above the plot. The ```title()``` command accepts a string as an argument\n",
    "\n",
    "```\n",
    "plt.title('My Title')\n",
    "```"
   ]
  },
  {
   "cell_type": "markdown",
   "metadata": {},
   "source": [
    "#### x-axis label\n",
    "The x-axis label will be down below the x-axis. The ```xlabel()``` command accepts a string as an argument.\n",
    "\n",
    "```\n",
    "plt.xlabel('My x-axis label')\n",
    "```"
   ]
  },
  {
   "cell_type": "markdown",
   "metadata": {},
   "source": [
    "#### y-axis label\n",
    "The y-axis label will be shown to the left of the y-axis. The ```ylabel()``` command accepts a string as an argument.\n",
    "\n",
    "```\n",
    "plt.ylabel('My y-axis label')\n",
    "```\n",
    "\n"
   ]
  },
  {
   "cell_type": "markdown",
   "metadata": {},
   "source": [
    "#### Legend\n",
    "The legend will apear within the plot area, in the upper right corner by default. The ```legend``` command accepts a list of strings and optionally accepts a ```loc= ``` argument to position the legend in a different location\n",
    "\n",
    "```\n",
    "plt.legend(['entry1','entry2'], loc = 0)\n",
    "```\n",
    "\n",
    "The following are the location codes for legend location. These numbers need to be placed after ```loc= ``` in the ```plt.legend()``` call.\n",
    "\n",
    "| Legend Location | \t```loc = <number>``` |\n",
    "| --- | --- |\n",
    "|‘best’| \t0|\n",
    "|‘upper right’| \t1|\n",
    "|‘upper left’| \t2|\n",
    "|‘lower left’| \t3|\n",
    "|‘lower right’| \t4|\n",
    "|‘right’| \t5|\n",
    "|‘center left’| \t6|\n",
    "|‘center right’| \t7|\n",
    "|‘lower center’ |\t8|\n",
    "|‘upper center’ |\t9|\n",
    "|‘center’ \t|10|"
   ]
  },
  {
   "cell_type": "markdown",
   "metadata": {},
   "source": [
    "#### Grid\n",
    "\n",
    "A grid can be shown on the plot using the ```plt.grid()``` command. By defaut, the grid is turned off. To turn on the grid use:\n",
    "\n",
    "```\n",
    "plt.grid(True)\n",
    "```\n",
    "\n",
    "The only valid options are ```plt.grid(True)``` and ```plt.grid(False)```. Note that ```True``` and ```False``` are capitalized and are not enclosed in quotations.\n",
    "\n"
   ]
  },
  {
   "cell_type": "markdown",
   "metadata": {
    "collapsed": true
   },
   "source": [
    "### Line Plot with specified features"
   ]
  },
  {
   "cell_type": "markdown",
   "metadata": {},
   "source": [
    "Line plots with the specified features above are constructed according to this general outline:\n",
    "\n",
    "#### Imports\n",
    "Import ```matplot.pyplot as plt```, as well as any other modules needed to work with the data. If using a Jupyter notebook include ```%matplotlib inline``` in this section.\n",
    "\n",
    "#### Define Data\n",
    "Your plot needs to contain something. This is defined after the imports.\n",
    "\n",
    "#### Plot Data including options\n",
    "Use ```plt.plot()``` to plot the data defined above. Note the ```plt.plot()``` needs to be called before any details are specified. Otherwise the details have no plot to apply to. Besides the data, arguments in ```plt.plot()``` call can include:\n",
    " * ```linewideth= <float or int>```\n",
    " * ```linestyle='<linestyle abbreviation>'```\n",
    " * ```color='<color abbreviation>'```\n",
    " * ```alpha= <float or int>```\n",
    " * ```marker='<marker abbreviation>'```\n",
    " * ```markeredgecolor='<color abbreviation>'```\n",
    " * ```markerfacecolor='<color abbreviation>'```\n",
    " * ```markersize=<float or int>```\n",
    "\n",
    "#### Add plot details\n",
    "Add details such as a title, axis labels, legend and colors. Plot details to add include:\n",
    "\n",
    "* ```plt.title('<title string>')```\n",
    "* ```plt.xlabel('<x-axis label string>')```\n",
    "* ```plt.ylabel('<y-axis label string>')```\n",
    "* ```plt.legend(['list','of','strings'])```\n",
    "* ```ptl.grid(<True or False>)```\n",
    "* ```plt.xticks([list of tick locations, floats or ints],[list of tick labels, strings]```\n",
    "* ```plt.yticks([list of tick locations, floats or ints],[list of tick labels, strings]```\n",
    "\n",
    "\n",
    "#### Show the plot\n",
    "Use the ```plt.show()``` command to show the plot. This will cause the plot to display in a jupyter notebook or pop out as a new window if using a seperate .py script file. Note that the plt.show() needs to be called after all of the plot specifications."
   ]
  },
  {
   "cell_type": "markdown",
   "metadata": {},
   "source": [
    "A section of code following this outline and the resulting plot is shown below:"
   ]
  },
  {
   "cell_type": "code",
   "execution_count": 4,
   "metadata": {},
   "outputs": [
    {
     "data": {
      "image/png": "[encoded data removed]",
      "text/plain": [
       "<matplotlib.figure.Figure at 0x290760670f0>"
      ]
     },
     "metadata": {},
     "output_type": "display_data"
    }
   ],
   "source": [
    "# Imports\n",
    "import numpy as np\n",
    "import matplotlib.pyplot as plt\n",
    "# Include if using a jupyter notebook. Remove if using a .py-file.\n",
    "%matplotlib inline\n",
    "\n",
    "# Define Data\n",
    "x = np.arange(0, 4 * np.pi, 0.2)\n",
    "y = np.sin(x)\n",
    "\n",
    "# Plot Data including options\n",
    "plt.plot(x, y,\n",
    "    linewidth=0.5,\n",
    "    linestyle='--',\n",
    "    color='r',\n",
    "    marker='o',\n",
    "    markersize=10,\n",
    "    markerfacecolor=(1, 0, 0, 0.1))\n",
    "\n",
    "# Add details\n",
    "plt.title('Plot of sin(x) vs x from 0 to 4 pi')\n",
    "plt.xlabel('x (0 to 4 pi)')\n",
    "plt.ylabel('sin(x)')\n",
    "plt.legend(['sin(x)'])\n",
    "plt.xticks(\n",
    "    np.arange(0, 4 * np.pi, np.pi / 2),\n",
    "    ['0', '$\\pi$/2', '$\\pi$', '$3\\pi/2$', '2$\\pi$', '5$\\pi$/2', '3$\\pi$', '7$\\pi$/2'])\n",
    "plt.grid(True)\n",
    "\n",
    "# Show the Plot\n",
    "plt.show()"
   ]
  },
  {
   "cell_type": "code",
   "execution_count": null,
   "metadata": {
    "collapsed": true
   },
   "outputs": [],
   "source": []
  }
 ],
 "metadata": {
  "kernelspec": {
   "display_name": "Python 3",
   "language": "python",
   "name": "python3"
  },
  "language_info": {
   "codemirror_mode": {
    "name": "ipython",
    "version": 3
   },
   "file_extension": ".py",
   "mimetype": "text/x-python",
   "name": "python",
   "nbconvert_exporter": "python",
   "pygments_lexer": "ipython3",
   "version": "3.6.4"
  }
 },
 "nbformat": 4,
 "nbformat_minor": 2
}
