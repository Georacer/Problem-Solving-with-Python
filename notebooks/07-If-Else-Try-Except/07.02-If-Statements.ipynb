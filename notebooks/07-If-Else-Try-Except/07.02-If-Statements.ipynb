{
 "cells": [
  {
   "cell_type": "markdown",
   "metadata": {},
   "source": [
    "## If statements"
   ]
  },
  {
   "cell_type": "markdown",
   "metadata": {},
   "source": [
    "The _if_ statement is one of the basic selection structures in Python. The syntax for a section of code that uses an if statement is below:\n",
    "\n",
    "```\n",
    "if <logical_condition>:\n",
    "    <code to run>\n",
    "    \n",
    "```\n",
    "\n",
    "The keyword ```if``` begins the selection statement. Following ```if``` a logical condition needs to be included. A logical condition is an expression that can be evaluated as ```True``` or ```False```. An example of logical condition is ```a<5```. This logical condition will return ```True``` if ```a``` is less than 5. Otherwise if ```a``` is 5 or greater it will return ```False```. Following the logical condition, a colon ```:``` is needed. After the if statement, a chunk of code to run when the condition is ```True``` is included. The section of code must be indented and indendented the same amount. By convention this is 4 spaces. Most Python code editors, including Jupyter Notebooks will indent code after an if statement automatically. \n",
    "\n",
    "An example set of code below shows how an if statement might work:"
   ]
  },
  {
   "cell_type": "code",
   "execution_count": 7,
   "metadata": {},
   "outputs": [
    {
     "name": "stdout",
     "output_type": "stream",
     "text": [
      "less than five\n"
     ]
    }
   ],
   "source": [
    "a = 2\n",
    "if a<5:\n",
    "    print('less than five')"
   ]
  },
  {
   "cell_type": "markdown",
   "metadata": {},
   "source": [
    "In the first line of the code example above, the variable ```a``` is assigned the value ```2```. The second line of code is the if statement. The if-statement starts with the keyword ```if``` and is follwed by the logical condition ```a<5``` and a colon ```:```. The logical condition ```a<5``` will return either ```True``` or ```False``` depending on the value of ```a```. Since ```a=2```, the logical condition ```a<5``` evaluates as ```True```. The line ```print('less than five')``` is indented after the if-statement. This is the line of code that will run if the if-statement is ```True```. Since the if-statement is ```True``` the indented line ```print('less than five')``` runs and the user sees the text ```less than five```."
   ]
  },
  {
   "cell_type": "markdown",
   "metadata": {},
   "source": [
    "### Multiple if statements"
   ]
  },
  {
   "cell_type": "markdown",
   "metadata": {},
   "source": [
    "If statments can be chained together one after another to create a programmatic flow. For example, the following code block utilizes three different if-statements, each followed by an indented code block."
   ]
  },
  {
   "cell_type": "code",
   "execution_count": 3,
   "metadata": {},
   "outputs": [
    {
     "name": "stdout",
     "output_type": "stream",
     "text": [
      "is positive\n"
     ]
    }
   ],
   "source": [
    "a = 2\n",
    "if a<0:\n",
    "    print('is negative')\n",
    "if a == 0:\n",
    "    print('is zero')\n",
    "if a>0:\n",
    "    print('is positive')"
   ]
  },
  {
   "cell_type": "markdown",
   "metadata": {},
   "source": [
    "Note how each if-statement is followed by a logical condition and a colon ```:```. Also note how the code below each if statment is indented. With the code left-justified (not indented), all three code lines will run and the output will be different. The ```pass``` keyword is used as code will not run unless at least one line of code is indented after the if-statement. ```pass``` is a line of code that does nothing."
   ]
  },
  {
   "cell_type": "code",
   "execution_count": 6,
   "metadata": {},
   "outputs": [
    {
     "name": "stdout",
     "output_type": "stream",
     "text": [
      "is negative\n",
      "is zero\n",
      "is positive\n"
     ]
    }
   ],
   "source": [
    "a = 2\n",
    "if a<0:\n",
    "    pass\n",
    "print('is negative')\n",
    "if a == 0:\n",
    "    pass\n",
    "print('is zero')\n",
    "if a>0:\n",
    "    pass\n",
    "print('is positive')"
   ]
  },
  {
   "cell_type": "code",
   "execution_count": null,
   "metadata": {},
   "outputs": [],
   "source": []
  }
 ],
 "metadata": {
  "kernelspec": {
   "display_name": "Python 3",
   "language": "python",
   "name": "python3"
  },
  "language_info": {
   "codemirror_mode": {
    "name": "ipython",
    "version": 3
   },
   "file_extension": ".py",
   "mimetype": "text/x-python",
   "name": "python",
   "nbconvert_exporter": "python",
   "pygments_lexer": "ipython3",
   "version": "3.6.4"
  }
 },
 "nbformat": 4,
 "nbformat_minor": 2
}
