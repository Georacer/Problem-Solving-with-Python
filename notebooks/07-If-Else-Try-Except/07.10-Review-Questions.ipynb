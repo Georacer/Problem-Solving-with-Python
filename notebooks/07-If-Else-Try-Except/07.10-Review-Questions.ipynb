{
 "cells": [
  {
   "cell_type": "markdown",
   "metadata": {},
   "source": [
    "## Review Questions"
   ]
  },
  {
   "cell_type": "markdown",
   "metadata": {
    "latex": {
     "environment": "problems"
    }
   },
   "source": [
    "Q07.01\n",
    "\n",
    "Q07.02\n",
    "\n",
    "Q07.03\n",
    "\n",
    "Q07.04\n",
    "\n",
    "Q07.05\n",
    "\n",
    "Q07.06\n",
    "\n",
    "Q07.07"
   ]
  },
  {
   "cell_type": "markdown",
   "metadata": {},
   "source": [
    "#### Errors, Explanations and Solutions\n",
    "\n",
    "Run the following code snipets. Explain the error in your own words. Rewrite the code snipet to solve the error."
   ]
  },
  {
   "cell_type": "markdown",
   "metadata": {},
   "source": [
    "Q07.80\n",
    "\n",
    "```python\n",
    "a = 1\n",
    "if a = 0:\n",
    "    print('zero')\n",
    "else if a = 1:\n",
    "    print('one')\n",
    "```\n"
   ]
  },
  {
   "cell_type": "code",
   "execution_count": null,
   "metadata": {},
   "outputs": [],
   "source": []
  }
 ],
 "metadata": {
  "kernelspec": {
   "display_name": "Python 3",
   "language": "python",
   "name": "python3"
  },
  "language_info": {
   "codemirror_mode": {
    "name": "ipython",
    "version": 3
   },
   "file_extension": ".py",
   "mimetype": "text/x-python",
   "name": "python",
   "nbconvert_exporter": "python",
   "pygments_lexer": "ipython3",
   "version": "3.7.1"
  }
 },
 "nbformat": 4,
 "nbformat_minor": 2
}
