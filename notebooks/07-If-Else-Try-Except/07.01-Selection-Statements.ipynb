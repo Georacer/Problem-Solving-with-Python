{
 "cells": [
  {
   "cell_type": "markdown",
   "metadata": {},
   "source": [
    "## Selection Statements"
   ]
  },
  {
   "cell_type": "markdown",
   "metadata": {},
   "source": [
    "Selection statements are used in programming to decide or select particular blocks of code to run based on a defined logical condition.  The primary selection statements in Python are:\n",
    "    \n",
    " * if\n",
    " * else\n",
    " * elif\n",
    " * try\n",
    " * except\n",
    "    "
   ]
  },
  {
   "cell_type": "markdown",
   "metadata": {},
   "source": [
    "So far in this text, all of the Python code has either been written purely linearly or be linear and include functions. A strictly linear program is one that runs top to bottom, and every line of code in the program is run. In a linear program with functions, the program still runs head to base, but the program takes a side excursion to execute functions on the way down. \n",
    "\n",
    "If this next couple chapters, you will begin to write programs non-linearly. Non-linear programs do not just run every line of code top to bottom. In a non-linear program, sections of code may not be run based on a selection statement like _if_ or _try_. Another way to have a non-linear program is to include loops, sections of code that run multiple times, with repetition structures like _for loops_ and _while loops_. \n",
    "\n",
    "To start our discussion of non-linear programs, we will begin with _if statements_."
   ]
  },
  {
   "cell_type": "code",
   "execution_count": null,
   "metadata": {},
   "outputs": [],
   "source": []
  }
 ],
 "metadata": {
  "kernelspec": {
   "display_name": "Python 3",
   "language": "python",
   "name": "python3"
  },
  "language_info": {
   "codemirror_mode": {
    "name": "ipython",
    "version": 3
   },
   "file_extension": ".py",
   "mimetype": "text/x-python",
   "name": "python",
   "nbconvert_exporter": "python",
   "pygments_lexer": "ipython3",
   "version": "3.6.8"
  }
 },
 "nbformat": 4,
 "nbformat_minor": 2
}
