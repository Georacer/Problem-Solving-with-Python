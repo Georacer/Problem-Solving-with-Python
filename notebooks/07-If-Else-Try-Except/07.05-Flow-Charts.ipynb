{
 "cells": [
  {
   "cell_type": "markdown",
   "metadata": {},
   "source": [
    "## Flow Charts"
   ]
  },
  {
   "cell_type": "markdown",
   "metadata": {},
   "source": [
    "Flow charts are used to graphically represent the flow of a program. There are for basic shapes used in a flow chart. Each shape has a specific use:\n",
    "\n",
    " * oval: start and end\n",
    " * parallelogram: input and output\n",
    " * rectangle: calculations\n",
    " * diamond: selection structures\n",
    " \n",
    "![four flow chart shapes](images/four_flow_chart_shapes.png)\n",
    " \n",
    " The basic shapes in a flow chart are connected by arrows. The shapes and arrows of a flow chart describe the flow of a program from start to end."
   ]
  },
  {
   "cell_type": "markdown",
   "metadata": {},
   "source": [
    "Below is the description of a simple program:\n",
    "\n",
    " > The program starts. Then the program prints out \"Output!\". Finally, the program ends.\n",
    "\n",
    "A flow chart that describes this simple program is below:\n",
    "\n",
    "![flow chart of a simple print program](images/flow_chart_simple_print_program.png)\n",
    "\n",
    "The Python code that corresponds to this flow chart is:\n",
    "\n",
    "```python\n",
    "# start\n",
    "print(\"Output!\")\n",
    "# end\n",
    "```"
   ]
  },
  {
   "cell_type": "markdown",
   "metadata": {},
   "source": [
    "The description of another program which includes a calculation is below:\n",
    "\n",
    " > The program starts. Next the program asks a user for a number. Two is added to the number. Next the resulting sum is printed. Finally, the program ends.\n",
    "\n",
    "A flow chart that describes this program is below:\n",
    "\n",
    "![flow chart of a program that contains a calculation](images/flow_chart_calculation_program.png)\n",
    "\n",
    "The Python code that corresponds to this flow chart is:\n",
    "\n",
    "```python\n",
    "# start\n",
    "num = input(\"Enter a number: \")\n",
    "num = float(num)\n",
    "num_plus_2 = num + 2\n",
    "print(num_plus_2)\n",
    "# end\n",
    "```"
   ]
  },
  {
   "cell_type": "markdown",
   "metadata": {},
   "source": [
    "The description of another program is below:\n",
    "\n",
    " > The program starts. Next the program asks a user for a number. If the number is greater than zero, the program prints \"Greater than 0\", then the program ends.\n",
    "\n",
    "A flow chart that describes this program is below:\n",
    "\n",
    "![flow chart of a simple program that contains user input and a selection structure](images/flow_chart_simple_user_input_program.png)\n",
    "\n",
    "The Python code that corresponds to this flow chart is:\n",
    "\n",
    "```python\n",
    "# start\n",
    "num = input(\"Enter a number: \")\n",
    "num = float(num)\n",
    "if num>0:\n",
    "    print(\"Greater than 0\")\n",
    "# end\n",
    "```"
   ]
  },
  {
   "cell_type": "markdown",
   "metadata": {},
   "source": [
    "The description of a more complex program is below:\n",
    "\n",
    " > The program starts. Next the program asks a user for a number. If the number is greater than zero, the program prints \"Greater than 0\". If the number is less than zero, the program prints \"Less than 0\". Then the program prints \"Done\" and the program ends.\n",
    "\n",
    "A flow chart that describes this program is below:\n",
    "\n",
    "![flow chart of a simple program that contains user input and a selection structure](images/flow_chart_more_complex_user_input_program.png)\n",
    "\n",
    "The Python code that corresponds to this flow chart is:\n",
    "\n",
    "```python\n",
    "# start\n",
    "num = input('Enter a number: ')\n",
    "num = float(num)\n",
    "if num>0:\n",
    "    print('num greater than zero')\n",
    "if num<0:\n",
    "    print('num less than zero')\n",
    "print('Done')\n",
    "# end\n",
    "```"
   ]
  },
  {
   "cell_type": "code",
   "execution_count": null,
   "metadata": {},
   "outputs": [],
   "source": []
  }
 ],
 "metadata": {
  "kernelspec": {
   "display_name": "Python 3",
   "language": "python",
   "name": "python3"
  },
  "language_info": {
   "codemirror_mode": {
    "name": "ipython",
    "version": 3
   },
   "file_extension": ".py",
   "mimetype": "text/x-python",
   "name": "python",
   "nbconvert_exporter": "python",
   "pygments_lexer": "ipython3",
   "version": "3.6.4"
  }
 },
 "nbformat": 4,
 "nbformat_minor": 2
}
