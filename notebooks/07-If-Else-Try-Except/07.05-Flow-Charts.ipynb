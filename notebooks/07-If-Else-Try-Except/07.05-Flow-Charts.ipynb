{
 "cells": [
  {
   "cell_type": "markdown",
   "metadata": {},
   "source": [
    "## Flow Charts"
   ]
  },
  {
   "cell_type": "markdown",
   "metadata": {},
   "source": [
    "Flow charts are used to graphically represent the flow of a program. There are for basic shapes used in a flow chart. Each shape has a specific use:\n",
    "\n",
    " * oval: start and stop\n",
    " * diamond: selection structures and loops\n",
    " * parallelogram: input and output\n",
    " * rectangle: calculations\n",
    " \n",
    "Below is a sample program:"
   ]
  },
  {
   "cell_type": "code",
   "execution_count": 1,
   "metadata": {},
   "outputs": [
    {
     "name": "stdout",
     "output_type": "stream",
     "text": [
      "Enter a number: 1\n",
      "num greater than zero\n",
      "Done\n"
     ]
    }
   ],
   "source": [
    "# start\n",
    "num = input('Enter a number: ')\n",
    "num = float(num)\n",
    "if num>0:\n",
    "    print('num greater than zero')\n",
    "if num<0:\n",
    "    print('num less than zero')\n",
    "print('Done')\n",
    "# end"
   ]
  },
  {
   "cell_type": "code",
   "execution_count": 2,
   "metadata": {},
   "outputs": [
    {
     "name": "stdout",
     "output_type": "stream",
     "text": [
      "Enter a number: -1\n",
      "num less than zero\n",
      "Done\n"
     ]
    }
   ],
   "source": [
    "# start\n",
    "num = input('Enter a number: ')\n",
    "num = float(num)\n",
    "if num>0:\n",
    "    print('num greater than zero')\n",
    "if num<0:\n",
    "    print('num less than zero')\n",
    "print('Done')\n",
    "# end"
   ]
  },
  {
   "cell_type": "code",
   "execution_count": null,
   "metadata": {},
   "outputs": [],
   "source": []
  }
 ],
 "metadata": {
  "kernelspec": {
   "display_name": "Python 3",
   "language": "python",
   "name": "python3"
  },
  "language_info": {
   "codemirror_mode": {
    "name": "ipython",
    "version": 3
   },
   "file_extension": ".py",
   "mimetype": "text/x-python",
   "name": "python",
   "nbconvert_exporter": "python",
   "pygments_lexer": "ipython3",
   "version": "3.6.4"
  }
 },
 "nbformat": 4,
 "nbformat_minor": 2
}
