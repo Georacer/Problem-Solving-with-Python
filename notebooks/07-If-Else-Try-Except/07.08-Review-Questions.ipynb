{
 "cells": [
  {
   "cell_type": "markdown",
   "metadata": {},
   "source": [
    "## Review Questions"
   ]
  },
  {
   "cell_type": "markdown",
   "metadata": {
    "latex": {
     "environment": "problems"
    }
   },
   "source": [
    "Q07.01 Create a program to ask a user for a temperature. If the temperature the user enters is below ```50```, print back the user \"It is cold outside\". Hint: remember to convert the user's input to a number before comparing the user's input to ```50```.\n",
    "\n",
    "Q07.02 Create a program that asks the user for their temperature. If the user enters a temperature above ```98.6```, print back to the user \"You have a fever\".\n",
    "\n",
    "Q07.03 Create a program that chooses a random number number between 1 and 5. Ask the user for a number between 1 and 5. Compare the user's number to the random number. If the user guessed the random number print \"you guessed it!\", if the user did not guess the random number print back to the user \"try again\". You can use the code below to choose a random number ```n``` between 1 and 5.\n",
    "\n",
    "```python\n",
    "import random\n",
    "\n",
    "n = random.randint(0,5)\n",
    "```\n",
    "\n",
    "Q07.04 Create a program that asks a user for two numbers, x and y. If the x is greater than y, print back to the user \"x>y\". If x is less than y, print back to the user \"x<y\". If x is equal to y, print back to the user \"x=y\".\n",
    "\n",
    "Q07.05 Create a program that asks a user for one of three trig functions: sine, cosine or tangent. Calculate the sine, cosine or tangent of $\\pi/4$ depending on the user's input and print the result of the calculation back to the user.\n",
    "\n",
    "Q07.06 Create a program that asks the user for two numbers (use two different input lines). If the second number the user enters is zero, print back to the user \"can't divide by zero\", otherwise divide the user's first number by the user's second number and print the result to the user.\n",
    "\n",
    "Q07.07 The table below shows a couple fruits and their associated color\n",
    "\n",
    "| fruit | color |\n",
    "| --- | --- |\n",
    "| banana | yellow |\n",
    "| apple | red |\n",
    "| lemon | yellow |\n",
    "| lime | green |\n",
    "| orange | orange |\n",
    "\n",
    "Create a program that asks a user to choose from a list of fruit. Print pack to the user the color of the fruit they chose.\n",
    "\n",
    "Q07.08 The average size of a US congressional district is about 700,000 people. Ask the user for a state population and print back to the user the number of congress members in the state. For example a state with 1.4 million people is represented by 2 members of congress. Each state has at least one member of congress by default. If the user enters a population less than ```700,000```, tell the user their state only has 1 member of congress.\n",
    "\n",
    "Q07.08 In a college engineering class, final grades are related to percentages as follows:\n",
    "\n",
    "| percentage range | grade |\n",
    "| --- | --- |\n",
    "| 90 - 100 | A |\n",
    "| 80 - 89 | B |\n",
    "| 70 - 79 | C |\n",
    "| 65 - 69 | D |\n",
    "| 0 - 64 | F |\n",
    "\n",
    "Build a program that asks a user for a final score (in percent) and prints back to the user their letter grade."
   ]
  },
  {
   "cell_type": "markdown",
   "metadata": {},
   "source": [
    "#### Errors, Explainations, and Solutions\n",
    "\n",
    "Run the following code snippets. Explain the error in your own words. Rewrite the code snippet to solve the error."
   ]
  },
  {
   "cell_type": "markdown",
   "metadata": {},
   "source": [
    "Q07.80\n",
    "\n",
    "```python\n",
    "a = 1\n",
    "if a = 0:\n",
    "    print('zero')\n",
    "else if a = 1:\n",
    "    print('one')\n",
    "```\n"
   ]
  },
  {
   "cell_type": "markdown",
   "metadata": {},
   "source": [
    "Q07.81\n",
    "\n",
    "```python\n",
    "a = 1\n",
    "if a == 0:\n",
    "    print('zero')\n",
    "    \n",
    "else print('one')\n",
    "```"
   ]
  },
  {
   "cell_type": "markdown",
   "metadata": {},
   "source": [
    "Q07.82\n",
    "\n",
    "```python\n",
    "n = input('Enter a number')\n",
    "\n",
    "if n > 0:\n",
    "    print('positive')\n",
    "```"
   ]
  },
  {
   "cell_type": "code",
   "execution_count": null,
   "metadata": {},
   "outputs": [],
   "source": []
  }
 ],
 "metadata": {
  "kernelspec": {
   "display_name": "Python 3",
   "language": "python",
   "name": "python3"
  },
  "language_info": {
   "codemirror_mode": {
    "name": "ipython",
    "version": 3
   },
   "file_extension": ".py",
   "mimetype": "text/x-python",
   "name": "python",
   "nbconvert_exporter": "python",
   "pygments_lexer": "ipython3",
   "version": "3.6.8"
  }
 },
 "nbformat": 4,
 "nbformat_minor": 2
}
