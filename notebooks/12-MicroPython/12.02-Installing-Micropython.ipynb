{
 "cells": [
  {
   "cell_type": "markdown",
   "metadata": {},
   "source": [
    "## Installing MicroPython"
   ]
  },
  {
   "cell_type": "markdown",
   "metadata": {},
   "source": [
    "MicroPython is a port of the Python programming language that runs on small, inexpensive microcontrollers. In this section, you will learn how to install MicroPython on an Adafruit Feather Huzzah ESP8266 microcontroller using Python and a package called **esptool**. In subsequent sections, you will learn how to blink an LED and read a sensor using MicroPython."
   ]
  },
  {
   "cell_type": "markdown",
   "metadata": {},
   "source": [
    "To install MicroPython on an ESP8266-based microcontroller, like the Adafruit Feather Huzzah ESP8266, we need the following hardware:\n",
    "\n",
    "| Hardware | Purpose |\n",
    "| --- | --- |\n",
    "| Windows 10 | install Micropython on the microcontroller |\n",
    "| Adafruit Feather Huzzah ESP8266 | microcontroller running MicroPython |\n",
    "| microUSB cable | connect microcontroller to computer |\n",
    "\n",
    "To install MicroPython we will use the following software and tools:\n",
    "\n",
    "| Software | Purpose |\n",
    "| --- | --- |\n",
    "| Windows 10 | download MicroPython |\n",
    "| Anaconda distribution of Python | run **esptool** that installs MicroPython |\n",
    "| Anaconda Prompt | Install the **esptool** package using **pip** |\n",
    "| **esptool** | A **pip** installable package used to install MicroPython |\n",
    "| firmware **_.bin_** file | Version of MicroPython run on the microcontroller |\n",
    "\n"
   ]
  },
  {
   "cell_type": "markdown",
   "metadata": {},
   "source": [
    "### Summary of Steps:"
   ]
  },
  {
   "cell_type": "markdown",
   "metadata": {},
   "source": [
    "1. Install the [Anaconda distribution](https://www.anaconda.com/download/) of Python\n",
    "2. Create a new conda environment and ```pip install esptool```\n",
    "3. Download the [latest MicroPython .bin firmware file](http://micropython.org/download#esp8266)\n",
    "4. Install the [SiLabs driver](https://www.silabs.com/products/development-tools/software/usb-to-uart-bridge-vcp-drivers) for the Adafruit Feather Huzzah ESP8266\n",
    "5. Connect the Adafruit Feather Huzzah ESP8266 board to the laptop using a microUSB cable\n",
    "6. Determine which serial port the Feather Huzzah is connected to\n",
    "7. Run the esptool to upload the .bin firmware file to the Feather Huzzah\n",
    "8. Download and install [Putty](https://www.putty.org/), a serial monitor\n",
    "9. Use Putty to connect to the Feather Huzzah and run commands in the MicroPython REPL"
   ]
  },
  {
   "cell_type": "markdown",
   "metadata": {},
   "source": [
    "### Install the Anaconda distribution of Python"
   ]
  },
  {
   "cell_type": "markdown",
   "metadata": {},
   "source": [
    "If you don't have Anaconda installed already, go to [Anaconda.com/download](https://www.anaconda.com/download/) and install the latest version."
   ]
  },
  {
   "cell_type": "markdown",
   "metadata": {},
   "source": [
    "### Create a new conda environment and install **esptool**"
   ]
  },
  {
   "cell_type": "markdown",
   "metadata": {},
   "source": [
    "It's best practice when using Python to work in virtual environments. We'll create a new virtual environment with conda to use with our MicroPython projects. Open the Anaconda prompt and create a new virtual environment named ```micropython```. Activate the environment with the ```conda activate``` command. After activating the virtual environment you should see ```(micropython)``` before the Anaconda Prompt.  Once inside the virtual environment, use ```pip``` to install ```esptool```. The ```esptool``` will be used to upload the MicroPython .bin firmware file onto the Adafruit Feather Huzzah board. Confirm that ```esptool``` is installed in the ```(micropython)``` virtual environment with ```conda list```. I also created a new directory in the **Documents** folder called **micropython** to store all the project files. \n",
    "\n",
    "```Plaintext\n",
    "> conda create -n micropython python=3.6\n",
    "> conda activate micropython\n",
    "(micropython) > pip install esptool\n",
    "(micropython) > conda list\n",
    "(micropython) > cd Documents\n",
    "(micropython) > mkdir micropthon\n",
    "(micropython) > cd micropython\n",
    "```"
   ]
  },
  {
   "cell_type": "markdown",
   "metadata": {},
   "source": [
    "### Download the latest MicroPython firmware .bin file"
   ]
  },
  {
   "cell_type": "markdown",
   "metadata": {},
   "source": [
    "Go to github.com and [download the latest .bin firmware](https://micropython.org/download#esp8266) file at micropython.org/download#esp8266. Move the **_.bin_** firmware file to a new **micropython** directory. The **_.bin_** firmware file is the version of Micropython that will run on the Adafruit Feather Huzzah ESP8266. Straight from Adafruit, the Feather Huzzah microcontroller does not have Micropyton installed, so we need to install Micropython ourselves. After installing the Micropython .bin firmware file onto the board, we will be able to bring up the Micropython REPL prompt, type commands into the Micropython REPL and run Micropython **_.py_** scripts on the board.\n",
    "\n",
    "![MicroPython Firmware](images/firmware_download_page.PNG)"
   ]
  },
  {
   "cell_type": "markdown",
   "metadata": {},
   "source": [
    "### Install the SiLabs driver for the Adafruit Feather Huzzah ESP8266"
   ]
  },
  {
   "cell_type": "markdown",
   "metadata": {},
   "source": [
    "Before we can connect the Adafruit Feather Huzzah to the computer, we need a specific driver installed. For my Windows 10 laptop to see the Adafruit Feather Huzzah board, the [CP210x USB to UART Bridge VCP driver](https://www.silabs.com/products/development-tools/software/usb-to-uart-bridge-vcp-drivers) needs to be downloaded from SiLabs and installed. This is quick and easy, but does require admin privileges.\n",
    "\n",
    "![SiLabs Driver Download Page](images/download_silabs_driver.PNG)"
   ]
  },
  {
   "cell_type": "markdown",
   "metadata": {},
   "source": [
    "### Connect the Adafruit Feather Huzzah ESP8266 board to the laptop"
   ]
  },
  {
   "cell_type": "markdown",
   "metadata": {},
   "source": [
    "Use a microUSB cable (the same kind of cable that charges many mobile phones) to connect the Feather Huzzah to the computer. Make sure that the microUSB cable is a full USB __data cable__ and not just a simple power cable. If you have trouble getting the Feather Huzzah to work, one reason might be the micoUSB cable is only a charging cable and can not transfer data. "
   ]
  },
  {
   "cell_type": "markdown",
   "metadata": {},
   "source": [
    "### Determine which serial port the Feather Huzzah is connected to"
   ]
  },
  {
   "cell_type": "markdown",
   "metadata": {},
   "source": [
    "Use Windows Device Manager to determine which serial port the Feather Huzzah board is connected to. The serial port is one of the parameters that needs to be defined when the .bin firmware file is upload on the board. Look for something like **Silicon Labs CP210x USB to UART Bridge (COM4)** in the **Ports (COM & LPT)** menu. The USB to UART bridge is actually the Feather Huzzah board. CP210x refers to the chip that handles serial communication on the Feather Huzzah, not the ESP8266 chip itself. Make note of the number after **(COM )**. It often comes up as **(COM4)** but it may be different on your machine. \n",
    "\n",
    "![Find Windows 10 Device Manager](images/find_device_manager.png)\n",
    "\n",
    "![Windows 10 Device Manager Menu](images/device_manager_menu.png)"
   ]
  },
  {
   "cell_type": "markdown",
   "metadata": {},
   "source": [
    "### Run esptool to upload the .bin file to the Feather Huzzah"
   ]
  },
  {
   "cell_type": "markdown",
   "metadata": {},
   "source": [
    "Open the Anaconda Prompt and ```cd``` into the **micropython** directory with the .bin file. You can use the ```dir``` command to see the directory contents. Make sure the .bin firmware file is in the directory. It will be called something like ```esp8266-20171101-v1.9.3.bin```. Activate the micropython environment with ```conda activate micropython```. Run ```esptool --help``` to ensure esptool is installed properly. Note there is no **.py** extension after ```esptool```. On my Windows laptop, the command ```esptool``` worked, but the command ```esptool.py``` did not (this is different than the commands shown on the [MicroPython docs](https://docs.micropython.org/en/latest/esp8266/esp8266/tutorial/intro.html#deploying-the-firmware)). If you try to run esptool and you are not in the ```(micropython)``` virtual environment, you will get an error. \n",
    "\n",
    "```text\n",
    "> cd Documents\n",
    "> cd micropython\n",
    "> pwd\n",
    "Documents/micropython\n",
    "> dir\n",
    "> conda activate micropython\n",
    "(micropython) > esptool --help\n",
    "```\n",
    "\n",
    "![esptool help](images/esptool_help.PNG)\n",
    "\n",
    "Before we write the .bin firmware file to the board, we should first erase the flash memory on the Feather Huzzah using the ```esptool erase_flash``` command. Make sure to specify the ```--port```. This is the ```COM``` port you found in the Windows Device Manager.  In my case the port was ```COM4```.\n",
    "\n",
    "```text\n",
    "(micropython) esptool --port COM4 erase_flash\n",
    "```\n",
    "\n",
    "![esptool erase flash](images/esptool_erase_flash.PNG)\n",
    "\n",
    "Now it's time to write the .bin firmware file to the flash memory on the board using the ```esptool write_flash``` command. Make sure to use the exact .bin firmware file name you see sitting in the **micropython** directory. The port has to be set as the port you found in the Windows Device Manager. ```---baud``` is the baud rate, or upload speed. I found that ```--baud 460800``` worked, but you could also specify ```--baud 115200``` which is slower. The upload time was a matter of seconds with either baud rate. The ```0``` after ```--flash_size=dectect``` means we want the firmware to be written at the start of the flash memory (the 0th position) on the board. Again, make sure the .bin firmware file name is correct. It is easy to mistype. Another issue I ran into was that I tried to use the command ```esptool.py``` instead of ```esptool``` as shown on the [MicroPython docs](https://docs.micropython.org/en/latest/esp8266/esp8266/tutorial/intro.html#deploying-the-firmware). The documentation for [MicroPython on the ESP8266](https://docs.micropython.org/en/latest/esp8266/esp8266/tutorial/intro.html#deploying-the-firmware) specifies the command ```esptool.py``` (including the **_.py_** file extension). This did work on my Windows 10 machine. Omitting the **_.py_** file extension, and running ```esptool``` worked instead. \n",
    "\n",
    "```text\n",
    "(micropython) > esptool --port COM4 --baud 460800 write_flash --flash_size=detect 0 esp8266-20171101-v1.9.3.bin\n",
    "```\n",
    "\n",
    "![Use esptool to upload MicroPython firmware](images/esptool_write_flash.PNG)"
   ]
  },
  {
   "cell_type": "markdown",
   "metadata": {},
   "source": [
    "### Download and install PuTTY, a serial monitor"
   ]
  },
  {
   "cell_type": "markdown",
   "metadata": {},
   "source": [
    "Now that MicroPython is installed on the board, we need to talk to our board over a serial connection. Windows 10 doesn't have a built-in serial monitor (like screen on OSX and Linux). So we need to download and install **PuTTY**. PuTTY is a lightweight SSH and serial client for Windows. PuTTY will allow us to communicate with the Adafruit Feather Huzzah board. [PuTTY can be downloaded here](https://www.putty.org/). PUTTY is pretty small and the download and install should be pretty quick.\n",
    "\n",
    "![PuTTY Downloads Page](images/download_putty.PNG)"
   ]
  },
  {
   "cell_type": "markdown",
   "metadata": {},
   "source": [
    "### Use PuTTY to connect to the Feather Huzzah"
   ]
  },
  {
   "cell_type": "markdown",
   "metadata": {},
   "source": [
    "Ensure the Feather board is connected to the computer with a USB cable and ensure you can see the board in the Windows Device Manager. Then use Putty to connect to the board over serial.  Make sure you specify the correct serial port in the **Serial line** box and **115200** baud in the Speed box. **Micropython is set to run at 115200 baud**, other baud rates will lead to junk characters in the serial monitor. I had trouble finding the serial connection option in Putty. When I opened Putty, the default was an SSH connection. We can't connect to the Feather Huzzah over SSH. You need to select the **Serial** radio button below the header **Connection type:** near the top of the Putty window. \n",
    "\n",
    "![PuTTY in Windows 10 Start Menu](images/putty_in_start_menu.png)\n",
    "\n",
    "![PuTTY Configuration](images/putty_config.PNG)\n",
    "\n",
    "If you see ```>>>``` the MicroPython REPL (the MicroPython prompt) is running and the Adafruit Feather Huzzah ESP8266 is working! This version of Python isn't running on your computer, it's MicroPython running on the little microcontroller! Sometimes I had to type [Enter] or Ctrl-D to get the ```>>>``` REPL prompt to show up. A few times I needed to close Putty, unplug then replug the board and try Putty again. The Feather Huzzah also has a tiny little black RESET button that can be pressed to restart the board.  \n",
    "\n",
    "![The MicroPython REPL Prompt](images/REPL_prompt.PNG)\n",
    "\n",
    "At the ```>>>``` MicroPython REPL prompt try the following commands:\n",
    "\n",
    "```text\n",
    ">>> print('MicroPython for Engineers!')\n",
    "MicroPython for Engineers\n",
    "\n",
    ">>> import sys\n",
    ">>> sys.platform\n",
    "'esp8266'\n",
    "```\n",
    "\n",
    "![result of commands typed in the MicroPython REPL](images/sys_dot_platform.PNG)"
   ]
  },
  {
   "cell_type": "code",
   "execution_count": null,
   "metadata": {
    "collapsed": true
   },
   "outputs": [],
   "source": []
  }
 ],
 "metadata": {
  "kernelspec": {
   "display_name": "Python 3",
   "language": "python",
   "name": "python3"
  },
  "language_info": {
   "codemirror_mode": {
    "name": "ipython",
    "version": 3
   },
   "file_extension": ".py",
   "mimetype": "text/x-python",
   "name": "python",
   "nbconvert_exporter": "python",
   "pygments_lexer": "ipython3",
   "version": "3.6.4"
  }
 },
 "nbformat": 4,
 "nbformat_minor": 2
}
