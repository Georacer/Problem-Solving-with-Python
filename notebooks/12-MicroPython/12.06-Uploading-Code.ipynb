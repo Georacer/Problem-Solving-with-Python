{
 "cells": [
  {
   "cell_type": "markdown",
   "metadata": {},
   "source": [
    "## Uploading code"
   ]
  },
  {
   "cell_type": "markdown",
   "metadata": {},
   "source": [
    "In this section you will learn how to create a working WiFi weather station built using an Adafruit Feather Huzzah ESP9266, and a temperature sensor. The working WiFi weather station will post the temperature to [ThingSpeak.com](https://thingspeak.com/)\n",
    "\n",
    "Before the Micropython REPL (the Python prompt) running on the Adafruit Feather Huzzah ESP8266 can be used, Micropython needs to be installed on the board. Putty also needs to be installed on a computer in order for the computer to communicate with Feather Huzzah over serial. See the previous section on how to install Micropython on an Adafruit Feather Huzzah ESP9266 and how to install Putty on a Windows computer."
   ]
  },
  {
   "cell_type": "markdown",
   "metadata": {},
   "source": [
    "### Summary of Steps"
   ]
  },
  {
   "cell_type": "markdown",
   "metadata": {},
   "source": [
    "1. Install **ampy** with **pip**\n",
    "2. Write python code \n",
    "3. Put the code on the board with **ampy**\n",
    "4. Run functions from the Micropyton REPL\n",
    "5. Run a program"
   ]
  },
  {
   "cell_type": "markdown",
   "metadata": {},
   "source": [
    "### Install ampy with pip\n",
    "\n",
    "**Ampy** is a Python package developed by Adafruit, the company that makes the Feather Huzzah board. **Ampy** is used to push code stored on a computer to the Feather Huzzah board. **Ampy** can be installed using the **Anaconda Prompt**. Alternatively, **pip** can be used to install **ampy**. If using a virtual environment, active the virtual environment first before proceeding with the **ampy** package installation."
   ]
  },
  {
   "cell_type": "markdown",
   "metadata": {},
   "source": [
    "```text\n",
    "> conda activate micropython\n",
    "(micropython) > pip install ampy-adafruit\n",
    "(micropython) > ampy --help\n",
    "```"
   ]
  },
  {
   "cell_type": "markdown",
   "metadata": {},
   "source": [
    "### Write Python Code"
   ]
  },
  {
   "cell_type": "markdown",
   "metadata": {},
   "source": [
    "Now write the Python code that will be put on the board. The Feather Huzzah board has two main Python files: **boot.py** and **main.py**. Additional files can also be added to the board. **boot.py** is the file that runs first when the board is powered up. After **boot.py** runs, then **main.py** will run. Another **.py** file can be added to the board to provide **main.py** with some functions and classes to work with. \n",
    "\n",
    "Two general things need to be accomplished on the Feather Huzzah board to turn it into a WiFi weather station: read the temperature and post the temperature to ThingSpeak.com. Two different **.py** files will be constructed, one **.py** file for each of these general functionalities (reading the temperature and posting the temperature). \n",
    "\n",
    "The first **MCP9808.py** file will simplify reading temperature data off of the Adafruit MCP9808 temperature breakout. A function that parses out the temperature data from the I2C bus and return it as the output for the **readtemp** function will be created. The function needs to import the ```machine``` module to use the I2C bus. The machine module provides the class to create a new i2c object. When the i2c object is instantiated, the ```scl``` and ```sda``` pins that the sensor is connected to need to be specified. ```scl``` is the i2c clock line and ```sda``` is the i2c data line. These are pins 5 and 4 on the Adafruit Feather Huzzah. Then a new byte array variable needs to be created, so that later data from the sensor can be saved into it.  Next read the sensor data using the ```i2c.readfrom_mem_into()``` function. The first argument is the I2C bus address for the sensor. In this case the sensor is at I2C bus address ```24```. The line ```>>> i2c.scan()``` typed into the micropython REPL will show the I2C bus address.  The next function argument is the register on the MCP9808 temperature sensor where the temperature value is stored, which happens to be register ```5```. If register ```5``` is accessed on the MCP, the temperature can be recorded. The third arguments is the variable to store the temperature data into. The ```i2c.readfrom_mem_into()``` method changes the variable that is a method argument, rather than changing a variable which is the method output as most methods do. This is why the ```byte_data``` variable needs to be created before calling the ```i2c.readfrom_mem_into()``` method. Next some post processing is needed to convert the byte array into a temperature in degrees C.\n",
    "\n",
    "```python\n",
    "# MCP9808.py\n",
    "\n",
    "# Functions for the  MCP9808 temperature sensor\n",
    "# learn.adafruit.com/micropython-hardware-i2c-devices/i2c-master\n",
    "\n",
    "def readtemp():\n",
    "    import machine\n",
    "    i2c = machine.I2C(scl=machine.Pin(5), sda=machine.Pin(4))\n",
    "    byte_data = bytearray(2)\n",
    "    i2c.readfrom_mem_into(24, 5, byte_data)\n",
    "    value = byte_data[0] << 8 | byte_data[1]\n",
    "    temp = (value & 0xFFF) / 16.0\n",
    "    if value & 0x1000:\n",
    "        temp -= 256.0\n",
    "    return temp\n",
    "```\n",
    "\n",
    "Now build a Python file for the set of WiFi functions. \n",
    "\n",
    "```python\n",
    "#wifitools.py\n",
    "\n",
    "def connect(SSID,password):\n",
    "    import network\n",
    "    sta_if = network.WLAN(network.STA_IF)\n",
    "    if not sta_if.isconnected():\n",
    "        print('connecting to network...')\n",
    "        sta_if.active(True)\n",
    "        sta_if.connect(SSID, password)\n",
    "        while not sta_if.isconnected():\n",
    "            pass\n",
    "    print('network config:', sta_if.ifconfig())\n",
    "\n",
    "        \n",
    "def http_get(url):\n",
    "    import socket\n",
    "    _, _, host, path = url.split('/', 3)\n",
    "    addr = socket.getaddrinfo(host, 80)[0][-1]\n",
    "    s = socket.socket()\n",
    "    s.connect(addr)\n",
    "    str_send = 'GET /%s HTTP/1.0\\r\\nHost: %s\\r\\n\\r\\n' % (path, host)\n",
    "    s.send(bytes(str_send,'utf8'))\n",
    "    while True:\n",
    "        data = s.recv(100)\n",
    "        if data:\n",
    "            print(str(data, 'utf8'), end='')\n",
    "        else:\n",
    "            break\n",
    "\n",
    "def thingspeak_post(API_key,data):\n",
    "    if not isinstance(data, str):\n",
    "        data = str(data)\n",
    "    base_url = 'https://api.thingspeak.com/update?api_key='\n",
    "    mid_url = '&field1='\n",
    "    url = base_url + API_key + mid_url + data\n",
    "    http_get(url)\n",
    "\n",
    "```\n",
    "\n",
    "Now we will construact a Micropython script called **_main.py_** which will use the functions stored in **_MCP9808.py_**. The **_main.py_** script will import the **_MCP9808.py_** and **_wifitools_** functions then use the ```wifitools.connect()``` function to connect to the WiFi network. A ```time.sleep(5)``` line to allows time for the Feather Huzzah board to connect to the WiFi network. Next we'll run a loop for a total of 8 hours at 60 minutes each hour. Inside the loop, we'll read in the temperature from the MCP9808 using the ```MCP9808.readtemp()``` function and post it to ThingSpeak.com using the ```wifitools.thingspeak_post()``` function. To take the temperature once a minute, we need to ```time.sleep(60)``` (wait 60 seconds) between each measurement.\n",
    "\n",
    "```python\n",
    "# main.py\n",
    "# ESP8266 Feather Huzzah Weather Station\n",
    "\n",
    "import wifitools\n",
    "import MCP9808\n",
    "import time\n",
    "import config\n",
    "\n",
    "api_key = config.API_KEY\n",
    "ssid = config.SSID\n",
    "password = config.WIFI_PASSWORD\n",
    "\n",
    "wifitools.connect(ssid,password)\n",
    "time.sleep(5)\n",
    "\n",
    "for i in range(8*60):\n",
    "    data = MCP9808.readtemp()\n",
    "    wifitools.thingspeak_post(api_key,data)\n",
    "    time.sleep(60)\n",
    "```"
   ]
  },
  {
   "cell_type": "markdown",
   "metadata": {},
   "source": [
    "### Upload Python Code to the Feather Huzzah with **ampy**"
   ]
  },
  {
   "cell_type": "markdown",
   "metadata": {},
   "source": [
    "Once all the **_.py_** files are created, ensure the Feather Huzzah board is connected with a USB cable, and be aware of which serial port the Feather Huzzah is connected to. Upload the code files to the board using **ampy**. Make sure you are in the directory with the **_.py_** files and that you are working in a virtual environment that has ```ampy``` installed in it. In the example code below, the ```(micropython)``` virtual environment is active.\n",
    "\n",
    "```text\n",
    "(micropython) > ampy --port COM4 put MCP9808.py\n",
    "(micropython) > ampy --port COM4 put wifitools.py\n",
    "(micropython) > ampy --port COM4 put main.py\n",
    "(micropython) > ampy --port COM4 ls\n",
    "boot.py\n",
    "wifitools.py\n",
    "MCP9808.py\n",
    "config.py\n",
    "main.py\n",
    "```"
   ]
  },
  {
   "cell_type": "markdown",
   "metadata": {},
   "source": [
    "### Unplug and power up the Feather Huzzah and watch the data on ThingSpeak.com"
   ]
  },
  {
   "cell_type": "markdown",
   "metadata": {},
   "source": [
    "The Feather Huzzah needs to be restarted to run the code uploaded with **ampy**. To restart the board, unplug and then replug in the board's power (the USB cable). Once power is restored, the board will run through the **_boot.py_** script then start the **_main.py_** script. When the board runs the **_main.py_** script, the board will will connect to the WiFi network, read the temperature then upload the temperature to ThingSpeak.com. When ThingSpeak.com is viewed, you will see the temperature plotted on the Thinkspeak.com Channel's page."
   ]
  },
  {
   "cell_type": "code",
   "execution_count": null,
   "metadata": {
    "collapsed": true
   },
   "outputs": [],
   "source": []
  }
 ],
 "metadata": {
  "kernelspec": {
   "display_name": "Python 3",
   "language": "python",
   "name": "python3"
  },
  "language_info": {
   "codemirror_mode": {
    "name": "ipython",
    "version": 3
   },
   "file_extension": ".py",
   "mimetype": "text/x-python",
   "name": "python",
   "nbconvert_exporter": "python",
   "pygments_lexer": "ipython3",
   "version": "3.6.4"
  }
 },
 "nbformat": 4,
 "nbformat_minor": 2
}
