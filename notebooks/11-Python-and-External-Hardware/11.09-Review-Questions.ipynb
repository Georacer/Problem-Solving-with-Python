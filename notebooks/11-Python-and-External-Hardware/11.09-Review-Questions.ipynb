{
 "cells": [
  {
   "cell_type": "markdown",
   "metadata": {},
   "source": [
    "## Review Questions"
   ]
  },
  {
   "cell_type": "markdown",
   "metadata": {
    "latex": {
     "environment": "problems"
    }
   },
   "source": [
    "Q11.01\n",
    "\n",
    "Q11.02\n",
    "\n",
    "Q11.03\n",
    "\n",
    "Q11.04\n",
    "\n",
    "Q11.05\n",
    "\n",
    "Q11.06\n",
    "\n",
    "Q11.07\n",
    "\n",
    "Q11.08\n",
    "\n",
    "Q11.09\n",
    "\n",
    "Q11.10\n",
    "\n",
    "Q11.11\n",
    "\n"
   ]
  },
  {
   "cell_type": "markdown",
   "metadata": {},
   "source": [
    "#### Errors, Explanations, and Solutions\n",
    "\n",
    "Q11.80\n",
    "\n",
    "Q11.81\n",
    "\n",
    "Q11.82\n",
    "\n",
    "Q11.83\n",
    "\n",
    "Q11.84\n",
    "\n",
    "Q11.85"
   ]
  },
  {
   "cell_type": "code",
   "execution_count": null,
   "metadata": {},
   "outputs": [],
   "source": []
  }
 ],
 "metadata": {
  "kernelspec": {
   "display_name": "Python 3",
   "language": "python",
   "name": "python3"
  },
  "language_info": {
   "codemirror_mode": {
    "name": "ipython",
    "version": 3
   },
   "file_extension": ".py",
   "mimetype": "text/x-python",
   "name": "python",
   "nbconvert_exporter": "python",
   "pygments_lexer": "ipython3",
   "version": "3.7.1"
  }
 },
 "nbformat": 4,
 "nbformat_minor": 2
}
