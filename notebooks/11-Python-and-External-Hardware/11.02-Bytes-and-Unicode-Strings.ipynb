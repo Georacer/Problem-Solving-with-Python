{
 "cells": [
  {
   "cell_type": "markdown",
   "metadata": {},
   "source": [
    "## Bytes and Unicode Strings"
   ]
  },
  {
   "cell_type": "markdown",
   "metadata": {},
   "source": [
    "Before using **pyserial** and communicating with external hardware, it is import to understand the difference between _bytes_ and _unicode strings_ in Python. The distinction between the two is important because strings in Python are _unicode_ by default. However, external hardware like Arduino's, oscillascopes and voltmeters transmit characters as _bytes_."
   ]
  },
  {
   "cell_type": "markdown",
   "metadata": {},
   "source": [
    "### Unicode Strings"
   ]
  },
  {
   "cell_type": "markdown",
   "metadata": {},
   "source": [
    "In Python when a new string is defined, the syntax is:"
   ]
  },
  {
   "cell_type": "code",
   "execution_count": 1,
   "metadata": {},
   "outputs": [],
   "source": [
    "ustring = 'A unicode string'"
   ]
  },
  {
   "cell_type": "markdown",
   "metadata": {},
   "source": [
    "We can see what data type ```ustring``` is with the ```type``` function:"
   ]
  },
  {
   "cell_type": "code",
   "execution_count": 2,
   "metadata": {},
   "outputs": [
    {
     "name": "stdout",
     "output_type": "stream",
     "text": [
      "<class 'str'>\n"
     ]
    }
   ],
   "source": [
    "print(type(ustring))"
   ]
  },
  {
   "cell_type": "markdown",
   "metadata": {},
   "source": [
    "When Python shows the variable ```ustring``` is of ```<class 'str'>```, it indicates ```ustring``` is a _unicode string_. **In Python 3 all strings are _unicode strings_ by defaut**. _Unicode Strings_ are useful because there are many letter and letter-like characters that are not part of the the set of letters, numbers and symbols on a regular computer keyboard.  For instance, English is not the most widely spoken language on the planet. In Spanish, the accent character is used over certain vowels. Letters with accents can't be represented by the letters on a standard keyboard.  However those accent letters are part of a set of letters, numbers and symbols in _unicode strings_."
   ]
  },
  {
   "cell_type": "markdown",
   "metadata": {},
   "source": [
    "### Byte Strings\n",
    "\n",
    "Another way that characters such as letters, numbers and punctuation can be stored is as _bytes_. A _byte_ is a unit of computer information that has a fixed width (one byte long). Because of this fixed width, one _byte_ only has a small number of unique combinations. This limits _byte strings_ to basically only the letter, numbers and punctuation marks on a computer keyboard. This limited set of characters are called ASCII (pronounced _ask-ee two_) characters. A table of ASCII character codes is in the appendix. For instantance, ASCII code ```49``` corresponds to the number one ```1```. **Python does not use _byte strings_ by default**. But external hardware such as Arduinos, oscilloscopes, and voltmeters speak _byte strings_ by default. In fact almost all machines speak _byte strings_ by default including the servers that bring Netflix to your laptop. "
   ]
  },
  {
   "cell_type": "markdown",
   "metadata": {},
   "source": [
    "To define a _byte string_ in Python, a letter ```b``` is placed before the quotation marks when a string is created. "
   ]
  },
  {
   "cell_type": "code",
   "execution_count": 3,
   "metadata": {},
   "outputs": [],
   "source": [
    "bstring = b'bstring'"
   ]
  },
  {
   "cell_type": "markdown",
   "metadata": {},
   "source": [
    "We can view the type of our ```bstring``` variable using the ```type``` function"
   ]
  },
  {
   "cell_type": "code",
   "execution_count": 4,
   "metadata": {},
   "outputs": [
    {
     "name": "stdout",
     "output_type": "stream",
     "text": [
      "<class 'bytes'>\n"
     ]
    }
   ],
   "source": [
    "print(type(bstring))"
   ]
  },
  {
   "cell_type": "markdown",
   "metadata": {},
   "source": [
    "### Convert between unicode and bytes"
   ]
  },
  {
   "cell_type": "markdown",
   "metadata": {},
   "source": [
    "In order for Python to communicate with external hardware and external hardware to communicate with Python, we need to be able to convert between _unicode strings_ and _byte strings_. This conversion is done with the ```.encode()``` and ```.decode()``` methods. \n",
    "\n",
    "The ```.encode()``` method \"encodes\" a unicode string to a byte string.\n",
    "\n",
    "```<byte string> = <unicode string>.encode()```\n",
    "\n",
    "The ```.decode()``` method \"decodes\" a byte string into a unicode string.\n",
    "\n",
    "```<unicode string> = <byte string>.decode```\n",
    "\n",
    "Remember machines speak bytes, Python strings are unicode. We need to decode what machines transmit to Python before further processing. Python defaults unicode (and machines do not) so within our Python code we need to encode our unicode strings so machines can understand it."
   ]
  },
  {
   "cell_type": "code",
   "execution_count": 5,
   "metadata": {},
   "outputs": [
    {
     "data": {
      "text/plain": [
       "bytes"
      ]
     },
     "execution_count": 5,
     "metadata": {},
     "output_type": "execute_result"
    }
   ],
   "source": [
    "new_bstring = ustring.encode()\n",
    "type(new_bstring)"
   ]
  },
  {
   "cell_type": "code",
   "execution_count": 6,
   "metadata": {},
   "outputs": [
    {
     "data": {
      "text/plain": [
       "str"
      ]
     },
     "execution_count": 6,
     "metadata": {},
     "output_type": "execute_result"
    }
   ],
   "source": [
    "new_ustring = bstring.decode()\n",
    "type(new_ustring)"
   ]
  },
  {
   "cell_type": "markdown",
   "metadata": {},
   "source": [
    "If a command from Python (a unicode string) is sent to a piece of extrnal hardware (that read bytes), the ```.encode()``` method should be applied to the unicode string before being sent from Python to the piece of hardware.\n",
    "\n",
    "If a chunk of data is coming in from a piece of extrnal hardware (a byte string) and read by Python (which speaks _unicode_), the ```.decode()``` method should be applied to the byte string  (to convert it to a unicode string) before it is processed further by Python."
   ]
  },
  {
   "cell_type": "code",
   "execution_count": null,
   "metadata": {},
   "outputs": [],
   "source": []
  }
 ],
 "metadata": {
  "kernelspec": {
   "display_name": "Python 3",
   "language": "python",
   "name": "python3"
  },
  "language_info": {
   "codemirror_mode": {
    "name": "ipython",
    "version": 3
   },
   "file_extension": ".py",
   "mimetype": "text/x-python",
   "name": "python",
   "nbconvert_exporter": "python",
   "pygments_lexer": "ipython3",
   "version": "3.6.4"
  }
 },
 "nbformat": 4,
 "nbformat_minor": 2
}
