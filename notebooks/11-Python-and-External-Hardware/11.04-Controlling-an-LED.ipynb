{
 "cells": [
  {
   "cell_type": "markdown",
   "metadata": {},
   "source": [
    "## Controlling an LED with Python"
   ]
  },
  {
   "cell_type": "markdown",
   "metadata": {},
   "source": [
    "In this section we are going to control an LED connected to an external piece of hardware (an Arduino) using Python. To accomplish this the following hardware is required:\n",
    "\n",
    " * A computer running Python\n",
    " * An Arduino\n",
    " * An LED\n",
    " * Wires, a resistor and a breadboard to connect the LED to the Arduino\n",
    " * A USB cable to connect the Arduino to the computer"
   ]
  },
  {
   "cell_type": "markdown",
   "metadata": {},
   "source": [
    "### Set up the LED"
   ]
  },
  {
   "cell_type": "markdown",
   "metadata": {},
   "source": [
    "Connect the LED to the Arduino using a resistor, wires and a breadboard. Note the short leg of the resistor should be connected to ground and the long leg of the resistor should be connected through a resistor to PIN 13. A resistor is needed to prevent too much current from flowing through the LED. This type of resistor is called a _pull up resistor_."
   ]
  },
  {
   "cell_type": "markdown",
   "metadata": {},
   "source": [
    "![Arduino with LED](images/arduino_LED.png)"
   ]
  },
  {
   "cell_type": "markdown",
   "metadata": {},
   "source": [
    "### Upload code to the Arduino"
   ]
  },
  {
   "cell_type": "markdown",
   "metadata": {},
   "source": [
    "Upload the following code to the Arduino using the Arduino IDE. This is the example sketch called ```Physical Pixel```. The sketch can be found in the Arduino IDE by going to File --> Examples --> 04.Communication --> PhysicalPixel\n",
    "\n",
    "![Physical Pixel Example Sketch in the Arduino IDE](images/file-examples-communication-physicalpixel.png)\n",
    "\n",
    "The code for the Physical Pixel Sketch is also shown below. Note that Arduinos don't use the Python programming language."
   ]
  },
  {
   "cell_type": "markdown",
   "metadata": {},
   "source": [
    "```text\n",
    "//  Found in the Arduino IDE: File --> Examples --> 04.Communication --> PhysicalPixel\n",
    "\n",
    "const int ledPin = 13; // the pin that the LED is attached to\n",
    "int incomingByte;      // a variable to read incoming serial data into\n",
    "\n",
    "void setup() {\n",
    "  // initialize serial communication:\n",
    "  Serial.begin(9600);\n",
    "  // initialize the LED pin as an output:\n",
    "  pinMode(ledPin, OUTPUT);\n",
    "}\n",
    "\n",
    "void loop() {\n",
    "  // see if there's incoming serial data:\n",
    "  if (Serial.available() > 0) {\n",
    "    // read the oldest byte in the serial buffer:\n",
    "    incomingByte = Serial.read();\n",
    "    // if it's a capital H (ASCII 72), turn on the LED:\n",
    "    if (incomingByte == 'H') {\n",
    "      digitalWrite(ledPin, HIGH);\n",
    "    }\n",
    "    // if it's an L (ASCII 76) turn off the LED:\n",
    "    if (incomingByte == 'L') {\n",
    "      digitalWrite(ledPin, LOW);\n",
    "    }\n",
    "  }\n",
    "}\n",
    "```"
   ]
  },
  {
   "cell_type": "markdown",
   "metadata": {},
   "source": [
    "### Connect the Arduino to the Computer"
   ]
  },
  {
   "cell_type": "markdown",
   "metadata": {},
   "source": [
    "Connect the Arduino to the computer using a USB cable. Make sure a port is selected properly in the Arduino IDE: Tools --> Port. \n",
    "\n",
    "In the Arduino IDE, click the [checkmark] to verify and the [arrow] to upload. If the sketch does not upload, check which COM port is selected in Tools --> Ports.\n",
    "\n",
    "![Arduino IDE Check to Verify](images/Check_to_Verify.png)\n",
    "\n",
    "![Arduino IDE Arrow to Upload](images/Arrow_to_Upload.png)"
   ]
  },
  {
   "cell_type": "markdown",
   "metadata": {},
   "source": [
    "### Turn the LED on and off with the Arduino Serial Monitor"
   ]
  },
  {
   "cell_type": "markdown",
   "metadata": {},
   "source": [
    "Bring up the Arduino Serial Monitor and type ```L``` and ```H``` and see the LED turn on and off."
   ]
  },
  {
   "cell_type": "markdown",
   "metadata": {},
   "source": [
    "### Write a Pyton Script to turn the LED on and off"
   ]
  },
  {
   "cell_type": "markdown",
   "metadata": {},
   "source": [
    "After the LED is connected and the LED turns on and off based on input at the Arduino Serial Monitor, it is time to write a Python script to turn the LED on and off. This can be accomplished using the **PySerial** package. Make sure **PySerial** is installed before script is run. \n",
    "\n",
    "At the top of the script, import the **PySerial**. Note that even though the package is called **PySerial** the line ```import serial``` is used."
   ]
  },
  {
   "cell_type": "markdown",
   "metadata": {},
   "source": [
    "```python\n",
    "import serial\n",
    "import time\n",
    "```"
   ]
  },
  {
   "cell_type": "markdown",
   "metadata": {},
   "source": [
    "In the next part of the Python scripts, create a loop that will run for about 5 seconds while the LED is blinked on and off. Note the byte string ```H``` need to be sent to the Arduino, not the unicode string ```H```. The unicode string is pre-pended with the letter ```b``` as in ser.writelines(b'H')."
   ]
  },
  {
   "cell_type": "markdown",
   "metadata": {},
   "source": [
    "```python\n",
    "data = [] #create an empty list to store the data\n",
    "for i in range(10):\n",
    "    with serial.Serial('COM4', 9800, timeout=1) as ser:\n",
    "        ser.writelines(b'H')   # send a byte\n",
    "        time.sleep(0.5) # wait 0.5 seconds bfore reading the next line\n",
    "        ser.writelines(b'L')   # send a byte\n",
    "```     "
   ]
  },
  {
   "cell_type": "markdown",
   "metadata": {},
   "source": [
    "### Write a Python script to allow a user to turn the LED on and off"
   ]
  },
  {
   "cell_type": "markdown",
   "metadata": {},
   "source": [
    "Once the LED blinks on and off, it is time to write a Python script to allow a user to turn the LED on and off. At the top of the Python script import the PySerial Module."
   ]
  },
  {
   "cell_type": "markdown",
   "metadata": {},
   "source": [
    "```python\n",
    "import serial\n",
    "import time\n",
    "```"
   ]
  },
  {
   "cell_type": "markdown",
   "metadata": {},
   "source": [
    "Next give the user instructions. If the user types ```H```, the LED will turn on. If the user types ```L``` the LED will turn off. If the user types ```q```, the program will quit."
   ]
  },
  {
   "cell_type": "markdown",
   "metadata": {},
   "source": [
    "```python\n",
    "print('This is a program that allows a user to turn an LED on and off')\n",
    "print('H to turn the LED on')\n",
    "print('L to turn the LED off')\n",
    "print('q to quit')\n",
    "```"
   ]
  },
  {
   "cell_type": "markdown",
   "metadata": {},
   "source": [
    "Finally, the script needs a loop to ask the user for an ```H``` or ```L``` character. Once the user enters the letter, the  letter needs to be converted to a byte string,. The byte string can then sent over the serial line to the Arduino. A delay is added so that the Arduino can process the previous command before dealing with the next one. "
   ]
  },
  {
   "cell_type": "markdown",
   "metadata": {},
   "source": [
    "```python\n",
    "user_input = input('H = on, L = off, q = quit' : )\n",
    "while user_input != 'q':\n",
    "    with serial.Serial('COM4', 9800, timeout=1) as ser:\n",
    "        byte_command = encode(user_input)\n",
    "        ser.writelines(byte_command)   # send a byte\n",
    "        time.sleep(0.1) # wait 0.5 seconds before reading the next line\n",
    "\n",
    "print('q entered. Exiting the program')\n",
    "```    \n",
    "        "
   ]
  },
  {
   "cell_type": "code",
   "execution_count": null,
   "metadata": {},
   "outputs": [],
   "source": []
  }
 ],
 "metadata": {
  "kernelspec": {
   "display_name": "Python 3",
   "language": "python",
   "name": "python3"
  },
  "language_info": {
   "codemirror_mode": {
    "name": "ipython",
    "version": 3
   },
   "file_extension": ".py",
   "mimetype": "text/x-python",
   "name": "python",
   "nbconvert_exporter": "python",
   "pygments_lexer": "ipython3",
   "version": "3.6.5"
  }
 },
 "nbformat": 4,
 "nbformat_minor": 2
}
