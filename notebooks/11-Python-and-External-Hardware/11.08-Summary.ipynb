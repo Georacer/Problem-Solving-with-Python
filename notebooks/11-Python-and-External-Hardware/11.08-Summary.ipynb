{
 "cells": [
  {
   "cell_type": "markdown",
   "metadata": {
    "latex": {
     "before_cell": "newpage"
    }
   },
   "source": [
    "## Summary"
   ]
  },
  {
   "cell_type": "markdown",
   "metadata": {},
   "source": [
    "### Key Terms and Concepts"
   ]
  },
  {
   "cell_type": "markdown",
   "metadata": {
    "latex": {
     "environment": "key_terms"
    }
   },
   "source": [
    "External Hardware\n",
    "\n",
    "Sensor\n",
    "\n",
    "LED\n",
    "\n",
    "Resistor\n",
    "\n",
    "breadboard\n",
    "\n",
    "Arduino\n",
    "\n",
    "Serial Communication\n",
    "\n",
    "USB\n",
    "\n",
    "Unicode\n",
    "\n",
    "Unicode String\n",
    "\n",
    "UTF-8\n",
    "\n",
    "Byte code\n",
    "\n",
    "ASCII\n",
    "\n",
    "ASCII Character"
   ]
  },
  {
   "cell_type": "code",
   "execution_count": null,
   "metadata": {},
   "outputs": [],
   "source": []
  }
 ],
 "metadata": {
  "kernelspec": {
   "display_name": "Python 3",
   "language": "python",
   "name": "python3"
  },
  "language_info": {
   "codemirror_mode": {
    "name": "ipython",
    "version": 3
   },
   "file_extension": ".py",
   "mimetype": "text/x-python",
   "name": "python",
   "nbconvert_exporter": "python",
   "pygments_lexer": "ipython3",
   "version": "3.6.5"
  }
 },
 "nbformat": 4,
 "nbformat_minor": 2
}
