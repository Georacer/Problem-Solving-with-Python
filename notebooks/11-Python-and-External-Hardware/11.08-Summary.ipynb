{
 "cells": [
  {
   "cell_type": "markdown",
   "metadata": {
    "latex": {
     "before_cell": "newpage"
    }
   },
   "source": [
    "## Summary"
   ]
  },
  {
   "cell_type": "markdown",
   "metadata": {},
   "source": [
    "### Key Terms and Concepts"
   ]
  },
  {
   "cell_type": "markdown",
   "metadata": {
    "latex": {
     "environment": "key_terms"
    }
   },
   "source": [
    "External Hardware\n",
    "\n",
    "Sensor\n",
    "\n",
    "LED\n",
    "\n",
    "Resistor\n",
    "\n",
    "Breadboard\n",
    "\n",
    "Arduino\n",
    "\n",
    "Serial Communication\n",
    "\n",
    "USB\n",
    "\n",
    "Unicode\n",
    "\n",
    "Unicode String\n",
    "\n",
    "UTF-8\n",
    "\n",
    "Byte code\n",
    "\n",
    "ASCII\n",
    "\n",
    "ASCII Character"
   ]
  },
  {
   "cell_type": "markdown",
   "metadata": {},
   "source": [
    "### Additional Resources\n",
    "\n",
    "The official documentation for the PySerial Package is found here: [https://docs.pyserial.com](#)\n",
    "    \n",
    "The Arduino project has a great set of tutorials found here:[https://Arduino.com/tutorials](#)\n",
    "    \n",
    "SparkFun has a great overview of wiring an LED to an Arduino here: and a great overview of writing a potentiometer to an Arduino here:"
   ]
  },
  {
   "cell_type": "markdown",
   "metadata": {},
   "source": [
    "### Review Questions\n",
    "\n",
    "Q11.01\n",
    "\n",
    "Q11.02\n",
    "\n",
    "Q11.03\n",
    "\n",
    "Q11.04\n",
    "\n",
    "Q11.05\n",
    "\n",
    "Q11.06\n",
    "\n",
    "#### Errors, Explanations, and Solutions\n",
    "\n",
    "Q11.80\n",
    "\n",
    "```\n",
    "import serial\n",
    "\n",
    "string = 'L'\n",
    "\n",
    "```\n",
    "\n",
    "Q11.81\n",
    "\n",
    "Q11.82\n",
    "\n",
    "Q11.83\n",
    "\n"
   ]
  }
 ],
 "metadata": {
  "kernelspec": {
   "display_name": "Python 3",
   "language": "python",
   "name": "python3"
  },
  "language_info": {
   "codemirror_mode": {
    "name": "ipython",
    "version": 3
   },
   "file_extension": ".py",
   "mimetype": "text/x-python",
   "name": "python",
   "nbconvert_exporter": "python",
   "pygments_lexer": "ipython3",
   "version": "3.7.1"
  }
 },
 "nbformat": 4,
 "nbformat_minor": 2
}
