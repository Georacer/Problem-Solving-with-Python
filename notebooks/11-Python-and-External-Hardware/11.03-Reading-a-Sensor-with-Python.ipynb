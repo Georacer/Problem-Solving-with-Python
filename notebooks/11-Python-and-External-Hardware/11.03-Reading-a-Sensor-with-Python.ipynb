{
 "cells": [
  {
   "cell_type": "markdown",
   "metadata": {},
   "source": [
    "## Reading a Sensor with Python"
   ]
  },
  {
   "cell_type": "markdown",
   "metadata": {},
   "source": [
    "In this section you will learn how to read a sensor connected to an external piece of hardware (an Arduino) using Python. To accomplish this the following hardware is required:\n",
    "\n",
    " * A computer running Python\n",
    " * An Arduino\n",
    " * A potentiometer (the sensor)\n",
    " * wires, a resistor and a breadboard to connect the sensor to the Arduino\n",
    " * A USB cable to connect the Arduino to the computer"
   ]
  },
  {
   "cell_type": "markdown",
   "metadata": {},
   "source": [
    "### Set up the sensor"
   ]
  },
  {
   "cell_type": "markdown",
   "metadata": {},
   "source": [
    "Connect the sensor to the Arduino using a resistor, wires and a breadboard. Note the long lead of the LED is connected to PIN13 and the short lead of the LED is connected through a resistor to ground. If the LED is wired backwards, the LED will not turn on. The blue square with an arrow on it is a potentiometer. It is a good sensor to use because potentiometers can be controlled by a user and the user knows when the sensor signal is changed.\n",
    "\n",
    "The hardware schematic below describes how to connect the Arudino, LED and potentiometer."
   ]
  },
  {
   "cell_type": "markdown",
   "metadata": {},
   "source": [
    "![Arduino with potentiometer](images/redboard_pot_led_fritzing.png)"
   ]
  },
  {
   "cell_type": "markdown",
   "metadata": {},
   "source": [
    "### Upload code to the Arduino"
   ]
  },
  {
   "cell_type": "markdown",
   "metadata": {},
   "source": [
    "Once the LED and potentiometer is hooked up the the Arduino, upload the following code to the Arduino using the Arduino IDE. Note Arduinos use a programming language that is not Python. This Arduino sketch (a sketch is what an Arduino program is called) does a couple things. First the Arduino reads the sensor value and stores the sensor value in a variable. Then the Arduino sends the sensor value over the serial line (as a byte sting). Next the sensor value is compared to 500. If the sensor value is less than 500 the LED stays off. If the sensor value is greater than 500, the LED turn on. This process repeats in a loop."
   ]
  },
  {
   "cell_type": "markdown",
   "metadata": {},
   "source": [
    "```text\n",
    "// potentiometer_read.ino\n",
    "// reads a potentiometer and sends value over serial\n",
    "int sensorPin = A0;    // The potentiometer is connected to analog pin 0                  \n",
    "int ledPin = 13;      // The LED is connected to digital pin 13\n",
    "int sensorValue;     // an integer variable to store the potentiometer reading\n",
    "\n",
    "void setup() // this function runs once when the sketch starts\n",
    "{\n",
    "  // make the LED pin (pin 13) an output pin\n",
    "  pinMode(ledPin, OUTPUT);\n",
    "\n",
    "  // initialize serial communication:\n",
    "  Serial.begin(9600);\n",
    "}\n",
    "\n",
    "void loop() // this function runs repeatedly after setup() finishes\n",
    "{\n",
    "  sensorValue = analogRead(sensorPin);  // read the voltage at pin A0   \n",
    "  Serial.println(sensorValue);         // Output sensor value to Serial Monitor\n",
    "  \n",
    "  if (sensorValue < 500) {            // if sensor output is less than 500,\n",
    "    digitalWrite(ledPin, LOW); }     // Turn the LED off\n",
    "  \n",
    "  else {                               // if sensor output is greater than 500\n",
    "    digitalWrite(ledPin, HIGH); }     // Keep the LED on\n",
    "  \n",
    "  delay(100);             // Pause 100 milliseconds before next reading\n",
    "}\n",
    "```"
   ]
  },
  {
   "cell_type": "markdown",
   "metadata": {},
   "source": [
    "### Connect the Arduino to the computer and Upload the Sketch"
   ]
  },
  {
   "cell_type": "markdown",
   "metadata": {},
   "source": [
    "Connect the Arduino to the computer using a USB cable. Upload the sketch from the computer to the Arduino. In the Arduino IDE, click the check mark to verify and the arrow to upload. If the sketch does not upload, check which COM port is selected in Tools --> Ports.\n",
    "\n",
    "![Arduino IDE Check to Verify](images/Check_to_Verify.png)\n",
    "\n",
    "![Arduino IDE Arrow to Upload](images/Arrow_to_Upload.png)"
   ]
  },
  {
   "cell_type": "markdown",
   "metadata": {},
   "source": [
    "### Check the Sensor Signal"
   ]
  },
  {
   "cell_type": "markdown",
   "metadata": {},
   "source": [
    "To verify the Arduino sketch is working correctly, the sensor signal can be checked in three ways:\n",
    " * The LED will turn on and off as the potentiometer dial is turned\n",
    " * In the Arudino Serial Monitor, numbers change as the potentiometer dial is turned\n",
    " * In the Arduino Seral Plotter, the line moves as the potentiometer dial is turned."
   ]
  },
  {
   "cell_type": "markdown",
   "metadata": {},
   "source": [
    "#### LED turns ON and OFF\n",
    "\n",
    "The LED should turn on and off as the potentiometer is turned. If the LED does note turn on and off when the poteniometer is turned, make sure the potentiometer is turned back and forth through it's full range of rotation. Ensure the USB cable is plugged in to both the Arudino and the computer."
   ]
  },
  {
   "cell_type": "markdown",
   "metadata": {},
   "source": [
    "#### Arudino Serial Monitor\n",
    "\n",
    "A running list of numbers should be seen in the Arduino Serial Monitor if the sketch is working. To access the Arduino Serial Monitor use Tools --> Serial Monitor\n",
    "\n",
    "![Arudion IDE Tools Serial Monitor](images/Tools_SerialMonitor.png)"
   ]
  },
  {
   "cell_type": "markdown",
   "metadata": {},
   "source": [
    "The output in the Serial Monitor should be a running list of numbers between zero and 1024. When the potentiometer is dialed back and forth the numbers streaming down the Serial Monitor should change. If output is not shown in the Serial Monitor, ensure both Auto Scroll, NL & CR, 9600 baud are selected. Also make sure the Port is set correctly in Tools --> Port. \n",
    "\n",
    "![Arduino Serial Monitor Ouput](images/serial_monitor_output.png)"
   ]
  },
  {
   "cell_type": "markdown",
   "metadata": {},
   "source": [
    "#### Arduino Serial Plotter\n",
    "\n",
    "A moving line should be seen in the Arduino Serial Plotter if the sketch is working correctly. To access the Arduino Serial Plotter use Tools --> Serial Monitor. Note the Serial Monitor needs to be closed before the Serial Plotter can be opened. \n",
    "\n",
    "![Arduino Serial Plotter Menu](images/Tools_SerialPlotter.png)\n",
    "\n",
    "The output of the Serial Plotter should be a running line graph. The height of the line on the graph should change as the potentiometer is dialed back and forth. If  the Serial Plotter is blank, make sure 9600 baud is selected in the lower right corner of the Serial Plotter. Also make sure the Port has been set correctly in Tools --> Port.\n",
    "\n",
    "![Arudino Seral Plotter](images/serial_plotter_output.png)\n"
   ]
  },
  {
   "cell_type": "markdown",
   "metadata": {},
   "source": [
    "### Write a Pyton Script to read the sensor"
   ]
  },
  {
   "cell_type": "markdown",
   "metadata": {},
   "source": [
    "Once the hardware is connected and the Arduino sketch is working correctly, a Python script can be constructed to read the sensor value. This can be accomplished using the **PySerial** package. Make sure **PySerial** is installed before the script is run. At the top of the script, import the **PySerial**. Note although the package is called **PySerial** to import the package use ```import serial```."
   ]
  },
  {
   "cell_type": "markdown",
   "metadata": {},
   "source": [
    "```python\n",
    "import serial\n",
    "import time\n",
    "```"
   ]
  },
  {
   "cell_type": "markdown",
   "metadata": {},
   "source": [
    "Next create a loop that will run for about 5 seconds while data is collected from the sensor. If it seems like the loop is stuck, press [Ctrl] + [c]."
   ]
  },
  {
   "cell_type": "markdown",
   "metadata": {},
   "source": [
    "```python\n",
    "data = [] #create an empty list to store the data\n",
    "for i in range(50):\n",
    "    with serial.Serial('COM4', 9800, timeout=1) as ser:\n",
    "        line = ser.readline()   # read a '\\n' terminated line\n",
    "        string = line.decode()  # convert byte string to unicode string\n",
    "        data.append(float(string)) # convert unicode string to float and add to data list\n",
    "        time.sleep(0.1) # wait 0.1 seconds bfore reading the next line\n",
    "```      "
   ]
  },
  {
   "cell_type": "markdown",
   "metadata": {},
   "source": [
    "Now after the data has been collected, it can be displayed with the ```print()``` function and a ```for``` loop. The output should look like the numbers in the Arduino Serial Monitor."
   ]
  },
  {
   "cell_type": "markdown",
   "metadata": {},
   "source": [
    "```python\n",
    "for line in data:\n",
    "    print(line)\n",
    "```"
   ]
  },
  {
   "cell_type": "markdown",
   "metadata": {},
   "source": [
    "The data can also be plotted with **matplotlib**. The plot should look like the line plot in the Arduino Serial Plotter."
   ]
  },
  {
   "cell_type": "markdown",
   "metadata": {},
   "source": [
    "```python\n",
    "import matplotlib.pyplot as plt\n",
    "%matplotlib inline\n",
    "\n",
    "plt.plot(data)\n",
    "plt.show()\n",
    "```"
   ]
  },
  {
   "cell_type": "code",
   "execution_count": null,
   "metadata": {},
   "outputs": [],
   "source": []
  }
 ],
 "metadata": {
  "kernelspec": {
   "display_name": "Python 3",
   "language": "python",
   "name": "python3"
  },
  "language_info": {
   "codemirror_mode": {
    "name": "ipython",
    "version": 3
   },
   "file_extension": ".py",
   "mimetype": "text/x-python",
   "name": "python",
   "nbconvert_exporter": "python",
   "pygments_lexer": "ipython3",
   "version": "3.6.4"
  }
 },
 "nbformat": 4,
 "nbformat_minor": 2
}
