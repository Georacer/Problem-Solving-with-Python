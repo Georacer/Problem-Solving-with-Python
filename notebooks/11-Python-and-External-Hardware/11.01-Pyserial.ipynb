{
 "cells": [
  {
   "cell_type": "markdown",
   "metadata": {},
   "source": [
    "## Pyserial"
   ]
  },
  {
   "cell_type": "markdown",
   "metadata": {},
   "source": [
    "**Pyserial** is a Python package that facilitates serial communication. A computer running Python with the **pyserial** package installed can communicate with external hardware.  **Pyserial** is a useful package for engineers because it allows engineers to exchange data between a computer and pieces of hardware such as voltmeters, oscilloscopes, strain gauges, flow meters etc.\n",
    "\n",
    "**Pyserial** provides an interface to communicate over the _serial_ communication protocol. Serial communication is one of the oldest computer communication protocols. Serial communication predates the USB specification now used by computers and other pieces of hardware like mice, keyboards and webcams. USB stands for Universal Serial Bus. USB and is built upon and extends the original serial communication interface."
   ]
  },
  {
   "cell_type": "markdown",
   "metadata": {},
   "source": [
    "### Installing Pyserial"
   ]
  },
  {
   "cell_type": "markdown",
   "metadata": {},
   "source": [
    "To use the **pyserial** package with **Python**, **pyserial** needs to be installed.  **Pyserial** can be installed using the **Anaconda Prompt** or **pyserial** can be installed over the command line using **pip**:\n",
    "\n",
    "```\n",
    "> conda install pyserial\n",
    "```\n",
    "\n",
    "or \n",
    "\n",
    "```\n",
    "$ pip install pyserial\n",
    "```\n",
    "\n",
    "After installing **pyserial**, the successful installation can be confirmed at the Python REPL:"
   ]
  },
  {
   "cell_type": "code",
   "execution_count": 1,
   "metadata": {},
   "outputs": [
    {
     "name": "stdout",
     "output_type": "stream",
     "text": [
      "3.4\n"
     ]
    }
   ],
   "source": [
    ">>> import serial\n",
    ">>> print(serial.__version__)"
   ]
  },
  {
   "cell_type": "markdown",
   "metadata": {},
   "source": [
    "<div class=\"alert alert-info\">\n",
    "Note: even though **pyserial** is installed with ```conda install pyserial```, the module is imported with the line ```import serial```.\n",
    "</div>"
   ]
  },
  {
   "cell_type": "code",
   "execution_count": null,
   "metadata": {},
   "outputs": [],
   "source": []
  }
 ],
 "metadata": {
  "kernelspec": {
   "display_name": "Python 3",
   "language": "python",
   "name": "python3"
  },
  "language_info": {
   "codemirror_mode": {
    "name": "ipython",
    "version": 3
   },
   "file_extension": ".py",
   "mimetype": "text/x-python",
   "name": "python",
   "nbconvert_exporter": "python",
   "pygments_lexer": "ipython3",
   "version": "3.6.5"
  }
 },
 "nbformat": 4,
 "nbformat_minor": 2
}
