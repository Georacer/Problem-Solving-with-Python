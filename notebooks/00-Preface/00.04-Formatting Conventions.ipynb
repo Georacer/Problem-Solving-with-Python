{
 "cells": [
  {
   "cell_type": "markdown",
   "metadata": {},
   "source": [
    "## Formatting Conventions"
   ]
  },
  {
   "cell_type": "markdown",
   "metadata": {},
   "source": [
    "This book and supporting materials use the following formatting conventions:"
   ]
  },
  {
   "cell_type": "markdown",
   "metadata": {},
   "source": [
    "### Web Address\n",
    "\n",
    "Web address will be shown as:\n",
    "\n",
    "https://github.com/professorkazarinoff/Problem-Solving-with-Python\n",
    " "
   ]
  },
  {
   "cell_type": "markdown",
   "metadata": {},
   "source": [
    "### Import terms and vocabulary\n",
    " \n",
    "Important terms and vocabulary is shown in _italic text_\n",
    "\n",
    "<br>\n",
    "\n",
    "There is a difference between _local variables_ and _global variables_ in Python code\n",
    "  "
   ]
  },
  {
   "cell_type": "markdown",
   "metadata": {},
   "source": [
    "### File Names\n",
    " \n",
    "File Names are  shown in **_bold and italic text_**\n",
    "\n",
    "<br>\n",
    "\n",
    "After completing the code, save the file as **_hello.py_** in the current directory."
   ]
  },
  {
   "cell_type": "markdown",
   "metadata": {},
   "source": [
    "### Module and Package Names\n",
    " \n",
    "Module and Package names will be shown in **bold text**\n",
    "\n",
    "<br>\n",
    " \n",
    "**Numpy** and **matplotlib** are two useful packages for problem solvers.\n",
    "  \n",
    " "
   ]
  },
  {
   "cell_type": "markdown",
   "metadata": {},
   "source": [
    "### Inline code\n",
    " \n",
    "Inline code including variable names and extensions are shown in ```monospace font```\n",
    "\n",
    "<br>\n",
    " \n",
    "To compare a variable use ```var == 'string'``` and make sure to include ```==```, the doouble equals sign.\n",
    "  "
   ]
  },
  {
   "cell_type": "markdown",
   "metadata": {},
   "source": [
    "### Separate code blocks\n",
    "  \n",
    "Separate code blocks will appear in their own sections in ```monospaced font```\n",
    "\n",
    "```\n",
    "import numpy as np\n",
    "import pandas as pd\n",
    "import matplotlib.pyplot as plt\n",
    "```"
   ]
  },
  {
   "cell_type": "markdown",
   "metadata": {},
   "source": [
    "### Anaconda Prompt Commands\n",
    " \n",
    "Commands typed into the **Anaconda Prompt** are shown in separate boxes which contain the prompt symbol ```>``` before each line. Note the prompt ```>``` should not be typed. It is included to indicate **Anaconda Prompt**, not a character for the user to enter.\n",
    "\n",
    "```text\n",
    "> conda create -n newenv pyton=3.6\n",
    "> conda activate newenv\n",
    "```"
   ]
  },
  {
   "cell_type": "markdown",
   "metadata": {},
   "source": [
    "### Teminal Commands\n",
    " \n",
    "Commands typed into the terminal appear in separate boxes which contain the dollar symbol ```$```  before each line. Note the dollar symbol ```$``` should not be typed. It is included to indicate a terminal prompt, not a character for the user to enter.\n",
    " \n",
    "```text\n",
    "$ pip install pint\n",
    "$ cd pint_srcipts\n",
    "```"
   ]
  },
  {
   "cell_type": "markdown",
   "metadata": {},
   "source": [
    "### Python REPL Commands\n",
    "\n",
    "Commands typed into the **Python REPL**, or Python Interpreter appear in separate code boxes, which contain the triple arrow prompt ```>>>``` . Note the triple arrow ```>>>``` sign should not be typed. Triple arrows are included to indicate the Python REPL prompt, not a character for the user to enter. Output from the Python REPL is shown on a separate line below the command, without the ```>>>``` prompt.\n",
    "\n",
    "```python\n",
    ">>> 2 + 2\n",
    "4\n",
    ">>> print('Problem Solving with Python')\n",
    "Problem Solving with Python\n",
    "```"
   ]
  },
  {
   "cell_type": "markdown",
   "metadata": {},
   "source": [
    "### Jupyter Notebook cells\n",
    "\n",
    "Commands typed into Jupyter notebook cells will appear with the label ```In [#]:```. Output from Jupyter notebook cells are shown after the input cell. Only code in the input cells need to be typed. Output cell are be produced automatically by clicking the run button or typing ```[shift]+[Enter]```"
   ]
  },
  {
   "cell_type": "code",
   "execution_count": 1,
   "metadata": {},
   "outputs": [
    {
     "name": "stdout",
     "output_type": "stream",
     "text": [
      "5\n"
     ]
    }
   ],
   "source": [
    "A = 2\n",
    "B = 3\n",
    "C = A + B\n",
    "print(C)"
   ]
  },
  {
   "cell_type": "markdown",
   "metadata": {
    "collapsed": true
   },
   "source": [
    "### Keystrokes and Buttons\n",
    "\n",
    "Keystrokes directly entered by the keyboard or buttton that are indicated on programs or webpages will be shown inside square brackets and in ```[monospaced font]```.\n",
    "\n",
    "<br>\n",
    "\n",
    "In order to delete a line use the ```[Backspace]``` key. To exit the shell type ```[shift]+[c]```"
   ]
  },
  {
   "cell_type": "code",
   "execution_count": null,
   "metadata": {},
   "outputs": [],
   "source": []
  }
 ],
 "metadata": {
  "kernelspec": {
   "display_name": "Python 3",
   "language": "python",
   "name": "python3"
  },
  "language_info": {
   "codemirror_mode": {
    "name": "ipython",
    "version": 3
   },
   "file_extension": ".py",
   "mimetype": "text/x-python",
   "name": "python",
   "nbconvert_exporter": "python",
   "pygments_lexer": "ipython3",
   "version": "3.6.4"
  }
 },
 "nbformat": 4,
 "nbformat_minor": 2
}
