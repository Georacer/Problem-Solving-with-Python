{
 "cells": [
  {
   "cell_type": "markdown",
   "metadata": {},
   "source": [
    "## Review Questions"
   ]
  },
  {
   "cell_type": "markdown",
   "metadata": {},
   "source": [
    "#### For Loops"
   ]
  },
  {
   "cell_type": "markdown",
   "metadata": {
    "latex": {
     "environment": "problems"
    }
   },
   "source": [
    "08.01 Create a for loops to print out the numbers 1 to 10.\n",
    "\n",
    "Q08.02 Create a for loop to print out the number -1 to -10 starting at -1 and ending at -10.\n",
    "\n",
    "Q08.03 Create a for loop to print out all the letters in the word ```'love'```\n",
    "\n",
    "Q08.04 Use a for loop to sum the elements in the list ```[1,3,5,8,12]```. Print the sum to the user.\n",
    "\n",
    "Q08.05 Create the Fibonacci sequence using a for loop. Print out the first 20 terms of the Fibonacci sequence on one line.\n",
    "\n",
    "Q08.06 (a) Use a for loop to print out the numbers 1 to 30\n",
    "\n",
    "(b) Use a for loop to print out all the numbers 1 to 30, but leave out any number which is divisible by 3, such as 3,6 and 9.\n",
    "\n",
    "(c) Use a for loop to print out all the numbers 1 to 30, but leave out any number which is divisible by 5, such as 5,10 and 15.\n",
    "\n",
    "(d) Use a for loop to print out all the numbers 1 to 30, but insert the word ```fizz``` for any number that is divisible by 3, insert the word ```buzz``` for any number that is divisible by 5 and insert the word ```fizz buzz``` for any numbers that are both divisible by 3 and 5, like 15.\n",
    "\n",
    "Q 08.07 Imagine you can see the future of investing and over the next five years, the interest rate of return on investments is going to be 0.05, 0.07, 0.1, 0.3. Prompt the user for an initial investment and use the formula below to calculate how much the investment is worth each year.\n",
    "\n",
    "new balance = old balance + old balance $\\times$ interest rate\n",
    "\n",
    "Q 08.07 Imagine you can see the future of investing and over the next four years, the interest rate of return on investments is going to be 0.02, 0.03, 0.015, 0.1. Prompt the user for an initial investment with Python's ```input(_)``` function and use the formula below to calculate how much the investment will be worth after four years.\n",
    "\n",
    "new balance = old balance + old balance $\\times$ interest rate\n",
    "\n",
    "Note the first \"old balance\" is the person's initial investment.\n",
    "\n",
    "Q 08.08 A geometric series is a series that has a common ratio between the terms. The sum of the geometric series that starts at $\\frac{1}{2}$ and has a common ratio of $\\frac{1}{2}$ approaches the value 1. \n",
    "\n",
    "The formula that shows the sum of a geometric series which approaches 1 is below.\n",
    "\n",
    "$$ 1 = \\frac{1}{2} + \\frac{1}{4} + \\frac{1}{8} + \\frac{1}{16} + ... $$\n",
    "\n",
    "Use the geometric series above to approximate the value of 1 after 10 terms are added. Print out how far off the geometric series approximation is to 1.\n",
    "\n",
    "Q 08.09 A Taylor Series is an infinite series of mathematical terms that when summed together approximate a mathematical function. A Taylor Series can be used to approximate $e^x$, $sine$, and $cosine$.\n",
    "\n",
    "Taylor Series expansion for the function  $e^x$ is below:\n",
    "\n",
    "$$  {e^x} = \\sum\\limits_{n = 0}^\\infty  {\\frac{{{x^n}}}{{n!}}}  = 1 + x + \\frac{{{x^2}}}{{2!}} + \\frac{{{x^3}}}{{3!}} + \\frac{{{x^4}}}{{4!}} + ... $$\n",
    "\n",
    "Write a program that asks a user for a number $x$, then calculates $e^x$ using the Taylor Series expansion. Calculate 20 terms."
   ]
  },
  {
   "cell_type": "markdown",
   "metadata": {},
   "source": [
    "#### While Loops"
   ]
  },
  {
   "cell_type": "markdown",
   "metadata": {},
   "source": [
    "Q08.40 Use a for loop to sum the elements in the list ```[1,3,5,8,12]```. Print the sum to the user. \n",
    "\n",
    "Q08.41 Use a while loop to print out the numbers between 1 and 100 that have whole number square roots.\n",
    "\n",
    "Q08.42 Create a program that prompts a user for test scores. Continue to prompt the user for additional test scores until the user types ```'q'```. When the user types ```'q'```, the program stops asking the user for test scores and prints out the following statistics about the test scores the user entered:\n",
    "\n",
    " * mean\n",
    " * median\n",
    " * standard deviation\n",
    "\n",
    "Q08.43 Use while loop to validate user input. Ask the user to enter a value between 0 and 1. Print back to the user \"Try again\" if the user's input is invalid. Print \"Your number works!\" when the user enters valid input.\n",
    "\n",
    "Q08.44 Use a while loop to validate user input. Ask the user to enter a day of the week. Keep asking the user for a day of the week until they enter one. When the user enters a day of the week, print back to the \"Yup, it's ```<day of the week>```\".\n",
    "\n",
    "Q08.45 Write a program to play the game higher/lower. Tell the user you have picked a random integer between 1 and 20. \n",
    "\n",
    "The code below creates a random integer ```n``` between 1 and 20:\n",
    "\n",
    "```python\n",
    "from random import randint\n",
    "n = (randint(1, 20))\n",
    "```\n",
    "\n",
    "(a) Ask the user to enter a number (one time) and tell the user if the number random is higher or lower. Print ```higher``` if the random number is higher than the user's guess, print ```lower``` if the random number is lower than the user's guess. Print ```You guessed it: ```<random number>``` if the user guesses the random number.\n",
    "\n",
    "(b) Modify your program so that the program keeps printing ```higher``` or ```lower``` after each guess until the user guesses the random number. When the user guesses the random number print ```You guessed it: ```<random number>```.\n",
    "    \n",
    "(c) Extend your higher/lower game to record the number of guesses the user enters to guess the random number. Then the user guesses the random number print ```You guessed: ```<random number``` in ```<number of tries>``` tries```.\n",
    "    \n",
    "Q 08.46 A Taylor Series is an infinite series of mathematical terms that when summed together approximate a mathematical function. A Taylor Series can be used to approximate $e^x$, $sine$, and $cosine$.\n",
    "\n",
    "Taylor Series expansion for the function  $e^x$ is below:\n",
    "\n",
    "$$  {e^x} = \\sum\\limits_{n = 0}^\\infty  {\\frac{{{x^n}}}{{n!}}}  = 1 + x + \\frac{{{x^2}}}{{2!}} + \\frac{{{x^3}}}{{3!}} + \\frac{{{x^4}}}{{4!}} + ... $$\n",
    "\n",
    "Write a program that asks a user for a number $x$, then calculates $e^x$ using the Taylor Series expansion. Continue to add terms to the Taylor Series until the result from the Taylor series is less than 0.001 off the value of $e^x$ calculated with Python's ```math.exp()``` function. \n"
   ]
  },
  {
   "cell_type": "markdown",
   "metadata": {},
   "source": [
    "#### Errors, Explainations, and Solutions\n",
    "\n",
    "Run the following code snippets. Explain the error in your own words. Rewrite the code snippet to solve the error."
   ]
  },
  {
   "cell_type": "markdown",
   "metadata": {},
   "source": [
    "Q08.80\n",
    "\n",
    "```python\n",
    "n = [1 2 3]\n",
    "for n[1] == 2:\n",
    "    n = n + 1\n",
    "end\n",
    "```\n",
    "\n",
    "Q08.81\n",
    "\n",
    "```python\n",
    "while x in [1, 2, 3]:\n",
    "    print(x)\n",
    "```\n",
    "\n",
    "Q08.82\n",
    "\n",
    "```python\n",
    "n = 1\n",
    "while 1 == n\n",
    "    print('valid')\n",
    "    n = n +1\n",
    "```\n",
    "\n",
    "Q08.83\n",
    "\n",
    "```python\n",
    "for i in range(3):\n",
    "print(i)\n",
    "```"
   ]
  },
  {
   "cell_type": "code",
   "execution_count": null,
   "metadata": {},
   "outputs": [],
   "source": []
  }
 ],
 "metadata": {
  "celltoolbar": "Edit Metadata",
  "kernelspec": {
   "display_name": "Python 3",
   "language": "python",
   "name": "python3"
  },
  "language_info": {
   "codemirror_mode": {
    "name": "ipython",
    "version": 3
   },
   "file_extension": ".py",
   "mimetype": "text/x-python",
   "name": "python",
   "nbconvert_exporter": "python",
   "pygments_lexer": "ipython3",
   "version": "3.6.8"
  }
 },
 "nbformat": 4,
 "nbformat_minor": 2
}
