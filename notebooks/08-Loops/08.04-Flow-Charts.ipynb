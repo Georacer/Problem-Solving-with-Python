{
 "cells": [
  {
   "cell_type": "markdown",
   "metadata": {},
   "source": [
    "## Flow Charts"
   ]
  },
  {
   "cell_type": "markdown",
   "metadata": {},
   "source": [
    "Flow charts show the flow of a program graphically. Flow charts were introduced in the previous chapter to describe how a program that includes _if_ statements can be described graphically. This chapter is about _loops_. Flow charts can describe programs which contain _for loops_ and _while loops_"
   ]
  },
  {
   "cell_type": "markdown",
   "metadata": {},
   "source": [
    "### Basic Flow Chart Shapes"
   ]
  },
  {
   "cell_type": "markdown",
   "metadata": {},
   "source": [
    "Let's review the four basic shapes in a flow chart. Each shape is used to represent a different type of operation.\n",
    "\n",
    " * oval: start and end\n",
    " * parallelogram: input and output\n",
    " * rectangle: calculations\n",
    " * diamond: selection structures\n",
    " \n",
    "![four flow chart shapes](images/four_flow_chart_shapes.png)\n",
    " \n",
    " The basic shapes in a flow chart are connected by arrows. The shapes and arrows in a flow chart describe the flow of a program from start to end.\n"
   ]
  },
  {
   "cell_type": "markdown",
   "metadata": {},
   "source": [
    "### Flow chart of a program that contains a for loop"
   ]
  },
  {
   "cell_type": "markdown",
   "metadata": {},
   "source": [
    "Below is the description of a program could be coded with a _for loop_:\n",
    "\n",
    " > The program starts. The program prints the word \"looping\" 10 times. Finally, the program ends.\n",
    "\n",
    "A flow chart that describes this program is below:\n",
    "\n",
    "![flow chart of a program that contains a for loop](images/flow_chart_of_program_that_contains_a_for_loop.png)\n",
    "\n",
    "The Python code that corresponds to this flow chart is:\n",
    "\n",
    "```python\n",
    "# start\n",
    "for i in range(10):\n",
    "    print(\"looping\")\n",
    "# end\n",
    "```"
   ]
  },
  {
   "cell_type": "markdown",
   "metadata": {},
   "source": [
    "### Flow chart of a program that contains a while loop"
   ]
  },
  {
   "cell_type": "markdown",
   "metadata": {},
   "source": [
    "Below is the description of a program could be coded with a _while loop_:\n",
    "\n",
    " > The program starts. The program asks the user for a positive number. If the number the user enters is negative, the program asks the user for a positive number again. If the number the user enters is positive, the program prints positive. Finally, the program ends.\n",
    "\n",
    "A flow chart that describes this program is below:\n",
    "\n",
    "![flow chart of a program that contains a for loop](images/flow_chart_of_program_that_contains_a_while_loop.png)\n",
    "\n",
    "The Python code that corresponds to this flow chart is:\n",
    "\n",
    "```python\n",
    "# start\n",
    "num = -1\n",
    "while num < 0:\n",
    "    num = input(\"Enter a positive number: \")\n",
    "    num = float(num)\n",
    "print(\"positive\")\n",
    "# end\n",
    "```\n"
   ]
  },
  {
   "cell_type": "code",
   "execution_count": null,
   "metadata": {},
   "outputs": [],
   "source": []
  }
 ],
 "metadata": {
  "kernelspec": {
   "display_name": "Python 3",
   "language": "python",
   "name": "python3"
  },
  "language_info": {
   "codemirror_mode": {
    "name": "ipython",
    "version": 3
   },
   "file_extension": ".py",
   "mimetype": "text/x-python",
   "name": "python",
   "nbconvert_exporter": "python",
   "pygments_lexer": "ipython3",
   "version": "3.6.4"
  }
 },
 "nbformat": 4,
 "nbformat_minor": 2
}
