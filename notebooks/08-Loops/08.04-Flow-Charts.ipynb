{
 "cells": [
  {
   "cell_type": "markdown",
   "metadata": {},
   "source": [
    "## Flow Charts"
   ]
  },
  {
   "cell_type": "markdown",
   "metadata": {},
   "source": [
    "Flow charts show the flow of a program graphically."
   ]
  },
  {
   "cell_type": "markdown",
   "metadata": {},
   "source": [
    "### Basic Flow Chart Shapes"
   ]
  },
  {
   "cell_type": "markdown",
   "metadata": {},
   "source": [
    "There are four basic shapes. Each shape is used to represent a different type of opperation."
   ]
  },
  {
   "cell_type": "markdown",
   "metadata": {},
   "source": [
    "Oval - Start / End\n",
    "\n",
    "Parallelgram - Input / Output\n",
    "\n",
    "Rectangle - Computation\n",
    "\n",
    "Diamond - Selection Structure\n",
    "\n",
    "![Image of four flow chart shapes](#)"
   ]
  },
  {
   "cell_type": "markdown",
   "metadata": {},
   "source": [
    "### A First Flow Chart"
   ]
  },
  {
   "cell_type": "markdown",
   "metadata": {},
   "source": [
    "Let's write a simple program and describe it with a flow chart. Every flow chart contains at least 2 elements, start and end. This first simple program will also contain a single output, a print statement.\n",
    "\n",
    "```python\n",
    "print(\"Problem Solving\")\n",
    "```\n",
    "\n",
    "The flow chart to describe this program contains three elements: start, output, and end.\n",
    "\n",
    "![image of flow chart](#)\n",
    "\n"
   ]
  },
  {
   "cell_type": "markdown",
   "metadata": {},
   "source": [
    "### A Flow chart fo control flow"
   ]
  },
  {
   "cell_type": "markdown",
   "metadata": {},
   "source": [
    "A flow chart to describe control flow needs to include a diamond to describe the selection structure. In this case there is also an input statement and two output statements.\n",
    "\n",
    "```python\n",
    "user_in = input(\"yes or no?\")\n",
    "if user_in == \"yes\":\n",
    "    print(\"YES!\")\n",
    "print(\"Last Statement\")\n",
    "```\n",
    "\n",
    "![Flow chart with input, selection statement, output](#)\n",
    "\n"
   ]
  },
  {
   "cell_type": "code",
   "execution_count": null,
   "metadata": {},
   "outputs": [],
   "source": []
  }
 ],
 "metadata": {
  "kernelspec": {
   "display_name": "Python 3",
   "language": "python",
   "name": "python3"
  },
  "language_info": {
   "codemirror_mode": {
    "name": "ipython",
    "version": 3
   },
   "file_extension": ".py",
   "mimetype": "text/x-python",
   "name": "python",
   "nbconvert_exporter": "python",
   "pygments_lexer": "ipython3",
   "version": "3.7.1"
  }
 },
 "nbformat": 4,
 "nbformat_minor": 2
}
