{
 "cells": [
  {
   "cell_type": "markdown",
   "metadata": {},
   "source": [
    "## Review Questions"
   ]
  },
  {
   "cell_type": "markdown",
   "metadata": {
    "latex": {
     "environment": "problems"
    }
   },
   "source": [
    "Q1.01 What is Python? How is the Python language different than the Python Interpreter?\n",
    "\n",
    "Q1.02 What is the difference between the version of Python at Python.org and the version of Python at Anaconda.com?\n",
    "\n",
    "Q1.03 What are the advantages and disadvantages of using the Anaconda distribution of Python compared to using the version of Python at python.org?\n",
    "\n",
    "Q1.04 \n",
    "\n",
    "Q1.05\n",
    "\n",
    "Q1.06\n",
    "\n",
    "Q1.07"
   ]
  },
  {
   "cell_type": "code",
   "execution_count": null,
   "metadata": {},
   "outputs": [],
   "source": []
  }
 ],
 "metadata": {
  "celltoolbar": "Edit Metadata",
  "kernelspec": {
   "display_name": "Python 3",
   "language": "python",
   "name": "python3"
  },
  "language_info": {
   "codemirror_mode": {
    "name": "ipython",
    "version": 3
   },
   "file_extension": ".py",
   "mimetype": "text/x-python",
   "name": "python",
   "nbconvert_exporter": "python",
   "pygments_lexer": "ipython3",
   "version": "3.6.4"
  }
 },
 "nbformat": 4,
 "nbformat_minor": 2
}
