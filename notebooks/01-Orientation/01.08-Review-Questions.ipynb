{
 "cells": [
  {
   "cell_type": "markdown",
   "metadata": {},
   "source": [
    "## Review Questions"
   ]
  },
  {
   "cell_type": "markdown",
   "metadata": {
    "latex": {
     "environment": "problems"
    }
   },
   "source": [
    "Q01.01 What is Python? How is the Python language different than the Python Interpreter?\n",
    "\n",
    "Q01.02 What is the difference between the version of Python at Python.org and the version of Python at Anaconda.com?\n",
    "\n",
    "Q01.03 What are the advantages and disadvantages of using the Anaconda distribution of Python compared to using the version of Python at python.org?\n",
    "\n",
    "Q01.04 There are many different applications to edit Python code. Some examples include: JupyterLab, Sublime Text, Visual Studio Code, and Pycharm. Pick two Python code editors and explain some features. \n",
    "\n",
    "Q01.05 \n",
    "\n",
    "Q01.06\n",
    "\n",
    "Q01.07"
   ]
  },
  {
   "cell_type": "code",
   "execution_count": null,
   "metadata": {},
   "outputs": [],
   "source": []
  }
 ],
 "metadata": {
  "celltoolbar": "Edit Metadata",
  "kernelspec": {
   "display_name": "Python 3",
   "language": "python",
   "name": "python3"
  },
  "language_info": {
   "codemirror_mode": {
    "name": "ipython",
    "version": 3
   },
   "file_extension": ".py",
   "mimetype": "text/x-python",
   "name": "python",
   "nbconvert_exporter": "python",
   "pygments_lexer": "ipython3",
   "version": "3.6.4"
  }
 },
 "nbformat": 4,
 "nbformat_minor": 2
}
