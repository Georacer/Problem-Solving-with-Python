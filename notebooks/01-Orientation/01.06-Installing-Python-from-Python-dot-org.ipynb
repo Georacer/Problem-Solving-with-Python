{
 "cells": [
  {
   "cell_type": "markdown",
   "metadata": {},
   "source": [
    "## Installing Python from Python.org"
   ]
  },
  {
   "cell_type": "markdown",
   "metadata": {},
   "source": [
    "Below are the recommended ways to install a new version of Python from Python.org on the three major operating systems: Windows, MacOS and Linux. This book is based on Python version 3.6.  Some of the problems may not work properly on legacy Python (version 2.7).  I recommend using the Anaconda Distribution of Python on Windows and MacOSX. The installation of Anaconda on these operating systems was detailed in previous sections."
   ]
  },
  {
   "cell_type": "markdown",
   "metadata": {},
   "source": [
    "### Installing Python on Windows\n",
    "\n",
    "Go to [https://www.python.org/downloads/](https://www.python.org/downloads/) and download the latest release. Make sure to select the box [add Python to my path]. \n",
    "\n",
    "![Python.org download for Windows](images/python_dot_org_windows_download.PNG)"
   ]
  },
  {
   "cell_type": "markdown",
   "metadata": {},
   "source": [
    "### Installing Python on Mac OSX\n",
    "\n",
    "Go to [https://www.python.org/downloads/mac-osx/](https://www.python.org/downloads/mac-osx/) and download the latest release. \n",
    "\n",
    "![Python.org download for MacOS](images/python_dot_org_macos_download.PNG)"
   ]
  },
  {
   "cell_type": "markdown",
   "metadata": {},
   "source": [
    "### Installing Python on Linux\n",
    "\n",
    "Open a terminal and enter ```$ python``` to see if a version of Python is already installed on the system.\n",
    "\n",
    "```text\n",
    "$ python\n",
    "Python 2.7.12 (default, Dec  4 2017, 14:50:18)\n",
    "[GCC 5.4.0 20160609] on linux2\n",
    "Type \"help\", \"copyright\", \"credits\" or \"license\" for more information.\n",
    ">>> exit()\n",
    "```\n",
    "\n",
    "In the above code block the version of Python is ```Python 2.7.12```. If the Python version is 2.7 or below, try the command ```$ python3```.\n",
    "\n",
    "```text\n",
    "$ python\n",
    "Python 2.7.12 (default, Dec  4 2017, 14:50:18)\n",
    "[GCC 5.4.0 20160609] on linux2\n",
    "Type \"help\", \"copyright\", \"credits\" or \"license\" for more information.\n",
    ">>> exit()\n",
    "```\n",
    "\n",
    "\n",
    "If no version of Python is shown, download the stable release of Python in the apt repositories.\n",
    "\n",
    "```text\n",
    "$ sudo apt-get python3.6\n",
    "```\n",
    "\n",
    "After installation, you will need to append your PATH environment variable to ensure the newly installed Python3.6 version is the version of Python called when using the terminal."
   ]
  },
  {
   "cell_type": "code",
   "execution_count": null,
   "metadata": {},
   "outputs": [],
   "source": []
  }
 ],
 "metadata": {
  "kernelspec": {
   "display_name": "Python 3",
   "language": "python",
   "name": "python3"
  },
  "language_info": {
   "codemirror_mode": {
    "name": "ipython",
    "version": 3
   },
   "file_extension": ".py",
   "mimetype": "text/x-python",
   "name": "python",
   "nbconvert_exporter": "python",
   "pygments_lexer": "ipython3",
   "version": "3.6.4"
  }
 },
 "nbformat": 4,
 "nbformat_minor": 2
}
