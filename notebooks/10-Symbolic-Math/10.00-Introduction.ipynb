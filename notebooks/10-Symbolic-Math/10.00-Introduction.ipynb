{
 "cells": [
  {
   "cell_type": "markdown",
   "metadata": {},
   "source": [
    "# Symbolic Math"
   ]
  },
  {
   "cell_type": "markdown",
   "metadata": {},
   "source": [
    "## Introduction"
   ]
  },
  {
   "cell_type": "markdown",
   "metadata": {
    "latex": {
     "after_cell": "newpage"
    }
   },
   "source": [
    "By the end of this chapter you will be able to:\n",
    "\n",
    " * Define Python variables as symbolic math variables\n",
    " \n",
    " * Define mathematical equations using symbolic math variables\n",
    " \n",
    " * Solve for symbolic math variables in terms of other symbolic math variables\n",
    " \n",
    " * Derive numerical solutions using symbolic math variable substitution\n",
    " \n",
    " * Simplify equations using symbolic math variables\n",
    "    "
   ]
  },
  {
   "cell_type": "code",
   "execution_count": null,
   "metadata": {
    "collapsed": true
   },
   "outputs": [],
   "source": []
  }
 ],
 "metadata": {
  "kernelspec": {
   "display_name": "Python 3",
   "language": "python",
   "name": "python3"
  },
  "language_info": {
   "codemirror_mode": {
    "name": "ipython",
    "version": 3
   },
   "file_extension": ".py",
   "mimetype": "text/x-python",
   "name": "python",
   "nbconvert_exporter": "python",
   "pygments_lexer": "ipython3",
   "version": "3.6.4"
  }
 },
 "nbformat": 4,
 "nbformat_minor": 2
}
