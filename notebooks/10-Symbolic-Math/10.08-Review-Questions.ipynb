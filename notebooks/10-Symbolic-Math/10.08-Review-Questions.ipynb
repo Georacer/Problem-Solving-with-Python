{
 "cells": [
  {
   "cell_type": "markdown",
   "metadata": {},
   "source": [
    "## Review Questions"
   ]
  },
  {
   "cell_type": "markdown",
   "metadata": {},
   "source": [
    "#### Solving Equations"
   ]
  },
  {
   "cell_type": "markdown",
   "metadata": {
    "latex": {
     "environment": "problems"
    }
   },
   "source": [
    "Q10.20 Use SymPy to solve for $x$ if $ x - 4 = 2$\n",
    "\n",
    "Q10.02 Use SympPy to solve for the roots of the quadratic equation $2x^2 - 4x + 1.5 = 0$\n",
    "\n",
    "Q10.03 Use SymPy to solve the system of linear equations below for the varaibles $x$ and $y$:\n",
    "\n",
    "$$ -3x - 2y + 7  = 0 $$\n",
    "\n",
    "$$ 5x - 3y - 6 = 0 $$\n",
    "\n",
    "Q10.04 Use SymPy to solve the system of non-linear equations below for the variables $x$ and $y$:\n",
    "\n",
    "$$ 3x^2 + 2y^3 = -\\frac{17}{4} $$\n",
    "\n",
    "$$ \\frac{-x^3}{2} - 8y^2 + \\frac{127}{2} = 0 $$"
   ]
  },
  {
   "cell_type": "code",
   "execution_count": null,
   "metadata": {},
   "outputs": [],
   "source": []
  }
 ],
 "metadata": {
  "kernelspec": {
   "display_name": "Python 3",
   "language": "python",
   "name": "python3"
  },
  "language_info": {
   "codemirror_mode": {
    "name": "ipython",
    "version": 3
   },
   "file_extension": ".py",
   "mimetype": "text/x-python",
   "name": "python",
   "nbconvert_exporter": "python",
   "pygments_lexer": "ipython3",
   "version": "3.6.8"
  }
 },
 "nbformat": 4,
 "nbformat_minor": 2
}
