{
 "cells": [
  {
   "cell_type": "markdown",
   "metadata": {},
   "source": [
    "## Review Questions"
   ]
  },
  {
   "cell_type": "markdown",
   "metadata": {
    "latex": {
     "environment": "problems"
    }
   },
   "source": [
    "Q10.01 \n",
    "\n",
    "Q10.02\n",
    "\n",
    "Q10.03\n",
    "\n",
    "Q10.04\n",
    "\n",
    "Q10.05\n",
    "\n",
    "Q10.06\n",
    "\n",
    "Q10.07\n",
    "\n",
    "Q10.08"
   ]
  },
  {
   "cell_type": "markdown",
   "metadata": {},
   "source": [
    "#### Errors, Explanations, and Solutions\n",
    "\n",
    "Q10.80\n",
    "\n",
    "Q10.81\n",
    "\n",
    "Q10.82\n",
    "\n",
    "Q10.83\n",
    "\n",
    "Q10.84\n",
    "\n",
    "Q10.85"
   ]
  },
  {
   "cell_type": "code",
   "execution_count": null,
   "metadata": {},
   "outputs": [],
   "source": []
  }
 ],
 "metadata": {
  "kernelspec": {
   "display_name": "Python 3",
   "language": "python",
   "name": "python3"
  },
  "language_info": {
   "codemirror_mode": {
    "name": "ipython",
    "version": 3
   },
   "file_extension": ".py",
   "mimetype": "text/x-python",
   "name": "python",
   "nbconvert_exporter": "python",
   "pygments_lexer": "ipython3",
   "version": "3.6.8"
  }
 },
 "nbformat": 4,
 "nbformat_minor": 2
}
