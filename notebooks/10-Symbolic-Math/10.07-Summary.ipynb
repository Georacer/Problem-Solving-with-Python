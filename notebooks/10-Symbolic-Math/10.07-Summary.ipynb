{
 "cells": [
  {
   "cell_type": "markdown",
   "metadata": {
    "latex": {
     "before_cell": "newpage"
    }
   },
   "source": [
    "## Summary\n",
    "\n"
   ]
  },
  {
   "cell_type": "markdown",
   "metadata": {},
   "source": [
    "In this chapter, you learned about symbolic math and how to complete symbolic math calculations with the SymPy package. Symbolic math treats variables as mathematical symbols rather than defining variables as defined numbers. \n",
    "\n",
    "You learned how to create symbolic math variables with SymPy's ```symbols()``` function.\n",
    "\n",
    "Symbolic math variables can be combined into symbolic math expressions and symbolic math equations. You learned how to substitute variables and numbers into symbolic math expressions and equations. \n",
    "\n",
    "At the end of the chapter, you learned how to solve linear and quadratic equations with SymPy. \n",
    "\n",
    "The final example in the chapter was a multi-variable statics problem where two variables were solved for two unknowns. "
   ]
  },
  {
   "cell_type": "markdown",
   "metadata": {},
   "source": [
    "### Key Terms and Concepts"
   ]
  },
  {
   "cell_type": "markdown",
   "metadata": {
    "latex": {
     "environment": "key_terms"
    }
   },
   "source": [
    "symbolic math\n",
    "\n",
    "symbolic variable\n",
    "\n",
    "object\n",
    "\n",
    "numerical calculation\n",
    "\n",
    "systems of equations\n",
    "\n",
    "expression\n",
    "\n",
    "equation\n",
    "\n",
    "substitution\n",
    "\n",
    "evaluate\n",
    "\n",
    "linear equation\n",
    "\n",
    "quadratic equation"
   ]
  },
  {
   "cell_type": "code",
   "execution_count": null,
   "metadata": {},
   "outputs": [],
   "source": []
  }
 ],
 "metadata": {
  "celltoolbar": "Edit Metadata",
  "kernelspec": {
   "display_name": "Python 3",
   "language": "python",
   "name": "python3"
  },
  "language_info": {
   "codemirror_mode": {
    "name": "ipython",
    "version": 3
   },
   "file_extension": ".py",
   "mimetype": "text/x-python",
   "name": "python",
   "nbconvert_exporter": "python",
   "pygments_lexer": "ipython3",
   "version": "3.6.8"
  }
 },
 "nbformat": 4,
 "nbformat_minor": 2
}
