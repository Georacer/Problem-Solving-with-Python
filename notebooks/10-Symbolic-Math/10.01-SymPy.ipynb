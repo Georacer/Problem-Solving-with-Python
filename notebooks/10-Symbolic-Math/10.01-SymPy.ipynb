{
 "cells": [
  {
   "cell_type": "markdown",
   "metadata": {},
   "source": [
    "## SymPy"
   ]
  },
  {
   "cell_type": "markdown",
   "metadata": {},
   "source": [
    "SymPy [http://www.sympy.org](http://www.sympy.org) is a Python library for _symbolic math_.  \n",
    "\n",
    "In symbolic math, symbols are used to represent mathematical expressions. An example symbolic math expression is below. "
   ]
  },
  {
   "cell_type": "markdown",
   "metadata": {},
   "source": [
    "$$ x^{2} + y^{2} = z $$"
   ]
  },
  {
   "cell_type": "markdown",
   "metadata": {},
   "source": [
    "The expression contains the symbols $x$, $y$, and $z$."
   ]
  },
  {
   "cell_type": "markdown",
   "metadata": {},
   "source": [
    "If we define a second symbolic math expression:"
   ]
  },
  {
   "cell_type": "markdown",
   "metadata": {},
   "source": [
    "$$ x = a + b $$"
   ]
  },
  {
   "cell_type": "markdown",
   "metadata": {},
   "source": [
    "then we can substitue in $a + b$ for $x$."
   ]
  },
  {
   "cell_type": "markdown",
   "metadata": {},
   "source": [
    "The result is the expression:"
   ]
  },
  {
   "cell_type": "markdown",
   "metadata": {},
   "source": [
    "$$ (a + b)^{2} + y^{2} = z $$\n",
    "\n",
    "$$ a^{2} + 2ab + b^{2} + y^{2} = z $$"
   ]
  },
  {
   "cell_type": "markdown",
   "metadata": {},
   "source": [
    "If solve for $y$ in terms of $a$,$b$ and $z$, would result in:\n",
    "    \n",
    "$$ y = \\sqrt{z - a^{2} - 2ab - b^{2}} $$\n",
    "\n",
    "In the symbolic math substitution above, symbolic math variables were rearranged, grouped and inserted. None of the variables were equal to a specific number, like 5 or 0.001, but you can still solve for one variable in terms on the others."
   ]
  },
  {
   "cell_type": "markdown",
   "metadata": {},
   "source": [
    "If there are numerical values for $z$, $a$ and $b$, we can use Python to calculate the value of $y$. But if we don't have numerical values for $z$, $a$ and $b$ Python can also be used to rearrange terms and solve for one variable in terms of the other. Working with mathematical symbols in a programmatic way instead of working with numerical values in a programmatic way is call symbolic math."
   ]
  },
  {
   "cell_type": "markdown",
   "metadata": {},
   "source": [
    "To work with symbolic math, the SymPy library needs to be installed. Using the Anaconda Prompt this can be accomplished with the command:\n",
    "\n",
    "```\n",
    "> conda install sympy\n",
    "```"
   ]
  },
  {
   "cell_type": "markdown",
   "metadata": {},
   "source": [
    "SymPy is included with the Anaconda distribution of Python, so if you have the full Anaconda distribution, you will be notified that the SymPy library is already installed."
   ]
  },
  {
   "cell_type": "code",
   "execution_count": null,
   "metadata": {},
   "outputs": [],
   "source": []
  }
 ],
 "metadata": {
  "kernelspec": {
   "display_name": "Python 3",
   "language": "python",
   "name": "python3"
  },
  "language_info": {
   "codemirror_mode": {
    "name": "ipython",
    "version": 3
   },
   "file_extension": ".py",
   "mimetype": "text/x-python",
   "name": "python",
   "nbconvert_exporter": "python",
   "pygments_lexer": "ipython3",
   "version": "3.6.4"
  }
 },
 "nbformat": 4,
 "nbformat_minor": 2
}
