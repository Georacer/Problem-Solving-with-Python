{
 "cells": [
  {
   "cell_type": "markdown",
   "metadata": {},
   "source": [
    "## Array Creation"
   ]
  },
  {
   "cell_type": "markdown",
   "metadata": {},
   "source": [
    "NumPy arrays are created with the ```np.array()``` function. The arguments provided to ```np.array()``` needs to be a list or iterable. An example is below. Note how the list ```[1,2,3]``` is passed into the function with square brackets at either end."
   ]
  },
  {
   "cell_type": "code",
   "execution_count": null,
   "metadata": {},
   "outputs": [],
   "source": [
    "import numpy as np\n",
    "np.array([1,2,3])"
   ]
  },
  {
   "cell_type": "markdown",
   "metadata": {},
   "source": [
    "The data type can be passed into the ```np.array()``` function as a second optional positional arguments. Available data types include ```'int64'```, ```'float'```, ```complex``` and ```>U32``` (string data type)."
   ]
  },
  {
   "cell_type": "code",
   "execution_count": null,
   "metadata": {},
   "outputs": [],
   "source": [
    "import numpy as np\n",
    "np.array([1,2,3],dtype='float')"
   ]
  },
  {
   "cell_type": "markdown",
   "metadata": {},
   "source": [
    "The data type store in a NumPy array can be determinded using the ```.dtype``` method. For instance, an array of ```floats``` will return ```float64```."
   ]
  },
  {
   "cell_type": "code",
   "execution_count": 3,
   "metadata": {},
   "outputs": [
    {
     "data": {
      "text/plain": [
       "dtype('float64')"
      ]
     },
     "execution_count": 3,
     "metadata": {},
     "output_type": "execute_result"
    }
   ],
   "source": [
    "import numpy as np\n",
    "my_array = np.array([1,2,3],dtype='float')\n",
    "my_array.dtype"
   ]
  },
  {
   "cell_type": "markdown",
   "metadata": {},
   "source": [
    "### Arrays of Reguarly Spaced Numbers"
   ]
  },
  {
   "cell_type": "markdown",
   "metadata": {},
   "source": [
    "#### np.arange()\n",
    "\n",
    "NumPy's ```np.arange()``` function will create a NumPy array according the arguments ```start```, ```stop+1```,```step```.\n",
    "\n",
    "```\n",
    "my_array = np.arange(start, stop+1, step)\n",
    "```\n",
    "\n",
    "This function is useful for creating an array of regularly spaced numbers. Consider creating a NumPy array of even numbers between ```0``` and ```10```. Note that just like counting in Python, counting in numpy starts at zero and ends at n+1. "
   ]
  },
  {
   "cell_type": "code",
   "execution_count": 19,
   "metadata": {},
   "outputs": [
    {
     "data": {
      "text/plain": [
       "array([ 0,  2,  4,  6,  8, 10])"
      ]
     },
     "execution_count": 19,
     "metadata": {},
     "output_type": "execute_result"
    }
   ],
   "source": [
    "np.arange(0,10+2,2)"
   ]
  },
  {
   "cell_type": "markdown",
   "metadata": {},
   "source": [
    "#### np.linspace()\n",
    "\n",
    "Numpy's ```np.linspace()``` function will create a NumPy array according the arguments ```start```, ```stop+1```,```number of elements```.\n",
    "\n",
    "```\n",
    "my_array = np.linspace(start, stop, number of elements)\n",
    "```\n",
    "\n",
    "This function is useful for creating an array of regularly spaced numbers where the spacing is not known but the number of values is. Consider creating a **numpy** array of 10 numbers between ```0``` and ```2pi```."
   ]
  },
  {
   "cell_type": "code",
   "execution_count": 20,
   "metadata": {},
   "outputs": [
    {
     "data": {
      "text/plain": [
       "array([0.        , 0.6981317 , 1.3962634 , 2.0943951 , 2.7925268 ,\n",
       "       3.4906585 , 4.1887902 , 4.88692191, 5.58505361, 6.28318531])"
      ]
     },
     "execution_count": 20,
     "metadata": {},
     "output_type": "execute_result"
    }
   ],
   "source": [
    "np.linspace(0,2*np.pi,10)"
   ]
  },
  {
   "cell_type": "markdown",
   "metadata": {},
   "source": [
    "#### np.logspace()\n",
    "\n",
    "**Numpy's** ```np.logspace()``` function will create a **numpy** array according the arguments ```start```, ```stop```,```number of elements```, but unlike ```np.linspace()```, ```np.logspace()``` will produce a logarithmically spaced array.\n",
    "\n",
    "```\n",
    "my_array = np.logspace(start, stop, number of elements)\n",
    "```\n",
    "\n",
    "This function is useful for creating an array of logarithmically spaced numbers where the spacing interval is not known but the number of values is. Consider creating a **numpy** array of 10 logarithmically spaced numbers between ```0.1``` and ```1```."
   ]
  },
  {
   "cell_type": "code",
   "execution_count": 26,
   "metadata": {},
   "outputs": [
    {
     "data": {
      "text/plain": [
       "array([ 1.25892541,  1.58489319,  1.99526231,  2.51188643,  3.16227766,\n",
       "        3.98107171,  5.01187234,  6.30957344,  7.94328235, 10.        ])"
      ]
     },
     "execution_count": 26,
     "metadata": {},
     "output_type": "execute_result"
    }
   ],
   "source": [
    "np.logspace(0.1, 1, 10)"
   ]
  },
  {
   "cell_type": "markdown",
   "metadata": {},
   "source": [
    "#### np.zeros()\n",
    "\n",
    "**Numpy's** ```np.zeros()``` function will create a **numpy** array containing zeros of a specific size. This is often useful when the size of an array is known, but the values that will go into it have not been created yet.\n",
    "\n",
    "```\n",
    "my_array = np.zeros((rows,cols))\n",
    "```"
   ]
  },
  {
   "cell_type": "code",
   "execution_count": 53,
   "metadata": {},
   "outputs": [
    {
     "data": {
      "text/plain": [
       "array([[0., 0., 0., 0., 0.],\n",
       "       [0., 0., 0., 0., 0.],\n",
       "       [0., 0., 0., 0., 0.],\n",
       "       [0., 0., 0., 0., 0.],\n",
       "       [0., 0., 0., 0., 0.]])"
      ]
     },
     "execution_count": 53,
     "metadata": {},
     "output_type": "execute_result"
    }
   ],
   "source": [
    "np.zeros((5,5))"
   ]
  },
  {
   "cell_type": "markdown",
   "metadata": {},
   "source": [
    "#### np.ones()\n",
    "\n",
    "**Numpy's** ```np.ones()``` function will create a **numpy** array containing all 1's of a specific size. This is often useful when the size of an array is known, but the values that will go into it have not been created yet.\n",
    "\n",
    "```\n",
    "my_array = np.ones((rows,cols))\n",
    "```"
   ]
  },
  {
   "cell_type": "code",
   "execution_count": 54,
   "metadata": {},
   "outputs": [
    {
     "data": {
      "text/plain": [
       "array([[1., 1., 1., 1., 1.],\n",
       "       [1., 1., 1., 1., 1.],\n",
       "       [1., 1., 1., 1., 1.]])"
      ]
     },
     "execution_count": 54,
     "metadata": {},
     "output_type": "execute_result"
    }
   ],
   "source": [
    "np.ones((3,5))"
   ]
  },
  {
   "cell_type": "markdown",
   "metadata": {},
   "source": [
    "### Arrays of Random Numbers"
   ]
  },
  {
   "cell_type": "markdown",
   "metadata": {},
   "source": [
    "**Numpy** has functions to create many different types of random number arrays in the ```np.random``` module. A few of the common random number types are below."
   ]
  },
  {
   "cell_type": "markdown",
   "metadata": {},
   "source": [
    "#### Array of Random Integers\n",
    "\n",
    "Arrays of random integers can be created with **numpy's** ```np.random.randint()``` function. The general syntax is:\n",
    "\n",
    "```\n",
    "np.random.randint(lower limit, upper limit, number of values)\n",
    "```\n",
    "\n",
    "To create an array of 5 different random numbers, each random number between 1 and 10:"
   ]
  },
  {
   "cell_type": "code",
   "execution_count": 30,
   "metadata": {},
   "outputs": [
    {
     "data": {
      "text/plain": [
       "array([9, 4, 9, 1, 9])"
      ]
     },
     "execution_count": 30,
     "metadata": {},
     "output_type": "execute_result"
    }
   ],
   "source": [
    "np.random.randint(0,10,5)"
   ]
  },
  {
   "cell_type": "markdown",
   "metadata": {},
   "source": [
    "A multi-dimentional size can be provided as the third arument. A 5 x 5 array of random numbers between 1 and 10:"
   ]
  },
  {
   "cell_type": "code",
   "execution_count": 31,
   "metadata": {},
   "outputs": [
    {
     "data": {
      "text/plain": [
       "array([[8, 1, 6, 7, 7],\n",
       "       [9, 9, 0, 7, 7],\n",
       "       [6, 2, 1, 0, 2],\n",
       "       [8, 3, 4, 2, 1],\n",
       "       [4, 5, 1, 0, 3]])"
      ]
     },
     "execution_count": 31,
     "metadata": {},
     "output_type": "execute_result"
    }
   ],
   "source": [
    "np.random.randint(0,10,[5,5])"
   ]
  },
  {
   "cell_type": "markdown",
   "metadata": {},
   "source": [
    "#### Array of Random Floats\n",
    "\n",
    "Arrays of random floating point numbers can be created with **numpy's** ```np.random.rand()``` function. The general syntax is:\n",
    "\n",
    "```\n",
    "np.random.rand(number of values)\n",
    "```\n",
    "\n",
    "To create an array of 5 different random numbers, each random number between 0 and 1:"
   ]
  },
  {
   "cell_type": "code",
   "execution_count": 36,
   "metadata": {},
   "outputs": [
    {
     "data": {
      "text/plain": [
       "array([0.02421777, 0.06312956, 0.45358935, 0.72194406, 0.65034115])"
      ]
     },
     "execution_count": 36,
     "metadata": {},
     "output_type": "execute_result"
    }
   ],
   "source": [
    "np.random.rand(5)"
   ]
  },
  {
   "cell_type": "markdown",
   "metadata": {},
   "source": [
    "#### Random Array Choice from  a List\n",
    "\n",
    "```\n",
    "np.random.choice(list of choices, number of choices)\n",
    "```\n",
    "\n",
    "To choose three numbers at random from a list of ```[1,5,9,11]``` use:"
   ]
  },
  {
   "cell_type": "code",
   "execution_count": 37,
   "metadata": {},
   "outputs": [
    {
     "data": {
      "text/plain": [
       "array([1, 1, 9])"
      ]
     },
     "execution_count": 37,
     "metadata": {},
     "output_type": "execute_result"
    }
   ],
   "source": [
    "lst = [1,5,9,11]\n",
    "np.random.choice(lst,3)"
   ]
  },
  {
   "cell_type": "markdown",
   "metadata": {},
   "source": [
    "#### Random Array with a Normal Distribution\n",
    "\n",
    "```np.random.randn()``` will return a random array of numbers with a normal distribution, assuming a mean of 0 and variance of 1.  \n",
    "\n",
    "```\n",
    "np.random.randn(number of values)\n",
    "```"
   ]
  },
  {
   "cell_type": "code",
   "execution_count": 38,
   "metadata": {},
   "outputs": [
    {
     "data": {
      "text/plain": [
       "array([-1.88792019,  0.5247404 , -1.16660705,  0.68567961, -0.57930791,\n",
       "       -0.54634836,  0.1534303 , -1.64928217, -0.01712827,  0.9343703 ])"
      ]
     },
     "execution_count": 38,
     "metadata": {},
     "output_type": "execute_result"
    }
   ],
   "source": [
    "np.random.randn(10)"
   ]
  },
  {
   "cell_type": "markdown",
   "metadata": {},
   "source": [
    "To specify a mean ```mu``` and a standard deviation ```sigma```, the function can be wrapped with:"
   ]
  },
  {
   "cell_type": "code",
   "execution_count": 39,
   "metadata": {},
   "outputs": [
    {
     "data": {
      "text/plain": [
       "array([65.56436887, 70.7579809 , 78.70706918, 76.5538997 , 72.83272356,\n",
       "       62.17107227, 57.15193348, 66.07326289, 75.47326815, 76.13660167])"
      ]
     },
     "execution_count": 39,
     "metadata": {},
     "output_type": "execute_result"
    }
   ],
   "source": [
    "mu = 70\n",
    "sigma = 6.6\n",
    "\n",
    "sigma * np.random.randn(10) + mu"
   ]
  },
  {
   "cell_type": "markdown",
   "metadata": {},
   "source": [
    "To quickly plot a normal distribution, **matplotlib** ```plt.hist()``` function can be used. "
   ]
  },
  {
   "cell_type": "code",
   "execution_count": 43,
   "metadata": {},
   "outputs": [
    {
     "data": {
      "image/png": "[encoded data removed]",
      "text/plain": [
       "<Figure size 432x288 with 1 Axes>"
      ]
     },
     "metadata": {},
     "output_type": "display_data"
    }
   ],
   "source": [
    "import matplotlib.pyplot as plt\n",
    "import numpy as np\n",
    "%matplotlib inline\n",
    "\n",
    "mu = 70\n",
    "sigma = 6.6\n",
    "\n",
    "sample = sigma * np.random.randn(1000) + mu\n",
    "plt.hist(sample)\n",
    "plt.show()"
   ]
  },
  {
   "cell_type": "markdown",
   "metadata": {},
   "source": [
    "### 2-D Arrays"
   ]
  },
  {
   "cell_type": "markdown",
   "metadata": {},
   "source": [
    "#### np.meshgrid"
   ]
  },
  {
   "cell_type": "code",
   "execution_count": 47,
   "metadata": {
    "scrolled": true
   },
   "outputs": [
    {
     "name": "stdout",
     "output_type": "stream",
     "text": [
      "[[0 1 2 3 4 5]\n",
      " [0 1 2 3 4 5]\n",
      " [0 1 2 3 4 5]\n",
      " [0 1 2 3 4 5]\n",
      " [0 1 2 3 4 5]\n",
      " [0 1 2 3 4 5]]\n",
      "[[ 0  0  0  0  0  0]\n",
      " [ 2  2  2  2  2  2]\n",
      " [ 4  4  4  4  4  4]\n",
      " [ 6  6  6  6  6  6]\n",
      " [ 8  8  8  8  8  8]\n",
      " [10 10 10 10 10 10]]\n"
     ]
    }
   ],
   "source": [
    "x = np.arange(0,6)\n",
    "y = np.arange(0,11,2)\n",
    "X, Y = np.meshgrid(x,y)\n",
    "print(X)\n",
    "print(Y)"
   ]
  },
  {
   "cell_type": "markdown",
   "metadata": {},
   "source": [
    "#### np.mgrid"
   ]
  },
  {
   "cell_type": "code",
   "execution_count": 52,
   "metadata": {},
   "outputs": [
    {
     "name": "stdout",
     "output_type": "stream",
     "text": [
      "[[0 0 0 0 0 0]\n",
      " [1 1 1 1 1 1]\n",
      " [2 2 2 2 2 2]\n",
      " [3 3 3 3 3 3]\n",
      " [4 4 4 4 4 4]]\n",
      "[[ 0  2  4  6  8 10]\n",
      " [ 0  2  4  6  8 10]\n",
      " [ 0  2  4  6  8 10]\n",
      " [ 0  2  4  6  8 10]\n",
      " [ 0  2  4  6  8 10]]\n"
     ]
    }
   ],
   "source": [
    "X, Y = np.mgrid[0:5,0:11:2]\n",
    "print(X)\n",
    "print(Y)"
   ]
  },
  {
   "cell_type": "markdown",
   "metadata": {},
   "source": [
    "### Section Summary"
   ]
  },
  {
   "cell_type": "markdown",
   "metadata": {},
   "source": [
    "Below is a list of numpy functions used in this section\n",
    "\n",
    "np.array\n",
    "np.arange\n",
    "np.linspace\n",
    "np.logspace\n",
    "np.zeros\n",
    "np.ones\n",
    "np.random.rand\n",
    "np.random.randint\n",
    "np.random.randn\n",
    "np.meshgrid\n",
    "np.mgrid\n"
   ]
  },
  {
   "cell_type": "code",
   "execution_count": null,
   "metadata": {},
   "outputs": [],
   "source": []
  }
 ],
 "metadata": {
  "kernelspec": {
   "display_name": "Python 3",
   "language": "python",
   "name": "python3"
  },
  "language_info": {
   "codemirror_mode": {
    "name": "ipython",
    "version": 3
   },
   "file_extension": ".py",
   "mimetype": "text/x-python",
   "name": "python",
   "nbconvert_exporter": "python",
   "pygments_lexer": "ipython3",
   "version": "3.6.8"
  }
 },
 "nbformat": 4,
 "nbformat_minor": 2
}
