{
 "cells": [
  {
   "cell_type": "markdown",
   "metadata": {},
   "source": [
    "## Installing Numpy"
   ]
  },
  {
   "cell_type": "markdown",
   "metadata": {},
   "source": [
    "Before **numpy's** functions and methods can be used, **numpy** must be installed. Depending on which distribution of Python is being used, the installation methods are slightly different."
   ]
  },
  {
   "cell_type": "markdown",
   "metadata": {},
   "source": [
    "### Install numpy on Anaconda\n",
    "\n",
    "If the Anaconda distribution of Python is installed, **numpy** comes pre-packaged and no further installation steps are necessary. \n",
    "\n",
    "If using a version of Python from python.org or a version of Python that came with the operating system, the **Anaconda Prompt** and **conda** or **pip** can be used to install **numpy**."
   ]
  },
  {
   "cell_type": "markdown",
   "metadata": {},
   "source": [
    "### Install numpy with the Anaconda Prompt\n",
    "\n",
    "To install **numpy**, open the **Anaconda Prompt** and type:\n",
    "\n",
    "```text\n",
    "> conda install numpy\n",
    "```\n",
    "\n",
    "Type ```y``` for yes when prompted."
   ]
  },
  {
   "cell_type": "markdown",
   "metadata": {},
   "source": [
    "### Install numpy with pip\n",
    "\n",
    "To install **numpy** with **pip**, bring up a terminal window and type:\n",
    "\n",
    "```text\n",
    "$ pip install numpy\n",
    "```\n",
    "\n",
    "This will install **numpy** in the current working Python environment."
   ]
  },
  {
   "cell_type": "markdown",
   "metadata": {},
   "source": [
    "### Verify numpy installation\n",
    "\n",
    "To verify **numpy** is installed, try to invoke **numpy** version at the Python REPL by calling the ```.__version__``` attribute common to most Python packages."
   ]
  },
  {
   "cell_type": "code",
   "execution_count": 3,
   "metadata": {},
   "outputs": [
    {
     "data": {
      "text/plain": [
       "'1.14.2'"
      ]
     },
     "execution_count": 3,
     "metadata": {},
     "output_type": "execute_result"
    }
   ],
   "source": [
    "import numpy as np\n",
    "np.__version__"
   ]
  },
  {
   "cell_type": "code",
   "execution_count": null,
   "metadata": {},
   "outputs": [],
   "source": []
  }
 ],
 "metadata": {
  "kernelspec": {
   "display_name": "Python 3",
   "language": "python",
   "name": "python3"
  },
  "language_info": {
   "codemirror_mode": {
    "name": "ipython",
    "version": 3
   },
   "file_extension": ".py",
   "mimetype": "text/x-python",
   "name": "python",
   "nbconvert_exporter": "python",
   "pygments_lexer": "ipython3",
   "version": "3.6.4"
  }
 },
 "nbformat": 4,
 "nbformat_minor": 2
}
