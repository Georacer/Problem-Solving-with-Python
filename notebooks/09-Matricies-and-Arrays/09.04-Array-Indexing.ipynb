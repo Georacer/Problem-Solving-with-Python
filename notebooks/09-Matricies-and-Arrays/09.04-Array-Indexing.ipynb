{
 "cells": [
  {
   "cell_type": "markdown",
   "metadata": {},
   "source": [
    "## Array Indexing"
   ]
  },
  {
   "cell_type": "markdown",
   "metadata": {},
   "source": [
    "Elements in a numpy array can be accessed using _indexing_. Indexing is an opperation that pulls out a select set of values from an array. The _index_ of a value in an array is that value's location. There is a difference between the the value that is stored and the index or location of that value within an array. Take the following example. Remember that counting in Python starts at zero."
   ]
  },
  {
   "cell_type": "code",
   "execution_count": 2,
   "metadata": {
    "collapsed": true
   },
   "outputs": [],
   "source": [
    "import numpy as np\n",
    "\n",
    "a = np.array([2,4,6])"
   ]
  },
  {
   "cell_type": "markdown",
   "metadata": {},
   "source": [
    "In the array above, there are three values stored: ```2```, ```4``` and ```6```. Each of these values has a different index. The value ```2``` has an index of 0. ```2``` is in the 0 location in the array. The value ```4``` has an index of ```1``` and the value ```6``` has an index of 2. A table summarizes this below:\n",
    "\n",
    "| Index or Location | Value |\n",
    "| --- | ---|\n",
    "| 0 | ```2``` |\n",
    "| 1 | ```4``` |\n",
    "| 2 | ```6``` |\n",
    "\n",
    "Individual values stored in array can be accessed using indexing. The general form is:\n",
    "\n",
    "```\n",
    "<value> = <array>[index]\n",
    "```\n",
    "\n",
    "Where ```<value>``` is the value store in the array, ```<array>``` is the array object name and ```[index]``` specifies the index or location of that value. Applied to our example above, the value 6 is stored at index 2."
   ]
  },
  {
   "cell_type": "code",
   "execution_count": 3,
   "metadata": {},
   "outputs": [
    {
     "name": "stdout",
     "output_type": "stream",
     "text": [
      "6\n"
     ]
    }
   ],
   "source": [
    "import numpy as np\n",
    "\n",
    "a = np.array([2,4,6])\n",
    "value = a[2]\n",
    "print(value)"
   ]
  },
  {
   "cell_type": "markdown",
   "metadata": {},
   "source": [
    "### Multi-dimensional Array Indexing"
   ]
  },
  {
   "cell_type": "markdown",
   "metadata": {},
   "source": [
    "Mulit-dimensional arrays are indexed as well. A simple 2-D array is defined by a list of lists."
   ]
  },
  {
   "cell_type": "code",
   "execution_count": 5,
   "metadata": {},
   "outputs": [
    {
     "name": "stdout",
     "output_type": "stream",
     "text": [
      "[[2 3 4]\n",
      " [6 7 8]]\n"
     ]
    }
   ],
   "source": [
    "import numpy as np\n",
    "\n",
    "a = np.array([[2,3,4],[6,7,8]])\n",
    "print(a)"
   ]
  },
  {
   "cell_type": "markdown",
   "metadata": {},
   "source": [
    "Values in a 2-D array can be accessed using the general notation below:\n",
    "\n",
    "```\n",
    "<value> = <array>[row,col]\n",
    "```\n",
    "\n",
    "Where ```<value>``` is the value pulled out of the 2-D array named ```<array```. ```[row,col]``` specifies the row and column index of the value. Remember that Python counting starts at 0, so the first row is row zero and the first column is column zero.\n",
    "\n",
    "We can access the value ```8``` in the array above by calling the row and column index ```[1,2]``` for the 2nd row (rememeber row 0 is the first row) and the 3rd column (rememeber column 0 is the first column).\n"
   ]
  },
  {
   "cell_type": "code",
   "execution_count": 6,
   "metadata": {},
   "outputs": [
    {
     "name": "stdout",
     "output_type": "stream",
     "text": [
      "8\n"
     ]
    }
   ],
   "source": [
    "import numpy as np\n",
    "\n",
    "a = np.array([[2,3,4],[6,7,8]])\n",
    "value = a[1,2]\n",
    "print(value)"
   ]
  },
  {
   "cell_type": "markdown",
   "metadata": {},
   "source": [
    "### Assigning Values with Indexing"
   ]
  },
  {
   "cell_type": "markdown",
   "metadata": {},
   "source": [
    "Array indexing can be used to access values in an array and they can also be used for _assigning_ values of an array. In order to assign a value to a particular index or location in an array, the following general form is used:\n",
    "\n",
    "```\n",
    "<array>[index] = <value>\n",
    "```\n",
    "\n",
    "Where ```<array>``` is the array object that value will be assigned to, ```[index]``` is the index or location the value will be put in and ```<value>``` is the value assigned to that location. \n",
    "\n",
    "If we want to put the value ```10``` into the third index or location of an array, it can be coded as follows:"
   ]
  },
  {
   "cell_type": "code",
   "execution_count": 8,
   "metadata": {},
   "outputs": [
    {
     "name": "stdout",
     "output_type": "stream",
     "text": [
      "[ 2  4 10]\n"
     ]
    }
   ],
   "source": [
    "import numpy as np\n",
    "a = np.array([2,4,6])\n",
    "a[2] = 10\n",
    "print(a)"
   ]
  },
  {
   "cell_type": "markdown",
   "metadata": {},
   "source": [
    "Values can also be assigned into 2-D arrays using the form\n",
    "\n",
    "```\n",
    "<array>[row,col] = <value>\n",
    "```\n",
    "\n",
    "An example is below:"
   ]
  },
  {
   "cell_type": "code",
   "execution_count": 10,
   "metadata": {},
   "outputs": [
    {
     "name": "stdout",
     "output_type": "stream",
     "text": [
      "[[2 3 4]\n",
      " [6 7 8]]\n",
      "[[ 2  3  4]\n",
      " [ 6  7 20]]\n"
     ]
    }
   ],
   "source": [
    "import numpy as np\n",
    "\n",
    "a = np.array([[2,3,4],[6,7,8]])\n",
    "print(a)\n",
    "\n",
    "a[1,2]=20\n",
    "print(a)"
   ]
  },
  {
   "cell_type": "code",
   "execution_count": null,
   "metadata": {
    "collapsed": true
   },
   "outputs": [],
   "source": []
  }
 ],
 "metadata": {
  "kernelspec": {
   "display_name": "Python 3",
   "language": "python",
   "name": "python3"
  },
  "language_info": {
   "codemirror_mode": {
    "name": "ipython",
    "version": 3
   },
   "file_extension": ".py",
   "mimetype": "text/x-python",
   "name": "python",
   "nbconvert_exporter": "python",
   "pygments_lexer": "ipython3",
   "version": "3.6.4"
  }
 },
 "nbformat": 4,
 "nbformat_minor": 2
}
