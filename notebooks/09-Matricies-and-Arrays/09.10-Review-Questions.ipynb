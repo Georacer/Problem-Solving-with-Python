{
 "cells": [
  {
   "cell_type": "markdown",
   "metadata": {},
   "source": [
    "## Review Questions"
   ]
  },
  {
   "cell_type": "markdown",
   "metadata": {},
   "source": [
    "#### Array Creation"
   ]
  },
  {
   "cell_type": "markdown",
   "metadata": {
    "latex": {
     "environment": "problems"
    }
   },
   "source": [
    "Q09.01 Create an array of the numbers 1, 5, 19, 30\n",
    "\n",
    "Q09.02 Create an array of the numbers -3, 15, 0.001, 6.02e23$\n",
    "\n",
    "Q09.03 Create an array of integers between -10 and 10\n",
    "\n",
    "Q09.04 Create an array of 10 angles between 0 and 2$\\pi$\n",
    "\n",
    "Q09.05 Create an array of logarithmically spaced numbers between 1 and 1 million\n",
    "\n",
    "Q09.06 Create an array of 20 random integers between 1 and 10\n",
    "\n",
    "Q09.07 Create an array of 30 random numbers with a normal distribution\n",
    "\n",
    "Q09.08 Create an array of 30 random numbers with a normal distribution that has an mean $\\mu$ of 78.5 and a standard deviation $\\sigma$ of 5.2\n",
    "\n",
    "Q09.09 Create an array of 18 random floating point numbers between 0 and 1\n",
    "\n",
    "Q09.09 Create an array of 18 random floating point numbers between -1 and 0\n",
    "\n",
    "Q09.09 Create an array of 18 random floating point numbers between 0 and 10\n"
   ]
  },
  {
   "cell_type": "markdown",
   "metadata": {},
   "source": [
    "#### Meshgrids"
   ]
  },
  {
   "cell_type": "markdown",
   "metadata": {},
   "source": [
    "Q09.40 Create two 2D arrays from the two 1D arrays below using NumPy's ```np.meshgrid()``` function. \n",
    "\n",
    "```text\n",
    "\n",
    "x = [0.0, 0.1., 0.2, 0.3, 0.4, 0.5]\n",
    "\n",
    "y = [0, 2, 4, 6]\n",
    "```\n",
    "\n",
    "Q09.41 Create a meshgrid of the two arrays below:\n",
    "\n",
    "```text\n",
    "\n",
    "x = [1, 2, 3, 4, 5, 6, 7, 8, 9, 10]\n",
    "\n",
    "y = [1, 2, 3, 4, 5, 6, 7, 8, 9, 10]\n",
    "```\n",
    "\n",
    "Use element-wise multiplication to multiple each element in one of the resulting 2D arrays with the other resulting 2D array to build a multiplication table."
   ]
  },
  {
   "cell_type": "markdown",
   "metadata": {},
   "source": [
    "#### Array Operations\n",
    "\n",
    "Q09.50 Create the two arrays below and perform each calculation.\n",
    "\n",
    "a = [2 4 6]\n",
    "\n",
    "b = [-1 0 1]\n",
    "\n",
    "(a) $a + b$\n",
    "\n",
    "(b) $1.5a -2b$\n",
    "\n",
    "(c) $0.5ab$\n",
    "\n",
    "(d) $\\frac{b^2}{a}$\n",
    "\n",
    "\n",
    "Q09.51 Create an array of angles between 0 and 2$\\pi$ radians in increments of $\\pi/2 radians$.\n",
    "\n",
    "(a) Calculate the sine of each angle in the array\n",
    "\n",
    "(b) Calculate the cosine of each angle in the array\n",
    "\n",
    "(c) Convert each angle in the array to degrees\n",
    "\n",
    "Q09.52 Create the two arrays below and then perform the following operations.\n",
    "\n",
    "F1 = [-1, 0, 2]\n",
    "\n",
    "F2 = [5, -2, 0]\n",
    "\n",
    "(a) Calculate the dot product of F1 and F2\n",
    "\n",
    "(b) Calculate cross product of F1 and F2\n",
    "\n",
    "(c) Calculate the element-wise product (element-wise multiplication of F1 and F2)"
   ]
  },
  {
   "cell_type": "markdown",
   "metadata": {},
   "source": [
    "#### Linear Algebra"
   ]
  },
  {
   "cell_type": "markdown",
   "metadata": {},
   "source": [
    "Q09.70 Use the system of linear equations below to calculate the values of $x$ and $y$.\n",
    "\n",
    "$$ 4x - 2y = -42 $$\n",
    "\n",
    "$$ -6x + y = 31 $$\n",
    "\n",
    "Q09.70 Use the system of linear equations below to calculate the values of $x$, $y$ and $z$.\n",
    "\n",
    "$$ \\frac{x}{2} +2y - z = 5 $$\n",
    "\n",
    "$$ x + 3y - 4z = -1 $$\n",
    "\n",
    "$$ -x - 3y + 2z = -5 $$"
   ]
  },
  {
   "cell_type": "code",
   "execution_count": null,
   "metadata": {},
   "outputs": [],
   "source": []
  }
 ],
 "metadata": {
  "kernelspec": {
   "display_name": "Python 3",
   "language": "python",
   "name": "python3"
  },
  "language_info": {
   "codemirror_mode": {
    "name": "ipython",
    "version": 3
   },
   "file_extension": ".py",
   "mimetype": "text/x-python",
   "name": "python",
   "nbconvert_exporter": "python",
   "pygments_lexer": "ipython3",
   "version": "3.6.8"
  }
 },
 "nbformat": 4,
 "nbformat_minor": 2
}
