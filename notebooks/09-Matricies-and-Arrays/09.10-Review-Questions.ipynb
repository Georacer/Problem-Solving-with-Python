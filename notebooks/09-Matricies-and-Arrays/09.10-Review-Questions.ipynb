{
 "cells": [
  {
   "cell_type": "markdown",
   "metadata": {},
   "source": [
    "## Review Questions"
   ]
  },
  {
   "cell_type": "markdown",
   "metadata": {
    "latex": {
     "environment": "problems"
    }
   },
   "source": [
    "Q09.01\n",
    "\n",
    "Q09.02\n",
    "\n",
    "Q09.03\n",
    "\n",
    "Q09.04\n",
    "\n",
    "Q09.05\n",
    "\n",
    "Q09.06\n",
    "\n",
    "Q09.07\n",
    "\n",
    "Q09.08\n",
    "\n",
    "Q09.09\n",
    "\n"
   ]
  },
  {
   "cell_type": "markdown",
   "metadata": {},
   "source": [
    "#### Errors, Explanations, and Solutions\n",
    "\n",
    "Q09.80\n",
    "\n",
    "Q09.81\n",
    "\n",
    "Q09.82\n",
    "\n",
    "Q09.83\n",
    "\n",
    "Q09.84\n",
    "\n",
    "Q09.85"
   ]
  },
  {
   "cell_type": "code",
   "execution_count": null,
   "metadata": {},
   "outputs": [],
   "source": []
  }
 ],
 "metadata": {
  "kernelspec": {
   "display_name": "Python 3",
   "language": "python",
   "name": "python3"
  },
  "language_info": {
   "codemirror_mode": {
    "name": "ipython",
    "version": 3
   },
   "file_extension": ".py",
   "mimetype": "text/x-python",
   "name": "python",
   "nbconvert_exporter": "python",
   "pygments_lexer": "ipython3",
   "version": "3.6.4"
  }
 },
 "nbformat": 4,
 "nbformat_minor": 2
}
