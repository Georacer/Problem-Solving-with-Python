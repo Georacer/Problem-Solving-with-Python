{
 "cells": [
  {
   "cell_type": "markdown",
   "metadata": {},
   "source": [
    "## Systems of Linear Equations"
   ]
  },
  {
   "cell_type": "code",
   "execution_count": 1,
   "metadata": {
    "collapsed": true
   },
   "outputs": [],
   "source": [
    "import numpy as np"
   ]
  },
  {
   "cell_type": "markdown",
   "metadata": {},
   "source": [
    "A system of linear equations is shown below"
   ]
  },
  {
   "cell_type": "markdown",
   "metadata": {},
   "source": [
    "$$ 8x + 3y -2z = 9 $$\n",
    "\n",
    "$$ -4x + 7y + 5z = 15 $$\n",
    "\n",
    "$$ 3x + 4y - 12z = 35 $$\n",
    "\n"
   ]
  },
  {
   "cell_type": "markdown",
   "metadata": {},
   "source": [
    "The ```np.linalg.solve()``` function can be used to solve this system for the variables $x$, $y$ and $z$. Set a numpy array ```A``` as a 3 by 3 array of the coefficients. Set a numpy array ```b``` as the right-hand side of the equations. Then solve for the values of $x$, $y$ and $z$ using ```np.linalg.solve(A, b)```. The resulting array will have three entries. One entry for each varaible. "
   ]
  },
  {
   "cell_type": "code",
   "execution_count": 2,
   "metadata": {},
   "outputs": [
    {
     "data": {
      "text/plain": [
       "array([-0.58226371,  3.22870478, -1.98599767])"
      ]
     },
     "execution_count": 2,
     "metadata": {},
     "output_type": "execute_result"
    }
   ],
   "source": [
    "A = np.array([[8, 3, -2], [-4, 7, 5], [3, 4, -12]])\n",
    "b = np.array([9, 15, 35])\n",
    "x = np.linalg.solve(A, b)\n",
    "x"
   ]
  },
  {
   "cell_type": "code",
   "execution_count": 16,
   "metadata": {},
   "outputs": [
    {
     "data": {
      "text/plain": [
       "-0.5822637106184365"
      ]
     },
     "execution_count": 16,
     "metadata": {},
     "output_type": "execute_result"
    }
   ],
   "source": [
    "x[0]"
   ]
  },
  {
   "cell_type": "markdown",
   "metadata": {},
   "source": [
    "We can plug the valuse of $x$, $y$ and $z$ back into one of the equations to check the answer. \n",
    "\n",
    "$$ 8x + 3y -2z = 9 $$\n",
    "\n",
    "Where $x$ is the first entry in the array, $y$ is the second entry in the array and $z$ is the third entry in the array.\n",
    "\n",
    "$x$ = ```x[0]```\n",
    "\n",
    "$y$ = ```x[1]```\n",
    "\n",
    "$z$ = ```x[2]```\n",
    "\n",
    "When these values are plugged into the equation above, the answer should be ```9.0```."
   ]
  },
  {
   "cell_type": "code",
   "execution_count": 4,
   "metadata": {},
   "outputs": [
    {
     "data": {
      "text/plain": [
       "9.0"
      ]
     },
     "execution_count": 4,
     "metadata": {},
     "output_type": "execute_result"
    }
   ],
   "source": [
    "8 * x[0] + 3 * x[1] - 2 * x[2]"
   ]
  },
  {
   "cell_type": "markdown",
   "metadata": {},
   "source": [
    "Another example from engineering statics is the following:\n",
    "\n",
    "three forces opperate on a point. The forces are defined as:\n",
    "\n",
    "F1 = \n",
    "\n",
    "F2 = \n",
    "\n",
    "F3 = \n",
    "\n",
    "What is the tension in AC and BC?"
   ]
  },
  {
   "cell_type": "code",
   "execution_count": null,
   "metadata": {
    "collapsed": true
   },
   "outputs": [],
   "source": []
  }
 ],
 "metadata": {
  "kernelspec": {
   "display_name": "Python 3",
   "language": "python",
   "name": "python3"
  },
  "language_info": {
   "codemirror_mode": {
    "name": "ipython",
    "version": 3
   },
   "file_extension": ".py",
   "mimetype": "text/x-python",
   "name": "python",
   "nbconvert_exporter": "python",
   "pygments_lexer": "ipython3",
   "version": "3.6.4"
  }
 },
 "nbformat": 4,
 "nbformat_minor": 2
}
