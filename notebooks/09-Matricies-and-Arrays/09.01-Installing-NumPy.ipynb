{
 "cells": [
  {
   "cell_type": "markdown",
   "metadata": {},
   "source": [
    "## Installing NumPy"
   ]
  },
  {
   "cell_type": "markdown",
   "metadata": {},
   "source": [
    "Before NumPy's functions and methods can be used, NumPy must be installed. Depending on which distribution of Python is being used, the installation methods are slightly different."
   ]
  },
  {
   "cell_type": "markdown",
   "metadata": {},
   "source": [
    "### Install NumPy on Anaconda\n",
    "\n",
    "If the Anaconda distribution of Python is installed, NumPy comes pre-packaged and no further installation steps are necessary. \n",
    "\n",
    "If using a version of Python from python.org or a version of Python that came with the operating system, the **Anaconda Prompt** and **conda** or **pip** can be used to install NumPy."
   ]
  },
  {
   "cell_type": "markdown",
   "metadata": {},
   "source": [
    "### Install NumPy with the Anaconda Prompt\n",
    "\n",
    "To install NumPy, open the **Anaconda Prompt** and type:\n",
    "\n",
    "```text\n",
    "> conda install numpy\n",
    "```\n",
    "\n",
    "Type ```y``` for yes when prompted."
   ]
  },
  {
   "cell_type": "markdown",
   "metadata": {},
   "source": [
    "### Install NumPy with pip\n",
    "\n",
    "To install NumPy with **pip**, bring up a terminal window and type:\n",
    "\n",
    "```text\n",
    "$ pip install numpy\n",
    "```\n",
    "\n",
    "This will install NumPy in the current working Python environment."
   ]
  },
  {
   "cell_type": "markdown",
   "metadata": {},
   "source": [
    "### Verify NumPy installation\n",
    "\n",
    "To verify NumPy is installed, try to invoke NumPy version at the Python REPL by calling the ```.__version__``` an attribute common to most Python packages."
   ]
  },
  {
   "cell_type": "code",
   "execution_count": 1,
   "metadata": {
    "collapsed": false
   },
   "outputs": [
    {
     "data": {
      "text/plain": [
       "'1.11.2'"
      ]
     },
     "execution_count": 1,
     "metadata": {},
     "output_type": "execute_result"
    }
   ],
   "source": [
    "import numpy as np\n",
    "np.__version__"
   ]
  },
  {
   "cell_type": "code",
   "execution_count": null,
   "metadata": {
    "collapsed": true
   },
   "outputs": [],
   "source": []
  }
 ],
 "metadata": {
  "kernelspec": {
   "display_name": "Python 2",
   "language": "python",
   "name": "python2"
  },
  "language_info": {
   "codemirror_mode": {
    "name": "ipython",
    "version": 2
   },
   "file_extension": ".py",
   "mimetype": "text/x-python",
   "name": "python",
   "nbconvert_exporter": "python",
   "pygments_lexer": "ipython2",
   "version": "2.7.15rc1"
  }
 },
 "nbformat": 4,
 "nbformat_minor": 2
}
