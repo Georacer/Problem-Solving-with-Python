{
 "cells": [
  {
   "cell_type": "markdown",
   "metadata": {},
   "source": [
    "## NumPy"
   ]
  },
  {
   "cell_type": "markdown",
   "metadata": {},
   "source": [
    "NumPy is a Python package used for numerical calculations, working with arrays of a homogeneous values, and scientific computing. \n",
    "\n",
    "In previous chapters, NumPy was used for the different functions and methods it provides. In addition to NumPy math functions such as ```np.sin()``` NumPy can also be used to construct homogeneous arrays and preform mathematical operations on arrays. A NumPy array is different from a Python list. The data types stored in a Python list can all be different:\n",
    "\n",
    "```python\n",
    "python_list =[ 1, -0.038, 'gear', True]\n",
    "```\n",
    "\n",
    "The list above contains four different data types: ```1``` is an integer, ```-0.038``` is a float, ```'gear'``` is a string, and ```'True'``` is a boolean.\n",
    "\n",
    "The code below prints the data type of each value store in ```python_list```."
   ]
  },
  {
   "cell_type": "code",
   "execution_count": 25,
   "metadata": {},
   "outputs": [
    {
     "name": "stdout",
     "output_type": "stream",
     "text": [
      "<class 'int'>\n",
      "<class 'float'>\n",
      "<class 'str'>\n",
      "<class 'bool'>\n"
     ]
    }
   ],
   "source": [
    "python_list = [1, -0.038, 'gear', True]\n",
    "for item in python_list:\n",
    "    print(type(item))"
   ]
  },
  {
   "cell_type": "markdown",
   "metadata": {},
   "source": [
    "The data types stored in a NumPy array need to all share the same data type. Consider the NumPy array below:\n",
    "\n",
    "```\n",
    "np.array([1.0, 3.1, 5e-04, 0.007])\n",
    "```\n",
    "\n",
    "All four values stored in the NumPy array above share the same data type: ```1.0```, ```3.1```, ```5e-04```, and ```0.007``` are all floats."
   ]
  },
  {
   "cell_type": "markdown",
   "metadata": {},
   "source": [
    "If the same four elements stored in the previous Python list are stored in a NumPy array, NumPy will force all of the four items in the list to conform to the same data type. In the case below, all four items are converted to type ```'<U32'```, which is a string data type in NumPy."
   ]
  },
  {
   "cell_type": "code",
   "execution_count": 16,
   "metadata": {},
   "outputs": [
    {
     "data": {
      "text/plain": [
       "array(['1', '-0.038', 'gear', 'True'], dtype='<U32')"
      ]
     },
     "execution_count": 16,
     "metadata": {},
     "output_type": "execute_result"
    }
   ],
   "source": [
    "import numpy as np\n",
    "np.array([1, -0.038, 'gear', True])"
   ]
  },
  {
   "cell_type": "markdown",
   "metadata": {},
   "source": [
    "NumPy arrays can also be two-dimensional, three-dimensional, or up to n-dimensional. The array size is only limited by compter resources, but the data type stored in each array is limited to the same type."
   ]
  },
  {
   "cell_type": "markdown",
   "metadata": {},
   "source": [
    "NumPy arrays are useful because mathematical operations can be run on an entire array simultaneously. If a list of numbers is stored in a regular Python list, when the list is multiplied by a scalar, the list extends and repeats instead of multiplying each number in the list by the scalar."
   ]
  },
  {
   "cell_type": "code",
   "execution_count": 17,
   "metadata": {},
   "outputs": [
    {
     "data": {
      "text/plain": [
       "[1, 2, 3, 4, 1, 2, 3, 4]"
      ]
     },
     "execution_count": 17,
     "metadata": {},
     "output_type": "execute_result"
    }
   ],
   "source": [
    "lst = [1, 2, 3, 4]\n",
    "lst*2"
   ]
  },
  {
   "cell_type": "markdown",
   "metadata": {},
   "source": [
    "To multiply each element of a Python list by the scalar number ```2```, a loop can be used:"
   ]
  },
  {
   "cell_type": "code",
   "execution_count": 18,
   "metadata": {},
   "outputs": [
    {
     "data": {
      "text/plain": [
       "[2, 4, 6, 8]"
      ]
     },
     "execution_count": 18,
     "metadata": {},
     "output_type": "execute_result"
    }
   ],
   "source": [
    "lst = [1, 2, 3, 4]\n",
    "for i, item in enumerate(lst):\n",
    "    lst[i] = lst[i]*2\n",
    "lst"
   ]
  },
  {
   "cell_type": "markdown",
   "metadata": {},
   "source": [
    "The method above is fairly cumbersome and is also quite _computationally expensive_. An operation that is computationally expensive is an operation that takes a lot of processing time and/or storage resources like RAM. Another way of completing this same action is to use a NumPy array. The NumPy array can be multiplied by a scalar and this will produce an array with each element multiplied by the scalar."
   ]
  },
  {
   "cell_type": "code",
   "execution_count": 19,
   "metadata": {},
   "outputs": [
    {
     "data": {
      "text/plain": [
       "array([2, 4, 6, 8])"
      ]
     },
     "execution_count": 19,
     "metadata": {},
     "output_type": "execute_result"
    }
   ],
   "source": [
    "nparray= np.array([1,2,3,4])\n",
    "2*nparray"
   ]
  },
  {
   "cell_type": "markdown",
   "metadata": {},
   "source": [
    "If we have a very long list, we can compare the amount of time it takes for each operation. Jupyter notebooks have a nice built-in way to time how long it takes a line of code to execute. In a Jupyter notebook, when a line start with ```%timeit``` followed by code, the notebook will run the line of code multiple times and output an average of the time spent to complete the line of code. We can use ```%timit``` to compare an mathematical operation on a Python list using a for loop to the same mathematical operation on a NumPy array.   "
   ]
  },
  {
   "cell_type": "code",
   "execution_count": 26,
   "metadata": {},
   "outputs": [
    {
     "name": "stdout",
     "output_type": "stream",
     "text": [
      "4.29 ms ± 1.23 ms per loop (mean ± std. dev. of 7 runs, 1000 loops each)\n"
     ]
    }
   ],
   "source": [
    "lst = list(range(10000))\n",
    "%timeit for i, item in enumerate(lst): lst[i] = lst[i]*2"
   ]
  },
  {
   "cell_type": "code",
   "execution_count": 27,
   "metadata": {},
   "outputs": [
    {
     "name": "stdout",
     "output_type": "stream",
     "text": [
      "7.4 µs ± 158 ns per loop (mean ± std. dev. of 7 runs, 100000 loops each)\n"
     ]
    }
   ],
   "source": [
    "nparray= np.arange(0,10000,1)\n",
    "%timeit 2*nparray"
   ]
  },
  {
   "cell_type": "markdown",
   "metadata": {},
   "source": [
    "With 10,000 integers, the Python list and for-loop takes an average of single milliseconds, while the NumPy array completing the same operation takes tens of microseconds. This is a speed increase of over 100x by using the NumPy array (1 millisecond = 1000 micorseconds). For larger lists and NumPy arrays, the speed increase using NumPy is considerable."
   ]
  },
  {
   "cell_type": "code",
   "execution_count": null,
   "metadata": {},
   "outputs": [],
   "source": []
  }
 ],
 "metadata": {
  "kernelspec": {
   "display_name": "Python 3",
   "language": "python",
   "name": "python3"
  },
  "language_info": {
   "codemirror_mode": {
    "name": "ipython",
    "version": 3
   },
   "file_extension": ".py",
   "mimetype": "text/x-python",
   "name": "python",
   "nbconvert_exporter": "python",
   "pygments_lexer": "ipython3",
   "version": "3.6.5"
  }
 },
 "nbformat": 4,
 "nbformat_minor": 2
}
