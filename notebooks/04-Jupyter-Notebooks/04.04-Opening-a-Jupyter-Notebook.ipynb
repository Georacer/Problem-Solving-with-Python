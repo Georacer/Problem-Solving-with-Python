{
 "cells": [
  {
   "cell_type": "markdown",
   "metadata": {},
   "source": [
    "## Opening a Jupyter Notebook"
   ]
  },
  {
   "cell_type": "markdown",
   "metadata": {},
   "source": [
    "In this section, you will learn how to open a Jupyter notebook on Windows and MacOS.\n",
    "\n",
    "One way problem solvers can write and execute Python code is in a Jupyter notebook. Jupyter notebooks contain Python code, the output that code produces and markdown cells usually used to explain what the code means.\n",
    "\n",
    "On Windows, a Jupyter notebook can be started from the **Anaconda Prompt**, the Windows start menu and **Anaconda Navigator**.\n",
    "\n",
    "#### 3 ways to open a **Jupyter notebook**:\n",
    "\n",
    " * Windows Start Menu\n",
    "\n",
    " * **Anaconda Prompt**\n",
    "\n",
    " * Anaconda Navigator"
   ]
  },
  {
   "cell_type": "markdown",
   "metadata": {},
   "source": [
    "### Open a Jupyter notebook with the Windows Start Menu"
   ]
  },
  {
   "cell_type": "markdown",
   "metadata": {},
   "source": [
    "One simple way to open a Jupyter notebook is to use the Windows Start Menu. Note that the Anaconda distribution of Python must be installed to use the Windows Start Menu to open a Jupyter notebook. Download **Anaconda** at the following link: [Anaconda.com/downloads](https://www.anaconda.com/download/)\n",
    "\n",
    "Open the Windows start menu and select **[Anaconda3(64 bit)]** --> **[Jupyter Notebook]**\n",
    "\n",
    "![Windows 10 Start Menu showing the Jupyter Notebook application](images/windows_start_jupyter_notebook.png)\n",
    "\n",
    "This action opens the **Jupyter file browser** in a web browser tab. \n",
    "\n",
    "In the upper right select **[New]** --> **[Python 3]**\n",
    "\n",
    "![Jupyter Notebook file browser](images/new_notebook_from_browser.png)\n",
    "\n",
    "A new **notebook** will open as a new tab in your web browser.\n",
    "\n",
    "![a newly opened Jupyter Nobebook](images/new_notebook.png)\n",
    "\n",
    "Try typing this in the first cell in the notebook to the right of the ```In [ ]:``` prompt:\n",
    "\n",
    "```python\n",
    "import this\n",
    "```\n",
    "\n",
    "Then click the run button in the middle of the menu at the top of the notebook.\n",
    "\n",
    "![Jupyter Notebook running \"import this\"](images/run_import_this.png)"
   ]
  },
  {
   "cell_type": "markdown",
   "metadata": {},
   "source": [
    "### Open a Jupyter Notebook with the Anaconda Prompt"
   ]
  },
  {
   "cell_type": "markdown",
   "metadata": {},
   "source": [
    "Another method to open a Jupyter notebook is to use the **Anaconda Prompt**.\n",
    "\n",
    "Go to the Windows start menu and select **[Anaconda Prompt]** under **[Anaconda3]**.\n",
    "\n",
    "![Windows 10 Start Menu showing the Anaconda Prompt application](images/anaconda_start_menu.png)\n",
    "\n",
    "If you don't see the **Anaconda Prompt** in the Windows Start Menu, then you need to install the Anaconda distribution of Python. Download **Anaconda** at the following link: [Anaconda.com/downloads](https://www.anaconda.com/download/)\n",
    "\n",
    "The **Anaconda Prompt** window should look something like the image below.\n",
    "\n",
    "![Anaconda Prompt](images/jupyter_notebook_anaconda_prompt.png)\n",
    "\n",
    "At the **Anaconda Prompt** type:\n",
    "\n",
    "```text\n",
    "> jupyter notebook\n",
    "```\n",
    "\n",
    "This command starts the **Jupyter notebook** server. The output in the **Anaconda Prompt** will look something like the output shown below:\n",
    "\n",
    "\n",
    "```text\n",
    "\n",
    "Copy/paste this URL into your browser when you connect for the first time,\n",
    "\n",
    "    to login with a token:\n",
    "\n",
    "        http://localhost:8888/?token=6bdef677d3503fbb23e1b4fa0c802e ...\n",
    "\n",
    "[I 16:14:12.661 NotebookApp] Accepting one-time-token-authenticated ...\n",
    "\n",
    "```\n",
    "\n",
    "\n",
    "A web browser should open, and you should be able to see the **Jupyter file browser**. If a web browser doesn't open automatically, you can copy the web address from the **Anaconda Prompt** and paste it into a web browser's address bar.\n",
    "\n",
    "\n",
    "![Jupyter Notebook file browser- create new notebook](images/new_notebook_from_browser.png)\n",
    "\n",
    "\n",
    "In the upper right select **[New]** --> **[Python 3]**\n",
    "\n",
    "\n",
    "You will see a new tab open in your web browser. This web browser page is a **Jupyter notebook**.\n",
    "\n",
    "![Newly opened Jupyter Notebook](images/new_notebook.png)"
   ]
  },
  {
   "cell_type": "markdown",
   "metadata": {
    "collapsed": true
   },
   "source": [
    "### Open a Jupyter Notebook with Anaconda Navigator"
   ]
  },
  {
   "cell_type": "markdown",
   "metadata": {},
   "source": [
    "One additional way to open a Jupyter notebook is to use **Anaconda Navigator**. Anaconda Navigator comes with the Anaconda distribution of Python. Open **Anaconda Navigator** using the Windows start menu and select **[Anaconda3(64-bit)]** --> **[Anaconda Navigator]**.\n",
    "\n",
    "![Windows 10 Start Menu showing the Anaconda Navigator application](images/windows_start_anaconda_navigator.png)\n",
    "\n",
    "An **Anaconda Navigator** window will open. In the middle of the page, in the **Jupyter notebook** tile, click **[Launch]**\n",
    "\n",
    "![Anaconda Navigator- launch new Jupyter Notebook](images/anaconda_navigator_jupyter_notebook_launch.png)\n",
    "\n",
    "A **Jupyter file browser** will open in a web browser tab. \n",
    "\n",
    "In the upper right select **[New]** --> **[Python 3]**\n",
    "\n",
    "![Jupyter Notebook file browser - create new Notebook](images/new_notebook_from_browser.png)\n",
    "\n",
    "A new **notebook** will open as a new tab in your web browser.\n",
    "\n",
    "![Newly opened Jupyter Notebook](images/new_notebook.png)"
   ]
  },
  {
   "cell_type": "code",
   "execution_count": null,
   "metadata": {
    "collapsed": true
   },
   "outputs": [],
   "source": []
  }
 ],
 "metadata": {
  "kernelspec": {
   "display_name": "Python 2",
   "language": "python",
   "name": "python2"
  },
  "language_info": {
   "codemirror_mode": {
    "name": "ipython",
    "version": 2
   },
   "file_extension": ".py",
   "mimetype": "text/x-python",
   "name": "python",
   "nbconvert_exporter": "python",
   "pygments_lexer": "ipython2",
   "version": "2.7.15rc1"
  }
 },
 "nbformat": 4,
 "nbformat_minor": 2
}
