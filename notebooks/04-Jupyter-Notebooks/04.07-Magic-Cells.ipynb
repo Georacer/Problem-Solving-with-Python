{
 "cells": [
  {
   "cell_type": "markdown",
   "metadata": {},
   "source": [
    "## Magic Cells"
   ]
  },
  {
   "cell_type": "markdown",
   "metadata": {},
   "source": [
    "Jupyter notebook code cells can contain special commands which are note valid Python code, but will affect the behavior of the notebook"
   ]
  },
  {
   "cell_type": "markdown",
   "metadata": {},
   "source": [
    "### %matplotlib inline"
   ]
  },
  {
   "cell_type": "markdown",
   "metadata": {},
   "source": [
    "One of the most popular magic commands is:\n",
    "\n",
    "```\n",
    "%matplotlib inline\n",
    "```\n",
    "\n",
    "Using this command at the top of a Jupyter notebook will produce Matplotlib plots in cells of the notebook. Without ```%matplotlib inline```, plots will jump out as external windows. A typical start to a Jupyter notebook using **Matplotlib** might start as:\n",
    "\n",
    "```python\n",
    "import numpy as np\n",
    "import pandas as pd\n",
    "import matplotlib.pyplot as plt\n",
    "%matplotlib inline\n",
    "```\n"
   ]
  },
  {
   "cell_type": "markdown",
   "metadata": {},
   "source": [
    "### %load\n",
    "\n",
    "The ```%load``` command will load a python module, webpage or file into a Jupyter notebook. If there is a file called **_hello.py_** in the same directory as the notebook with some Python code written in it, we can load that same code into a Jupyter notebook code cell with the ```%load``` command. \n",
    "\n",
    "Within a Jupyter notebook code cell type the command\n",
    "\n",
    "```python\n",
    "%load hello.py\n",
    "```\n",
    "\n",
    "The results are the code from the file **_hello.py_** in the current notebook."
   ]
  },
  {
   "cell_type": "code",
   "execution_count": 1,
   "metadata": {},
   "outputs": [
    {
     "name": "stdout",
     "output_type": "stream",
     "text": [
      "This code was run from a seperate Python file\n",
      "Hello from the file hello.py\n"
     ]
    }
   ],
   "source": [
    "# %load hello.py\n",
    "# hello.py\n",
    "\n",
    "print('This code was run from a seperate Python file')\n",
    "print('Hello from the file hello.py')"
   ]
  },
  {
   "cell_type": "markdown",
   "metadata": {},
   "source": [
    "### %run"
   ]
  },
  {
   "cell_type": "markdown",
   "metadata": {},
   "source": [
    "The ```%run``` magic command followed by the name of a python file will run the current python file as a script. Suppose the file ```hello.py``` is created in the same directory as the running jupyter notebook. The directory structure will look something like this:\n",
    "\n",
    "```\n",
    "| folder\n",
    "---| notebook.ipynb\n",
    "---| hello.py\n",
    "```\n",
    "\n",
    "In the file ```hello.py``` is the code:\n",
    "\n",
    "```python\n",
    "# hello.py\n",
    "\n",
    "print('This code was run from a seperate Python file')\n",
    "print('Hello from the file hello.py')\n",
    "```\n",
    "\n",
    "Within our Jupyter notebook, if we ```%run``` this file, we will get the output of or hello.py script in a **_hello.py_** script in a Jupyter notebook output cell.\n"
   ]
  },
  {
   "cell_type": "code",
   "execution_count": 2,
   "metadata": {},
   "outputs": [
    {
     "name": "stdout",
     "output_type": "stream",
     "text": [
      "This code was run from a seperate Python file\n",
      "Hello from the file hello.py\n"
     ]
    }
   ],
   "source": [
    "%run hello.py"
   ]
  },
  {
   "cell_type": "markdown",
   "metadata": {},
   "source": [
    "### Other usefull magic commands"
   ]
  },
  {
   "cell_type": "markdown",
   "metadata": {},
   "source": [
    "Below is a table of other useful Jupyter notebook magic commands\n",
    "\n",
    "| magic command | result |\n",
    "| --- | --- |\n",
    "| %pwd | print the current working directory |\n",
    "| %cd | change the current working directory |\n",
    "| %ls | list the contents of the current directory |\n",
    "| %history | the history of the ```In [ ]:``` commands |\n",
    "\n",
    "You can list all of the available magic commands by typing and running ```%lsmagic``` in a Jupyter notebook code cell:\n",
    "\n",
    "```python\n",
    "%lsmagic\n",
    "```\n",
    "\n",
    "The output will show all the available line magic commands that begin with the percent sign %.\n",
    "\n",
    "```text\n",
    "Available line magics:\n",
    "%alias  %alias_magic  %autocall  %automagic  %autosave ...\n",
    "%dhist  %dirs  %doctest_mode  %ed  %edit  %env  %gui ...\n",
    "dir  %more  %mv  %notebook  %page  %pastebin  %pdb  %pdef ...\n",
    "...\n",
    "\n",
    "Available cell magics:\n",
    "%%!  %%HTML  %%SVG  %%bash  %%capture  %%debug  %%file  %%html ...\n",
    "%%python  %%python2  %%python3  %%ruby  %%script  %%sh  %%svg ...\n",
    "```\n",
    "\n"
   ]
  },
  {
   "cell_type": "code",
   "execution_count": null,
   "metadata": {},
   "outputs": [],
   "source": []
  }
 ],
 "metadata": {
  "kernelspec": {
   "display_name": "Python 3",
   "language": "python",
   "name": "python3"
  },
  "language_info": {
   "codemirror_mode": {
    "name": "ipython",
    "version": 3
   },
   "file_extension": ".py",
   "mimetype": "text/x-python",
   "name": "python",
   "nbconvert_exporter": "python",
   "pygments_lexer": "ipython3",
   "version": "3.6.4"
  }
 },
 "nbformat": 4,
 "nbformat_minor": 2
}
