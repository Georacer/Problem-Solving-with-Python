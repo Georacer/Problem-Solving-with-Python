{
 "cells": [
  {
   "cell_type": "markdown",
   "metadata": {},
   "source": [
    "## Review Questions"
   ]
  },
  {
   "cell_type": "markdown",
   "metadata": {
    "latex": {
     "environment": "problems"
    }
   },
   "source": [
    "Q04.01 Run the following code in two different Jupyter notebook cells. Run one cell as a code cell. Run the other cell as a Markdown cell. Why is the output different?\n",
    "\n",
    "```\n",
    "# Problem Solving with Python\n",
    "```\n",
    "\n",
    "Q04.02 Run the following code in two different Jupyter notebook cells. Run one cell as a code cell. Run the other cell as a Markdown cell. Why is the output different?\n",
    "\n",
    "```\n",
    "print('Problem Solving with Python')\n",
    "```\n",
    "\n",
    "Q04.03 Recreate the following headings in one Jupyter notebook markdown cell\n",
    "\n",
    "Q04.04\n",
    "\n",
    "Q04.05\n",
    "\n",
    "Q04.06\n",
    "\n",
    "Q04.07\n",
    "\n",
    "Q04.08\n",
    "\n",
    "Q04.09\n",
    "\n",
    "Q04.10"
   ]
  },
  {
   "cell_type": "code",
   "execution_count": null,
   "metadata": {},
   "outputs": [],
   "source": []
  }
 ],
 "metadata": {
  "kernelspec": {
   "display_name": "Python 3",
   "language": "python",
   "name": "python3"
  },
  "language_info": {
   "codemirror_mode": {
    "name": "ipython",
    "version": 3
   },
   "file_extension": ".py",
   "mimetype": "text/x-python",
   "name": "python",
   "nbconvert_exporter": "python",
   "pygments_lexer": "ipython3",
   "version": "3.6.4"
  }
 },
 "nbformat": 4,
 "nbformat_minor": 2
}
