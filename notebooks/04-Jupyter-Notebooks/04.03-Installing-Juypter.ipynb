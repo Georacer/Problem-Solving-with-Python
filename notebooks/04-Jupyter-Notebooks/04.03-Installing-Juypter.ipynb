{
 "cells": [
  {
   "cell_type": "markdown",
   "metadata": {},
   "source": [
    "## Installing Juypter"
   ]
  },
  {
   "cell_type": "markdown",
   "metadata": {},
   "source": [
    "To install **Jupyter Notebooks**, the simplest way is to use the **Anaconda** distribution of Python. Anaconda has **Jupyter Notebooks** pre-installed and no further installation steps are necessary."
   ]
  },
  {
   "cell_type": "markdown",
   "metadata": {},
   "source": [
    "### Installing Jupyter on Windows using the Anaconda Prompt\n",
    "\n",
    "To install Jupyter on Windows, open the Anaconda prompt and type:\n",
    "\n",
    "```text\n",
    "> conda install jupyter\n",
    "```\n",
    "\n",
    "Type ```y``` for yes when prompted."
   ]
  },
  {
   "cell_type": "markdown",
   "metadata": {},
   "source": [
    "### Installing Jupyter on Mac OSX\n",
    "\n",
    "To install Jupyter on MacOS, open the MacOS terminal and type:\n",
    "\n",
    "```text\n",
    "$ conda install jupyter\n",
    "```\n",
    "\n",
    "Type ```y``` for yes when prompted.\n",
    "\n",
    "If **conda** is not installed, the **Anaconda** Distribution of Python can be installed, which should install **conda** for use in the MacOS terminal.\n",
    "\n",
    "Problems can crop up on MacOS when using the MacOS provided system version of Python. Python packages may not install on the system version of Python properly. Moreover, packages which do install on the system version of Python may not run correctly. It is therefore recommended that MacOS users install the **Anaconda** distribution of Python or use **homebrew** to install a separate non-system version of Python. \n",
    "\n",
    "To install a non-system version of Python with **homebrew**, key in the following in the MacOS terminal:\n",
    "\n",
    "```\n",
    "$ brew install Python\n",
    "```\n",
    "\n",
    "After **homebrew** installs a non-system version of Python, **pip** can be used to install Jupyter.\n",
    "\n",
    "```\n",
    "$ pip install jupyter\n",
    "```\n"
   ]
  },
  {
   "cell_type": "markdown",
   "metadata": {},
   "source": [
    "### Installing Jupyter on Ubuntu Linux\n",
    "\n",
    "To install Jupyter on Linux, open a terminal and type:\n",
    "\n",
    "```text\n",
    "$ conda install jupyter\n",
    "```\n",
    "\n",
    "Type ```y``` for yes when prompted.\n",
    "\n",
    "Alternatively, if the **Anaconda** distribution of Python is not installed, one can use:\n",
    "\n",
    "```text\n",
    "$ pip3 install jupyter\n",
    "```"
   ]
  },
  {
   "cell_type": "code",
   "execution_count": null,
   "metadata": {},
   "outputs": [],
   "source": []
  }
 ],
 "metadata": {
  "kernelspec": {
   "display_name": "Python 3",
   "language": "python",
   "name": "python3"
  },
  "language_info": {
   "codemirror_mode": {
    "name": "ipython",
    "version": 3
   },
   "file_extension": ".py",
   "mimetype": "text/x-python",
   "name": "python",
   "nbconvert_exporter": "python",
   "pygments_lexer": "ipython3",
   "version": "3.6.4"
  }
 },
 "nbformat": 4,
 "nbformat_minor": 2
}
