{
 "cells": [
  {
   "cell_type": "markdown",
   "metadata": {
    "latex": {
     "before_cell": "newpage"
    }
   },
   "source": [
    "## Summary"
   ]
  },
  {
   "cell_type": "markdown",
   "metadata": {},
   "source": [
    "In this chapter we learned..."
   ]
  },
  {
   "cell_type": "markdown",
   "metadata": {},
   "source": [
    "### Key Terms and Concepts"
   ]
  },
  {
   "cell_type": "markdown",
   "metadata": {},
   "source": [
    "Kernal\n",
    "\n",
    "Notebook\n",
    "\n",
    "Jupyter\n",
    "\n",
    "iPython\n",
    "\n",
    "Execute\n",
    "\n",
    ".ipynb file\n",
    "\n",
    "backend\n"
   ]
  },
  {
   "cell_type": "markdown",
   "metadata": {},
   "source": [
    "### Python Commands and Functions"
   ]
  },
  {
   "cell_type": "markdown",
   "metadata": {},
   "source": [
    "#### Jupyter Notebook Magic Commands\n",
    "\n",
    "| Command | Description |\n",
    "| --- | --- |\n",
    "|```%matplotlib inline```| Display plots in output cells |\n",
    "|```%run file.py```| Runs file.py and displays output |\n",
    "|```%pwd```| Prints the working directory file path |\n",
    "|```%ls```| List contents of the current working directory |\n",
    "| ```%precision``` | sets float point precision for pretty printing |\n",
    "| ```%whos``` | lists variables and types in the running kernel session |\n",
    "|```function?```| Display help on a function |\n",
    "|```function??```| Display source code of a function |"
   ]
  },
  {
   "cell_type": "code",
   "execution_count": null,
   "metadata": {},
   "outputs": [],
   "source": []
  }
 ],
 "metadata": {
  "kernelspec": {
   "display_name": "Python 3",
   "language": "python",
   "name": "python3"
  },
  "language_info": {
   "codemirror_mode": {
    "name": "ipython",
    "version": 3
   },
   "file_extension": ".py",
   "mimetype": "text/x-python",
   "name": "python",
   "nbconvert_exporter": "python",
   "pygments_lexer": "ipython3",
   "version": "3.6.4"
  }
 },
 "nbformat": 4,
 "nbformat_minor": 2
}
