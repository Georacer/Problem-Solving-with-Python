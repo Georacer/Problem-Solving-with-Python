{
 "cells": [
  {
   "cell_type": "markdown",
   "metadata": {},
   "source": [
    "## Boolean Arithmetic"
   ]
  },
  {
   "cell_type": "markdown",
   "metadata": {},
   "source": [
    "_Boolean Arithmetic_ is the arithmetic of true and false logic. A _boolean_ or logical value can either be ```True``` or ```False```. In Python, the keywords ```True``` and ```False``` denote a boolean variable. Note that assigning ```true``` or ```false``` to a variable will produce an error."
   ]
  },
  {
   "cell_type": "markdown",
   "metadata": {},
   "source": [
    "```python\n",
    ">>> A = True\n",
    ">>> B = False\n",
    "```\n",
    "\n",
    "```python\n",
    ">>> A\n",
    "True\n",
    "```\n",
    "\n",
    "```python\n",
    ">>> B\n",
    "False\n",
    "```\n",
    "\n",
    "```python\n",
    ">>> A or B\n",
    "True\n",
    "```\n",
    "\n",
    "```python\n",
    ">>> A and B\n",
    "False\n",
    "```\n",
    "\n",
    "```python\n",
    ">>> not A\n",
    "False\n",
    "```\n",
    "\n",
    "```python\n",
    ">>> not B\n",
    "True\n",
    "```\n",
    "\n",
    "```python\n",
    ">>> A == B\n",
    "False\n",
    "```\n",
    "\n",
    "```python\n",
    ">>> A != B\n",
    "True\n",
    "```\n",
    "\n",
    "```python\n",
    ">>> C = False\n",
    ">>> A or (C and B)\n",
    "True\n",
    ">>> (A and B) or C\n",
    "False\n",
    "```"
   ]
  },
  {
   "cell_type": "code",
   "execution_count": null,
   "metadata": {},
   "outputs": [],
   "source": []
  }
 ],
 "metadata": {
  "kernelspec": {
   "display_name": "Python 3",
   "language": "python",
   "name": "python3"
  },
  "language_info": {
   "codemirror_mode": {
    "name": "ipython",
    "version": 3
   },
   "file_extension": ".py",
   "mimetype": "text/x-python",
   "name": "python",
   "nbconvert_exporter": "python",
   "pygments_lexer": "ipython3",
   "version": "3.7.1"
  }
 },
 "nbformat": 4,
 "nbformat_minor": 2
}
