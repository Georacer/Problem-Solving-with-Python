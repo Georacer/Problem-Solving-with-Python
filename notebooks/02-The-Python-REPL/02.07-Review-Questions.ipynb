{
 "cells": [
  {
   "cell_type": "markdown",
   "metadata": {},
   "source": [
    "## Review Questions"
   ]
  },
  {
   "cell_type": "markdown",
   "metadata": {
    "latex": {
     "environment": "problems"
    }
   },
   "source": [
    "Arithmetic\n",
    "\n",
    "Q2.01 $2 + \\frac{1}{2}$\n",
    "\n",
    "Q2.02 $4 \\times 2 + \\frac{2}{4}$\n",
    "\n",
    "Q2.03 $\\frac{5}{2} \\times 3 + 4$\n",
    "\n",
    "Q2.04 $4^2 + 3$\n",
    "\n",
    "Q2.05 $\\sqrt{16}$\n",
    "\n",
    "Q2.06 $3^{4-5}$\n",
    "\n",
    "Q2.07 $\\frac{1+3+5}{2+4+6}$\n",
    "\n",
    "Q2.08 $1 - 2 + \\frac{9}{6} -3 + 5$\n",
    "\n",
    "Q2.09 $(3 + 5 -2)^{2/3}$\n",
    "\n",
    "Q2.10 $\\frac{5+3}{2 \\times 5}$\n",
    "\n",
    "Q2.11 $\\sqrt{6^2 + 4}$\n",
    "\n",
    "Q2.12 $1 + 9 \\times \\frac{8}{4^2} + 1^{3-4} \\times \\frac{1}{2.5}$\n",
    "\n",
    "Variables in Calculations\n",
    "\n",
    "Q2.20 $a = 2$, $b = 3$, calculate $\\frac{4}{5}(a^2 - b^3)$\n",
    "\n",
    "Q2.21 The area of a circle, $a$, is dependent on the circle's radius, $r$, according to $a=\\pi r^2$. What is the area of a circle with radius $r=4$?\n",
    "\n",
    "Q2.21 The area of a circle, $a$, is dependent on the circle's diameter, $d$, according to $a=\\pi (\\frac{d}{2})^2$. What is the area of a circle with diameter $d=6$?\n",
    "\n",
    "Q2.22 The volume of a sphere, $v$, is dependent on the sphere's radius, $r$, according to $v=(\\frac{4}{3})\\pi r^3$. What is the volume of a sphere with radius $r=1.5$?\n",
    "\n",
    "Q2.23 The volume of a cylinder, $v$, is dependent on the cylinder's radius, $r$, and height, $h$, according to $v=\\pi r^2 h$. What is the volume of a cylinder with radius $r=5$ and height $h=10$ ?\n",
    "\n",
    "Q2.24 The surface area of a sphere, $a_s$ is related to the sphere's radius, $r$, according to $a_s=4\\pi r^2$. What is the surface area $a_s$ of a sphere with radius $r=2.5$?\n",
    "\n",
    "Q2.25 The general equation for the distance, $d$, that a free falling body travels (neglecting air resistance) is $d = \\frac{1}{2}gt^2$, where $g$ is the acceleration due to gravity and $t$ is the fall time. Assume the acceleration due to gravity $g = 9.81$. How far (what distance) will a ball fall in time $t = 12$?  \n",
    "\n",
    "Q2.26 The general equation for the fall time, $t$, that a free falling body takes (neglecting air resistance) to cover a distance, $d$ is $t = \\sqrt{\\frac{d}{0.5g}}$, where $g$ is the acceleration due to gravity. Assume the acceleration due to gravity $g = 9.81$. How long (what time) will it take a base jumper to fall distance $d = 2000$?\n",
    "\n",
    "Q2.27 The value of an investment $v$ compounded annually at an interest rate of $r\\%$ after $n$ years is dependent on the original investment $P$ according to:\n",
    "\n",
    "$$ v = P(1 + r/100)^n $$\n",
    "\n",
    "If $P=1000$ dollars at a rate of $r=7\\%$, what will the value $v$ be after $n=20$ years? \n",
    "\n",
    "Q2.28 The original principal $P$ needed to produce a total savings of value $v$ at a rate of $r\\%$ over $n$ years is calculated by:\n",
    "\n",
    "$$ P = \\frac{v}{(1+r/100)^n} $$\n",
    "\n",
    "What is the principal $P$ needed to save one million dollars at a rate $r=10\\%$ over $n=40$ years?\n",
    "\n",
    "Q2.29 Electrical power $P$ is related to current $I$ and resistance $R$ according to $P = I^2R$. An electrical load with a resistance $R = 10,000$ running at a current $I=0.200$ draws how much power $P$ ?"
   ]
  },
  {
   "cell_type": "code",
   "execution_count": null,
   "metadata": {},
   "outputs": [],
   "source": []
  }
 ],
 "metadata": {
  "celltoolbar": "Edit Metadata",
  "kernelspec": {
   "display_name": "Python 3",
   "language": "python",
   "name": "python3"
  },
  "language_info": {
   "codemirror_mode": {
    "name": "ipython",
    "version": 3
   },
   "file_extension": ".py",
   "mimetype": "text/x-python",
   "name": "python",
   "nbconvert_exporter": "python",
   "pygments_lexer": "ipython3",
   "version": "3.6.4"
  }
 },
 "nbformat": 4,
 "nbformat_minor": 2
}
