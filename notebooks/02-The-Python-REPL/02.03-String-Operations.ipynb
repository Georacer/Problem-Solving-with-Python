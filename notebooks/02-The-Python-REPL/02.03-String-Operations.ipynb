{
 "cells": [
  {
   "cell_type": "markdown",
   "metadata": {},
   "source": [
    "## String Operations"
   ]
  },
  {
   "cell_type": "markdown",
   "metadata": {},
   "source": [
    "Strings are sequences of letters, numbers, punctuation and spaces. Strings are defined at the Python REPL by enclosing letters, numbers, punctuation and spaces in single or double quotes. \n",
    "\n",
    "```python\n",
    ">>> word = \"Solution\"\n",
    ">>> another_word = \"my solution\"\n",
    ">>> third_word = \"3rd solution!\"\n",
    "```\n",
    "\n",
    "Some operations we can do on strings include concatenation (combining strings), logical comparisons (comparing strings) and indexing (pulling specific characters out of strings)."
   ]
  },
  {
   "cell_type": "markdown",
   "metadata": {},
   "source": [
    "### String Concatenation"
   ]
  },
  {
   "cell_type": "markdown",
   "metadata": {},
   "source": [
    "Strings can be _concatenated_ or combined using the ```+``` operator.\n",
    "\n",
    "```python\n",
    ">>> word = \"Solution\"\n",
    ">>> another_word = \"my solution\"\n",
    ">>> third_word = \"3rd solution!\"\n",
    ">>> all_words = word+another_word+third_word\n",
    ">>> all_words\n",
    "'Solutionmy solution3rd solution!'\n",
    "```\n",
    "\n",
    "To include spaces in the concatenated string, add a string which just contains one space ```\" \"``` in between each string you combine.\n",
    "\n",
    "```python\n",
    ">>> word = \"Solution\"\n",
    ">>> another_word = \"my solution\"\n",
    ">>> third_word = \"3rd solution!\"\n",
    ">>> all_words = word + \" \" + another_word + \" \" + third_word\n",
    ">>> all_words\n",
    "'Solution my solution 3rd solution!'\n",
    "```"
   ]
  },
  {
   "cell_type": "markdown",
   "metadata": {},
   "source": [
    "### String Comparison"
   ]
  },
  {
   "cell_type": "markdown",
   "metadata": {},
   "source": [
    "Strings can be compared using the comparison operator, the double equals sign ```==```. Note the comparison operator double equals ```==``` is not the same as the assignment operator, a single equals sign ```=```.\n",
    "\n",
    "```python\n",
    ">>> name1 = 'Kendra'\n",
    ">>> name2 = 'Kendra'\n",
    ">>> name1 == name2\n",
    "True\n",
    "```\n",
    "\n",
    "```python\n",
    ">>> name1 = 'Kendra'\n",
    ">>> name2 = 'Sydney'\n",
    ">>> name1 == name2\n",
    "False\n",
    "```\n",
    "\n",
    "Capital letters and lower case letters are different characters in Python. A string with the same letters, but different capitalization are not equivalent.\n",
    "\n",
    "```python\n",
    ">>> name1 = 'Kendra'\n",
    ">>> name2 = 'kenda'\n",
    ">>> name1 == name2\n",
    "False\n",
    "```"
   ]
  },
  {
   "cell_type": "markdown",
   "metadata": {},
   "source": [
    "### String Indexing\n",
    "\n",
    "String indexing is the process of pulling out specific characters from a string in a specific order. In Python, strings are indexed using square brackets ```[ ]```. Python counting starts at ```0``` and ends at ```n-1```. This means for the word\n",
    "\n",
    "```\n",
    "Solution\n",
    "```\n",
    "\n",
    "The letter ```S``` is at the zero index, the letter ```o``` is at the first index. The last letter of the word ```Solution``` is ```n```. ```n``` is in the seventh index. Even though the word ```Solution``` has eight letters, the last letter is in the seventh index. This is because Python indexing starts at zero and ends at n-1.\n",
    "\n",
    "![Python indexing](images/string_indexing.png)"
   ]
  },
  {
   "cell_type": "markdown",
   "metadata": {},
   "source": [
    "```python\n",
    ">>> word = 'Solution'\n",
    ">>> word[0]\n",
    "'S'\n",
    "```"
   ]
  },
  {
   "cell_type": "markdown",
   "metadata": {},
   "source": [
    "```python\n",
    ">>> word[1]\n",
    "'o'\n",
    "```"
   ]
  },
  {
   "cell_type": "markdown",
   "metadata": {},
   "source": [
    "```python\n",
    ">>> word[7]\n",
    "'n'\n",
    "```"
   ]
  },
  {
   "cell_type": "markdown",
   "metadata": {},
   "source": [
    "If the eighth index of the word ```Solution``` is called, you get an error.\n",
    "\n",
    "```python\n",
    ">>> word[8]\n",
    "\n",
    "IndexError: string index out of range\n",
    "```"
   ]
  },
  {
   "cell_type": "markdown",
   "metadata": {},
   "source": [
    "Placing a negative number inside of the square brackets pulls a character out of a string starting from the end of the string.\n",
    "\n",
    "```python\n",
    ">>> word[-1]\n",
    "'n'\n",
    "```\n",
    "\n",
    "```python\n",
    ">>> word[-2]\n",
    "'o'\n",
    "```"
   ]
  },
  {
   "cell_type": "markdown",
   "metadata": {},
   "source": [
    "A colon on the inside of the square brackets indicates between two numbers indicates _through_. As in ```[0:3]``` are the characters at positions ```0``` to ```3```. Remember Python counting starts at zero and ends at n-1. So ```[0:3]``` indicates the first through third letters, which are the zero to two index.\n",
    "\n",
    "```python\n",
    ">>> word[0:3]\n",
    "'Sol'\n",
    "```"
   ]
  },
  {
   "cell_type": "markdown",
   "metadata": {},
   "source": [
    "A colon by itself on the inside of square brackets indicates _all_.\n",
    "\n",
    "```python\n",
    ">>> word[:]\n",
    "'Solution'\n",
    "```"
   ]
  },
  {
   "cell_type": "markdown",
   "metadata": {},
   "source": [
    "When three numbers separated by two colons are used inside of square brackets, the numbers represent _start_ : _stop_ : step. But remember that Python counting starts at zero and ends at n-1. \n",
    "\n",
    "```python\n",
    ">>> word[0:7:2]  #start:stop:step\n",
    "'Slto'\n",
    "```"
   ]
  },
  {
   "cell_type": "markdown",
   "metadata": {},
   "source": [
    "When two colons are used inside of square brackets, but less than three numbers are specified, the missing numbers are set to their \"defaults\". The default start is ```0```, the default stop is ```n-1``` and the default step is ```1```. \n",
    "\n",
    "The two code lines below produce the same output since ```0``` is the default start and ```7``` (n-1) is the default stop. Both lines of code use a step of ```2```.\n",
    "\n",
    "```python\n",
    ">>> word[0:7:2]\n",
    "'Slto'\n",
    "```\n",
    "\n",
    "```python\n",
    ">>> word[::2]\n",
    "'Slto'\n",
    "```\n",
    "\n",
    "The characters that make up a string can be reversed by using the default start and stop values, and specify the step as ```-1```.\n",
    "\n",
    "```python\n",
    ">>> word[::-1]\n",
    "'noituloS'\n",
    "```"
   ]
  },
  {
   "cell_type": "code",
   "execution_count": null,
   "metadata": {},
   "outputs": [],
   "source": []
  }
 ],
 "metadata": {
  "kernelspec": {
   "display_name": "Python 3",
   "language": "python",
   "name": "python3"
  },
  "language_info": {
   "codemirror_mode": {
    "name": "ipython",
    "version": 3
   },
   "file_extension": ".py",
   "mimetype": "text/x-python",
   "name": "python",
   "nbconvert_exporter": "python",
   "pygments_lexer": "ipython3",
   "version": "3.6.4"
  }
 },
 "nbformat": 4,
 "nbformat_minor": 2
}
