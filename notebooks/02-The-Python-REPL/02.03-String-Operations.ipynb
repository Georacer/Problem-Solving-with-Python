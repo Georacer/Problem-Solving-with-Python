{
 "cells": [
  {
   "cell_type": "markdown",
   "metadata": {},
   "source": [
    "## String Operations"
   ]
  },
  {
   "cell_type": "markdown",
   "metadata": {},
   "source": [
    "Strings are sequences of letters, numbers, punctuation, and spaces. Strings are defined at the Python REPL by enclosing letters, numbers, punctuation, and spaces in single quotes ```' '``` or double quotes ```\" \"```. \n",
    "\n",
    "Some operations which can be performed on strings include indexing, concatenation, and logical comparisons.\n",
    "\n",
    "```python\n",
    ">>> word = \"Solution\"\n",
    ">>> another_word = \"another solution\"\n",
    ">>> third_word = \"3rd solution!\"\n",
    "```\n",
    "\n",
    "In Python, some operations we can do on strings include concatenation (combining strings), logical comparisons (comparing strings) and indexing (pulling specific characters out of strings)."
   ]
  },
  {
   "cell_type": "markdown",
   "metadata": {},
   "source": [
    "### String Concatenation"
   ]
  },
  {
   "cell_type": "markdown",
   "metadata": {},
   "source": [
    "Strings can be _concatenated_ or combined using the ```+``` operator.\n",
    "\n",
    "```python\n",
    ">>> word = \"Solution\"\n",
    ">>> another_word = \"another solution\"\n",
    ">>> third_word = \"3rd solution!\"\n",
    ">>> all_words = word+another_word+third_word\n",
    ">>> all_words\n",
    "'Solutionanother solution3rd solution!'\n",
    "```\n",
    "\n",
    "To include spaces in the concatenated string, add a string which just contains one space ```\" \"``` in between each string you combine.\n",
    "\n",
    "```python\n",
    ">>> word = \"Solution\"\n",
    ">>> another_word = \"another solution\"\n",
    ">>> third_word = \"3rd solution!\"\n",
    ">>> all_words = word + \" \" + another_word + \" \" + third_word\n",
    ">>> all_words\n",
    "'Solution another solution 3rd solution!'\n",
    "```"
   ]
  },
  {
   "cell_type": "markdown",
   "metadata": {},
   "source": [
    "### String Comparison"
   ]
  },
  {
   "cell_type": "markdown",
   "metadata": {},
   "source": [
    "Strings can be compared using the comparison operator; the double equals sign ```==```. Note the comparison operator double equals ```==``` is not the same as the assignment operator, a single equals sign ```=```.\n",
    "\n",
    "```python\n",
    ">>> name1 = 'Gabby'\n",
    ">>> name2 = 'Gabby'\n",
    ">>> name1 == name2\n",
    "True\n",
    "```\n",
    "\n",
    "```python\n",
    ">>> name1 = 'Gabby'\n",
    ">>> name2 = 'Maelle'\n",
    ">>> name1 == name2\n",
    "False\n",
    "```\n",
    "\n",
    "Capital letters and lower case letters are different characters in Python. A string with the same letters, but different capitalization are not equivalent.\n",
    "\n",
    "```python\n",
    ">>> name1 = 'Gabby'\n",
    ">>> name2 = 'gabby'\n",
    ">>> name1 == name2\n",
    "False\n",
    "```"
   ]
  },
  {
   "cell_type": "markdown",
   "metadata": {},
   "source": [
    "### String Indexing\n",
    "\n",
    "String indexing is the process of pulling out specific characters from a string in a particular order. In Python, strings are indexed using square brackets ```[ ]```. Python counting starts at ```0``` and ends at ```n-1```. \n",
    "\n",
    "Consider the word below.\n",
    "\n",
    "```text\n",
    "Solution\n",
    "```\n",
    "\n",
    "The letter ```S``` is at the zero index, the letter ```o``` is at the first index. The last letter of the word ```Solution``` is ```n```. ```n``` is in the seventh index. Even though the word ```Solution``` has eight letters, the last letter is in the seventh index. This is because Python indexing starts at zero and ends at n-1.\n",
    "\n",
    "![String index assignments](images/string_indexing.png)"
   ]
  },
  {
   "cell_type": "markdown",
   "metadata": {},
   "source": [
    "```python\n",
    ">>> word = 'Solution'\n",
    ">>> word[0]\n",
    "'S'\n",
    "```"
   ]
  },
  {
   "cell_type": "markdown",
   "metadata": {},
   "source": [
    "```python\n",
    ">>> word[1]\n",
    "'o'\n",
    "```"
   ]
  },
  {
   "cell_type": "markdown",
   "metadata": {},
   "source": [
    "```python\n",
    ">>> word[7]\n",
    "'n'\n",
    "```"
   ]
  },
  {
   "cell_type": "markdown",
   "metadata": {},
   "source": [
    "If the eighth index of the word ```Solution``` is called, an error is returned.\n",
    "\n",
    "```python\n",
    ">>> word[8]\n",
    "\n",
    "IndexError: string index out of range\n",
    "```"
   ]
  },
  {
   "cell_type": "markdown",
   "metadata": {},
   "source": [
    "#### Negative Indexing\n",
    "\n",
    "\n",
    "Placing a negative number inside of the square brackets pulls a character out of a string starting from the end of the string.\n",
    "\n",
    "```python\n",
    ">>> word[-1]\n",
    "'n'\n",
    "```\n",
    "\n",
    "```python\n",
    ">>> word[-2]\n",
    "'o'\n",
    "```\n",
    "\n",
    "![Negative String Indexing](images/reverse_string_indexing.png)"
   ]
  },
  {
   "cell_type": "markdown",
   "metadata": {},
   "source": [
    "### String Slicing\n",
    "\n",
    "A colon on the inside of the square brackets between two numbers indicates _through_. If the index ```[0:3]``` is called, the characters at positions ```0``` through ```3``` are returned. Remember Python counting starts at ```0``` and ends at ```n-1```. So ```[0:3]``` indicates the first through third letters, which are indexes ```0``` to ```2```.\n",
    "\n",
    "```python\n",
    ">>> word[0:3]\n",
    "'Sol'\n",
    "```"
   ]
  },
  {
   "cell_type": "markdown",
   "metadata": {},
   "source": [
    "A colon by itself on the inside of square brackets indicates _all_.\n",
    "\n",
    "```python\n",
    ">>> word[:]\n",
    "'Solution'\n",
    "```"
   ]
  },
  {
   "cell_type": "markdown",
   "metadata": {},
   "source": [
    "When three numbers are separated by two colons inside of square brackets, the numbers represent _start_ : _stop_ : _step_. But remember that Python counting starts at ```0``` and ends at ```n-1```. \n",
    "\n",
    "```python\n",
    ">>> word[0:7:2]  #start:stop:step\n",
    "'Slto'\n",
    "```"
   ]
  },
  {
   "cell_type": "markdown",
   "metadata": {},
   "source": [
    "When two colons are used inside of square brackets, and less than three numbers are specified, the missing numbers are set to their \"defaults\". The default start is ```0```, the default stop is ```n-1```, and the default step is ```1```. \n",
    "\n",
    "The two code lines below produce the same output since ```0``` is the default start and ```7``` (n-1) is the default stop. Both lines of code use a step of ```2```.\n",
    "\n",
    "```python\n",
    ">>> word[0:7:2]\n",
    "'Slto'\n",
    "```\n",
    "\n",
    "```python\n",
    ">>> word[::2]\n",
    "'Slto'\n",
    "```\n",
    "\n",
    "The characters that make up a string can be reversed by using the default start and stop values and specify the step as ```-1```.\n",
    "\n",
    "```python\n",
    ">>> word[::-1]\n",
    "'noituloS'\n",
    "```"
   ]
  },
  {
   "cell_type": "code",
   "execution_count": null,
   "metadata": {},
   "outputs": [],
   "source": []
  }
 ],
 "metadata": {
  "kernelspec": {
   "display_name": "Python 3",
   "language": "python",
   "name": "python3"
  },
  "language_info": {
   "codemirror_mode": {
    "name": "ipython",
    "version": 3
   },
   "file_extension": ".py",
   "mimetype": "text/x-python",
   "name": "python",
   "nbconvert_exporter": "python",
   "pygments_lexer": "ipython3",
   "version": "3.6.8"
  }
 },
 "nbformat": 4,
 "nbformat_minor": 2
}
