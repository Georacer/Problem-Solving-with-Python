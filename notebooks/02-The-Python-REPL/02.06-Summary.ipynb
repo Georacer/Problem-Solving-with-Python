{
 "cells": [
  {
   "cell_type": "markdown",
   "metadata": {},
   "source": [
    "## Summary"
   ]
  },
  {
   "cell_type": "markdown",
   "metadata": {},
   "source": [
    "In this chapter, you learned how to use the Python REPL, also called the Python prompt, to solve calculation problems. You learned how to do arithmetic, powers and logarithms, trigonometry and save values to variables."
   ]
  },
  {
   "cell_type": "markdown",
   "metadata": {},
   "source": [
    "### Key Terms and Concepts\n",
    "\n",
    "| Key Terms and Concepts| \n",
    "| --- |\n",
    "| REPL |\n",
    "| Operator |\n",
    "| Mathematical Operator |\n",
    "| Command Line |\n",
    "| Error |\n",
    "| Module |\n",
    "| Standard Library |\n",
    "| Import |"
   ]
  },
  {
   "cell_type": "markdown",
   "metadata": {},
   "source": [
    "### Summary of Python Functions and Commands\n",
    "\n",
    "Below is a summary of the functions and operators used in this chapter:\n",
    "\n",
    "#### Arithmetic\n",
    "\n",
    "| Arithmetic Operators | description |\n",
    "| --- | --- |\n",
    "| ```+``` | Addition |\n",
    "| ```-``` | Subtraction |\n",
    "| ```*``` | Multiplication |\n",
    "| ```/``` | Division |\n",
    "| ```**``` | Exponents |\n",
    "| ```_``` | answer in memory |\n",
    "\n",
    "#### Trigonometry\n",
    "\n",
    "| Trig Function | Description |\n",
    "| --- | ---|\n",
    "| ```from math import *``` | |\n",
    "| ```sin``` | sine of angle in radians |\n",
    "| ```cos``` | cosine of angle in radians |\n",
    "| ```tan``` | tangent of angle in radians |\n",
    "| ```pi``` | $\\pi$ |\n",
    "| ```degrees``` | convert radians to degrees |\n",
    "| ```radians``` | convert degrees to radians |\n",
    "| ```asin``` |    inverse sine |\n",
    "| ```acos``` |    inverse cosine |\n",
    "| ```atan``` |   inverse tangent  |\n",
    "\n",
    "#### Logarithms and Exponents\n",
    "\n",
    "| Logarithms and Exponent Function | Description |\n",
    "| --- | ---|\n",
    "| ```from math import *``` | |\n",
    "| ```log``` |  log base e, natural log | \n",
    "| ```log10``` |  log base 10 | \n",
    "| ```exp``` |  $e^{power}$ | \n",
    "|  ```e``` |  the math constant $e$ | \n",
    "|  ```pow(x,y)``` |  x raised to the y power | \n",
    "|  ```sqrt``` |  square root | \n",
    "\n",
    "#### Statistics\n",
    "\n",
    "| Statistical Function | Description |\n",
    "| --- | ---|\n",
    "| ```from statistics import *``` | |\n",
    "| ```mean``` | mean (average) |\n",
    "| ```median``` | median (middle value) |\n",
    "| ```mode``` | (most often) |\n",
    "| ```stdev``` | standard deviation of a sample |\n",
    "| ```pstdev``` | standard deviation of a population |"
   ]
  },
  {
   "cell_type": "code",
   "execution_count": null,
   "metadata": {},
   "outputs": [],
   "source": []
  }
 ],
 "metadata": {
  "kernelspec": {
   "display_name": "Python 3",
   "language": "python",
   "name": "python3"
  },
  "language_info": {
   "codemirror_mode": {
    "name": "ipython",
    "version": 3
   },
   "file_extension": ".py",
   "mimetype": "text/x-python",
   "name": "python",
   "nbconvert_exporter": "python",
   "pygments_lexer": "ipython3",
   "version": "3.6.5"
  }
 },
 "nbformat": 4,
 "nbformat_minor": 2
}
