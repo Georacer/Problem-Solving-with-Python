{
 "cells": [
  {
   "cell_type": "markdown",
   "metadata": {},
   "source": [
    "## Docstrings in Functions"
   ]
  },
  {
   "cell_type": "markdown",
   "metadata": {},
   "source": [
    "It is good programming practice to document your code. Reusable chunks of code are particulary important to document as other programmers may use the code and you may use the code again at a different time. \n",
    "\n",
    "Python has a couple different ways for programmers to add documentation. One way is to use simple comments. Comments are lines of code that do not get run by the Python interpreter. Comments are meant to be viewed by humans. In Python, comment lines start with the pound symbol ```#```. Any line that starts with a ```#``` will not be run by the Python Python Interpreter.\n",
    "\n",
    "Another way to document code is to use _docstrings_. Docstrings are comments which are surrounded with triple quotation marks and usually contain multiple lines of explanation. A function containing a docstring takes the form:\n",
    "\n",
    "```\n",
    "def function_name(arguments):\n",
    "    \"\"\"\"\n",
    "    Docstring text\n",
    "    \n",
    "    \n",
    "    \n",
    "    \"\"\"\n",
    "    <code>\n",
    "    \n",
    "    return <output>\n",
    "    \n",
    "```\n",
    "\n",
    "Doc strings are what come up when the ```help()``` function is called. As an example, running the ```help()``` function on the built-in function ```sum``` brings up:"
   ]
  },
  {
   "cell_type": "code",
   "execution_count": 4,
   "metadata": {},
   "outputs": [
    {
     "name": "stdout",
     "output_type": "stream",
     "text": [
      "Help on built-in function sum in module builtins:\n",
      "\n",
      "sum(iterable, start=0, /)\n",
      "    Return the sum of a 'start' value (default: 0) plus an iterable of numbers\n",
      "    \n",
      "    When the iterable is empty, return the start value.\n",
      "    This function is intended specifically for use with numeric values and may\n",
      "    reject non-numeric types.\n",
      "\n"
     ]
    }
   ],
   "source": [
    "help(sum)"
   ]
  },
  {
   "cell_type": "markdown",
   "metadata": {},
   "source": [
    "We can produce the same type of output when a user types types ```help()``` by adding docstrings to a function."
   ]
  },
  {
   "cell_type": "markdown",
   "metadata": {},
   "source": [
    "Let's create our own function to convert g to kg. Let's call our function ```g2kg```. The first thing to do is make sure that the name ```g2kg``` is not assigned to another function and is not a keyword by Python. We can check quick using ```type()```. We know that ```sum()``` is a function, how about g2kg?\n"
   ]
  },
  {
   "cell_type": "code",
   "execution_count": 5,
   "metadata": {},
   "outputs": [
    {
     "name": "stdout",
     "output_type": "stream",
     "text": [
      "<class 'builtin_function_or_method'>\n"
     ]
    },
    {
     "ename": "NameError",
     "evalue": "name 'g2kg' is not defined",
     "output_type": "error",
     "traceback": [
      "\u001b[1;31m------------------------------------------------------------------------\u001b[0m",
      "\u001b[1;31mNameError\u001b[0m                              Traceback (most recent call last)",
      "\u001b[1;32m<ipython-input-5-487fcfc6eb43>\u001b[0m in \u001b[0;36m<module>\u001b[1;34m()\u001b[0m\n\u001b[0;32m      1\u001b[0m \u001b[0mprint\u001b[0m\u001b[1;33m(\u001b[0m\u001b[0mtype\u001b[0m\u001b[1;33m(\u001b[0m\u001b[0msum\u001b[0m\u001b[1;33m)\u001b[0m\u001b[1;33m)\u001b[0m\u001b[1;33m\u001b[0m\u001b[0m\n\u001b[1;32m----> 2\u001b[1;33m \u001b[0mprint\u001b[0m\u001b[1;33m(\u001b[0m\u001b[0mtype\u001b[0m\u001b[1;33m(\u001b[0m\u001b[0mg2kg\u001b[0m\u001b[1;33m)\u001b[0m\u001b[1;33m)\u001b[0m\u001b[1;33m\u001b[0m\u001b[0m\n\u001b[0m",
      "\u001b[1;31mNameError\u001b[0m: name 'g2kg' is not defined"
     ]
    }
   ],
   "source": [
    "print(type(sum))\n",
    "print(type(g2kg))"
   ]
  },
  {
   "cell_type": "markdown",
   "metadata": {},
   "source": [
    "Since ```g2kg``` is not defined, we can use ```g2kg``` as the name of a user-defined function. Once we know that our Remember the parenthsis, colon and return statment."
   ]
  },
  {
   "cell_type": "code",
   "execution_count": 6,
   "metadata": {},
   "outputs": [],
   "source": [
    "def g2kg(g):\n",
    "    kg = g/1000\n",
    "    \n",
    "    return kg"
   ]
  },
  {
   "cell_type": "markdown",
   "metadata": {},
   "source": [
    "Now let's try and use our function. How many kg's is 1300 grams. We expect the output to be 1.3 kg"
   ]
  },
  {
   "cell_type": "code",
   "execution_count": 7,
   "metadata": {},
   "outputs": [
    {
     "data": {
      "text/plain": [
       "1.3"
      ]
     },
     "execution_count": 7,
     "metadata": {},
     "output_type": "execute_result"
    }
   ],
   "source": [
    "g2kg(1300)"
   ]
  },
  {
   "cell_type": "markdown",
   "metadata": {},
   "source": [
    "If we call ```help()``` on our function ```g2kg()```, nothing is returned. Our ```g2kg()``` function does not contain a docstring yet."
   ]
  },
  {
   "cell_type": "code",
   "execution_count": 8,
   "metadata": {},
   "outputs": [
    {
     "name": "stdout",
     "output_type": "stream",
     "text": [
      "Help on function g2kg in module __main__:\n",
      "\n",
      "g2kg(g)\n",
      "\n"
     ]
    }
   ],
   "source": [
    "help(g2kg)"
   ]
  },
  {
   "cell_type": "markdown",
   "metadata": {},
   "source": [
    "Now let's add a docstring to the function. Common components of docstrings include:\n",
    "\n",
    " * a summary of the function\n",
    " * the function inputs\n",
    " * the function outputs\n",
    " * an example of the function running including the result"
   ]
  },
  {
   "cell_type": "code",
   "execution_count": 10,
   "metadata": {},
   "outputs": [],
   "source": [
    "def g2kg(g):\n",
    "    \"\"\"\n",
    "    \n",
    "    Function g2kg converts between g and kg\n",
    "    \n",
    "    input: a measurement in grams, int or float\n",
    "    output: measurment in kg, float\n",
    "    \n",
    "    Example:\n",
    "    \n",
    "        >>> g2kg(1300)\n",
    "            \n",
    "            1.3\n",
    "        \n",
    "    \"\"\"\n",
    "    kg = g/1000\n",
    "    \n",
    "    return kg"
   ]
  },
  {
   "cell_type": "markdown",
   "metadata": {},
   "source": [
    "Now let's ask for ```help()``` on our function and see if the docstring is printed back."
   ]
  },
  {
   "cell_type": "code",
   "execution_count": 11,
   "metadata": {},
   "outputs": [
    {
     "name": "stdout",
     "output_type": "stream",
     "text": [
      "Help on function g2kg in module __main__:\n",
      "\n",
      "g2kg(g)\n",
      "    Function g2kg converts between g and kg\n",
      "    \n",
      "    input: a measurement in grams, int or float\n",
      "    output: measurment in kg, float\n",
      "    \n",
      "    Example:\n",
      "    \n",
      "        >>> g2kg(1300)\n",
      "            \n",
      "            1.3\n",
      "\n"
     ]
    }
   ],
   "source": [
    "help(g2kg)"
   ]
  },
  {
   "cell_type": "code",
   "execution_count": null,
   "metadata": {},
   "outputs": [],
   "source": []
  }
 ],
 "metadata": {
  "kernelspec": {
   "display_name": "Python 3",
   "language": "python",
   "name": "python3"
  },
  "language_info": {
   "codemirror_mode": {
    "name": "ipython",
    "version": 3
   },
   "file_extension": ".py",
   "mimetype": "text/x-python",
   "name": "python",
   "nbconvert_exporter": "python",
   "pygments_lexer": "ipython3",
   "version": "3.6.5"
  }
 },
 "nbformat": 4,
 "nbformat_minor": 2
}
