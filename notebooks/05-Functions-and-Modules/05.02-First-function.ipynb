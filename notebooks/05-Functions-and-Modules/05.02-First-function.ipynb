{
 "cells": [
  {
   "cell_type": "markdown",
   "metadata": {},
   "source": [
    "## First Function"
   ]
  },
  {
   "cell_type": "markdown",
   "metadata": {},
   "source": [
    "For our first function will create a simple function that adds two to any number. Functions in Python typically contain at least two lines. The first line defines the function name and arguments.\n",
    "\n",
    "```\n",
    "def function_name(arguments):\n",
    "    <code>\n",
    "    return output\n",
    "```\n",
    "\n",
    "This line contains a couple parts:\n",
    "\n",
    "```\n",
    "def\n",
    "```\n",
    "\n",
    "The key word ```def``` needs to be the start of the line that declares the function. Def stands for _definition_ and indicates to the Python interpreter that a function definition will follow.\n",
    "\n",
    "```\n",
    "function_name\n",
    "```\n",
    "\n",
    "Each function needs a name. The function name should start with a letter and is typically all lowercase (in Python names that start with Uppercase are usually used to define _Classes_). Function names need to start with a letter and can only contain letters, numbers and the underscore character. Just about any name will do, but it is best to avoid using any Python key words such as ```def```, ```class```, ```if```, ```else```, ```for```. A complete list of reserved Python keywords is in the index.  \n",
    "\n",
    "```\n",
    "(argument):\n",
    "```\n",
    "\n",
    "Function names are followed by a set of parenthesis ```( )```. Many functions have variable names, called _arguments_ in between the parenthesis. The name used for the function argument should be used in the body of the function and is only local to that function. After the parenthesis comes a ```:``` colon. A colon is required to end the first line of a function.\n",
    "\n",
    "<div class=\"alert alert-warning\" role=\"alert\">\n",
    "  <strong>A colon :</strong> is required at the end of the first line of every function. If the <strong>:</strong> is not present the code will not run.\n",
    "</div>\n",
    "\n",
    "```\n",
    "<code>\n",
    "```\n",
    "\n",
    "The body of the fuction contains the code that will run when the function is called. Any variables declared by the function arguments can be used in the body of the fuction. Any variables used in the body of the function are _local variables_.  Local variables can not be called or accessed by other scripts. \n",
    "\n",
    "```\n",
    "return\n",
    "```\n",
    "\n",
    "The ```return``` key word is often the last line of a function. ```return``` indicates that whatever expression that follows will be the output of the function. The ```return``` keyword is not a function or a method and parenthesis are not used after ```return```, just a space\n",
    "\n",
    "```\n",
    "output\n",
    "```\n",
    "\n",
    "Whatever expression is included after ```return``` will be _returned_ or outputted by the function. The output expression after ```return``` can be a single variable, value or be a more complex expression that includes multiple variables."
   ]
  },
  {
   "cell_type": "markdown",
   "metadata": {},
   "source": [
    "A simple first function, is a function that will add two to any number. The function will be called ```plustwo``` and have one input argument, a number. The function will return that number plus ```2```. So the function should operate as shown below:\n",
    "\n",
    "```\n",
    "plustwo(3)\n",
    "5\n",
    "```"
   ]
  },
  {
   "cell_type": "code",
   "execution_count": 1,
   "metadata": {},
   "outputs": [],
   "source": [
    "def plustwo(n):\n",
    "    n = n + 2\n",
    "    return n"
   ]
  },
  {
   "cell_type": "code",
   "execution_count": 2,
   "metadata": {},
   "outputs": [
    {
     "data": {
      "text/plain": [
       "5"
      ]
     },
     "execution_count": 2,
     "metadata": {},
     "output_type": "execute_result"
    }
   ],
   "source": [
    "plustwo(3)"
   ]
  },
  {
   "cell_type": "code",
   "execution_count": 3,
   "metadata": {},
   "outputs": [
    {
     "data": {
      "text/plain": [
       "12"
      ]
     },
     "execution_count": 3,
     "metadata": {},
     "output_type": "execute_result"
    }
   ],
   "source": [
    "plustwo(10)"
   ]
  },
  {
   "cell_type": "code",
   "execution_count": null,
   "metadata": {},
   "outputs": [],
   "source": []
  }
 ],
 "metadata": {
  "kernelspec": {
   "display_name": "Python 3",
   "language": "python",
   "name": "python3"
  },
  "language_info": {
   "codemirror_mode": {
    "name": "ipython",
    "version": 3
   },
   "file_extension": ".py",
   "mimetype": "text/x-python",
   "name": "python",
   "nbconvert_exporter": "python",
   "pygments_lexer": "ipython3",
   "version": "3.6.4"
  }
 },
 "nbformat": 4,
 "nbformat_minor": 2
}
