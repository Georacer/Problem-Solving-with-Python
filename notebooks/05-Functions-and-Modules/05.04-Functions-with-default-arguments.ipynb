{
 "cells": [
  {
   "cell_type": "markdown",
   "metadata": {},
   "source": [
    "## Functions with Default Arguments"
   ]
  },
  {
   "cell_type": "markdown",
   "metadata": {},
   "source": [
    "Functions can be specified with default arguemnts. If values for these arguemnts are not supplied when the fuction is called, the default values will be used. The general format is below:\n",
    "\n",
    "```\n",
    "def function_name(arugment1=default_value, arguemnt2=default_value):\n",
    "    <code>\n",
    "    return output\n",
    "```"
   ]
  },
  {
   "cell_type": "markdown",
   "metadata": {},
   "source": [
    "An example function is one that calculates the distance an object falls based on time. The general formula for fall distance $d$ based on fall time $t$ can be modeled as:\n",
    "\n",
    "$$ d = \\frac{1}{2}gt^2 $$\n",
    "\n",
    "Where $g$ is the accelleration due to gravity. On earth the value of $g$ is 9.81 m/s<sup>2</sup>. But on the moon, $g$ is about 1.625 m/s<sup>2</sup>.  Our function will include the default value for earth's gravity and give programmers the option of specifying a different value for $g$ if they choose."
   ]
  },
  {
   "cell_type": "code",
   "execution_count": 5,
   "metadata": {},
   "outputs": [],
   "source": [
    "def falldist(t, g=9.81):\n",
    "    d = 0.5 * g * t**2\n",
    "    return d"
   ]
  },
  {
   "cell_type": "markdown",
   "metadata": {},
   "source": [
    "On earth, a ball that falls for three seconds, can be calculated using ```falldist(3)``` and leaving out a value for ```g```."
   ]
  },
  {
   "cell_type": "code",
   "execution_count": 6,
   "metadata": {},
   "outputs": [
    {
     "data": {
      "text/plain": [
       "44.145"
      ]
     },
     "execution_count": 6,
     "metadata": {},
     "output_type": "execute_result"
    }
   ],
   "source": [
    "falldist(3)"
   ]
  },
  {
   "cell_type": "markdown",
   "metadata": {},
   "source": [
    "On the moon, gravity is much weaker, an acceleration of 1.625 m/s<sup>2</sup>. To calculate how far a ball falls on the moon in three seconds, two arguments need to be supplied ```3``` and ```1.625```. If a second argument is given, this overrides the default value assigned in the first line of the function."
   ]
  },
  {
   "cell_type": "code",
   "execution_count": 8,
   "metadata": {},
   "outputs": [
    {
     "data": {
      "text/plain": [
       "7.3125"
      ]
     },
     "execution_count": 8,
     "metadata": {},
     "output_type": "execute_result"
    }
   ],
   "source": [
    "falldist(3, 1.625)"
   ]
  },
  {
   "cell_type": "code",
   "execution_count": null,
   "metadata": {},
   "outputs": [],
   "source": []
  }
 ],
 "metadata": {
  "kernelspec": {
   "display_name": "Python 3",
   "language": "python",
   "name": "python3"
  },
  "language_info": {
   "codemirror_mode": {
    "name": "ipython",
    "version": 3
   },
   "file_extension": ".py",
   "mimetype": "text/x-python",
   "name": "python",
   "nbconvert_exporter": "python",
   "pygments_lexer": "ipython3",
   "version": "3.6.4"
  }
 },
 "nbformat": 4,
 "nbformat_minor": 2
}
