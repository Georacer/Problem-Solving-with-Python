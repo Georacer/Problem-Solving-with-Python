{
 "cells": [
  {
   "cell_type": "markdown",
   "metadata": {
    "latex": {
     "before_cell": "newpage"
    }
   },
   "source": [
    "## Summary"
   ]
  },
  {
   "cell_type": "markdown",
   "metadata": {},
   "source": [
    "summary text"
   ]
  },
  {
   "cell_type": "markdown",
   "metadata": {
    "latex": {
     "environment": "key_terms"
    }
   },
   "source": [
    "### Key Terms and Concepts\n",
    "\n",
    "function\n",
    "\n",
    "function definition\n",
    "\n",
    "arguments\n",
    "\n",
    "default arguments\n",
    "\n",
    "positional arguments\n",
    "\n",
    "keyword arguments\n",
    "\n",
    "output\n",
    "\n",
    "doc string\n",
    "\n",
    "return\n",
    "\n",
    ".py-file\n",
    "\n",
    "import"
   ]
  },
  {
   "cell_type": "markdown",
   "metadata": {},
   "source": [
    "### Python Commands\n",
    "\n",
    "| Command | Description |\n",
    "| --- | --- |\n",
    "| ```def``` | define a function |\n",
    "| ```return``` | define the expression or value a function outputs |\n",
    "| ```import``` | import a module or .py file |\n",
    "| ```from``` | import a function or class from a module or .py file |\n",
    "| ```as``` | name an alias for a function, method or class |\n",
    "| ``` \"\"\"   \"\"\" ``` | define a doc string |"
   ]
  },
  {
   "cell_type": "code",
   "execution_count": null,
   "metadata": {},
   "outputs": [],
   "source": []
  }
 ],
 "metadata": {
  "celltoolbar": "Edit Metadata",
  "kernelspec": {
   "display_name": "Python 3",
   "language": "python",
   "name": "python3"
  },
  "language_info": {
   "codemirror_mode": {
    "name": "ipython",
    "version": 3
   },
   "file_extension": ".py",
   "mimetype": "text/x-python",
   "name": "python",
   "nbconvert_exporter": "python",
   "pygments_lexer": "ipython3",
   "version": "3.6.4"
  }
 },
 "nbformat": 4,
 "nbformat_minor": 2
}
