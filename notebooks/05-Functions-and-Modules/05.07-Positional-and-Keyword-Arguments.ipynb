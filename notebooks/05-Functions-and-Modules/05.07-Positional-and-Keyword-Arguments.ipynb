{
 "cells": [
  {
   "cell_type": "markdown",
   "metadata": {},
   "source": [
    "## Positional and Keyword Arguments"
   ]
  },
  {
   "cell_type": "markdown",
   "metadata": {},
   "source": [
    "Python functions can contain two types of arguments: _positional arguments_ and _keyword arguments_."
   ]
  },
  {
   "cell_type": "markdown",
   "metadata": {},
   "source": [
    "### Positional Arguments\n",
    "\n",
    "An _argument_ is a variable, value or object passed to a function or method. _Positional arguments_ are arguments that need to be included when a function is called in the proper position or order. The first positional argument always needs to be listed first, the second positional argument needs to be listed second, the third positional argument listed third etc. \n",
    "\n",
    "An example of positional arguments can be seen in Python's ```complex()``` function. This function returns a complex number with a real term and an imaginary term. The order that numbers are passed to the complex function determines which number is the real term and which term is the imaginary term.\n",
    "\n",
    "If the complex number ```3 + 5j``` needs to be created, the two positional arguments are the numbers ```3``` and ```5```. The ```3``` must be listed first and the ```5``` must be listed second. "
   ]
  },
  {
   "cell_type": "code",
   "execution_count": 1,
   "metadata": {},
   "outputs": [
    {
     "data": {
      "text/plain": [
       "(3+5j)"
      ]
     },
     "execution_count": 1,
     "metadata": {},
     "output_type": "execute_result"
    }
   ],
   "source": [
    "complex(3, 5)"
   ]
  },
  {
   "cell_type": "markdown",
   "metadata": {},
   "source": [
    "On the other hand, if the complex number ```5 + 3j``` needs to be created, the ```5``` needs to be listed first and the ```3``` listed second. Writing the same arguments in a different order produces a different result."
   ]
  },
  {
   "cell_type": "code",
   "execution_count": 2,
   "metadata": {},
   "outputs": [
    {
     "data": {
      "text/plain": [
       "(5+3j)"
      ]
     },
     "execution_count": 2,
     "metadata": {},
     "output_type": "execute_result"
    }
   ],
   "source": [
    "complex(5, 3)"
   ]
  },
  {
   "cell_type": "markdown",
   "metadata": {},
   "source": [
    "#### Positional Arguments specified an iterable\n",
    "\n",
    "Positional arguments can also be passed to functions and methods using an iterable object. Examples of iterable objects include lists, tuples and sets. The general syntax to use is:\n",
    "\n",
    "```\n",
    "function(*iterable)\n",
    "```\n",
    "\n",
    "Where ```function``` is the name of the function and ```iterable``` is the name of the iterable preceded by the ampersand ```*``` character. An example of using a list to pass positional arguments to the ```complex()``` function is below:\n"
   ]
  },
  {
   "cell_type": "code",
   "execution_count": 3,
   "metadata": {},
   "outputs": [
    {
     "data": {
      "text/plain": [
       "(3+5j)"
      ]
     },
     "execution_count": 3,
     "metadata": {},
     "output_type": "execute_result"
    }
   ],
   "source": [
    "term_list = [3, 5]\n",
    "complex(*term_list)"
   ]
  },
  {
   "cell_type": "markdown",
   "metadata": {},
   "source": [
    "### Keyword Arguments\n",
    "\n",
    "A _keyword argument_ is an argument passed to a function or a method which is preceded by a _keyword_ and an equals sign the general form is:\n",
    "\n",
    "```\n",
    "function(keyword=value)\n",
    "```\n",
    "\n",
    "Where ```function``` is the function name, ```keyword``` is the keyword argument and value is the value or object passed as that keyword. Python's complex function can also accept two keyword arguments. The two keyword arguments are ```real=``` and ```imag=```. To create the complex number ```3 + 5j``` the, ```3``` and ```5``` can be passed to the function as the values assigned to the keyword arguments ```real=``` and ```imag=```.\n"
   ]
  },
  {
   "cell_type": "code",
   "execution_count": 4,
   "metadata": {},
   "outputs": [
    {
     "data": {
      "text/plain": [
       "(3+5j)"
      ]
     },
     "execution_count": 4,
     "metadata": {},
     "output_type": "execute_result"
    }
   ],
   "source": [
    "complex(real=3, imag=5)"
   ]
  },
  {
   "cell_type": "markdown",
   "metadata": {},
   "source": [
    "#### Keyword Arguments specified by a dictionary\n",
    "\n",
    "Keyword arguments can also be passed to functions and methods using dictionary. The dictionary used must contain the keywords as keys and the values as values. The general form is:\n",
    "\n",
    "```\n",
    "keyword_dict = {'keyword1': value1, 'keyword2': value2}\n",
    "function(**keyword_dict)\n",
    "```\n",
    "\n",
    "Where ```function``` is the name of the function and ```keyword_dict``` is the name of the dictionary containing keywords and values preceded by the double ampersand ```**``` character. Note that the keywords when assigned as keys in a dictionary must be surounded by quotes ``` ' ' ```. An example of using a dictionary to pass keyword arguments to the ```complex()``` function is below:\n"
   ]
  },
  {
   "cell_type": "code",
   "execution_count": 6,
   "metadata": {},
   "outputs": [
    {
     "data": {
      "text/plain": [
       "(3+5j)"
      ]
     },
     "execution_count": 6,
     "metadata": {},
     "output_type": "execute_result"
    }
   ],
   "source": [
    "keyword_dict = {'real': 3, 'imag': 5}\n",
    "complex(**keyword_dict)"
   ]
  },
  {
   "cell_type": "code",
   "execution_count": 14,
   "metadata": {},
   "outputs": [
    {
     "data": {
      "text/plain": [
       "{}"
      ]
     },
     "execution_count": 14,
     "metadata": {},
     "output_type": "execute_result"
    }
   ],
   "source": [
    "import typing\n",
    "typing.get_type_hints()"
   ]
  },
  {
   "cell_type": "code",
   "execution_count": 15,
   "metadata": {},
   "outputs": [
    {
     "data": {
      "text/plain": [
       "2"
      ]
     },
     "execution_count": 15,
     "metadata": {},
     "output_type": "execute_result"
    }
   ],
   "source": [
    "import sys\n",
    "sys.getrefcount(keyword_dict)"
   ]
  },
  {
   "cell_type": "code",
   "execution_count": null,
   "metadata": {},
   "outputs": [],
   "source": []
  }
 ],
 "metadata": {
  "kernelspec": {
   "display_name": "Python 3",
   "language": "python",
   "name": "python3"
  },
  "language_info": {
   "codemirror_mode": {
    "name": "ipython",
    "version": 3
   },
   "file_extension": ".py",
   "mimetype": "text/x-python",
   "name": "python",
   "nbconvert_exporter": "python",
   "pygments_lexer": "ipython3",
   "version": "3.6.4"
  }
 },
 "nbformat": 4,
 "nbformat_minor": 2
}
