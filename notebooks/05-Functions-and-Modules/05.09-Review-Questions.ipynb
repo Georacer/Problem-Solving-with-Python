{
 "cells": [
  {
   "cell_type": "markdown",
   "metadata": {},
   "source": [
    "## Review Questions"
   ]
  },
  {
   "cell_type": "markdown",
   "metadata": {
    "latex": {
     "environment": "problems"
    }
   },
   "source": [
    "#### User-defined functions\n",
    "\n",
    "Q05.01 Write a function called ```ft_to_in()``` which converts feet to inches. Note the conversion factor is 1 foot = 12 inches. Convert 6 feet into inches using your function.\n",
    "\n",
    "Q05.02 Write a function called ```m_to_ft()``` which converts meters to feet. Note the conversion factor is 1 meter =  3.28084 feet. Convert 5,000 meters into feet using your function.\n",
    "\n",
    "Q05.03 Use the functions in questions Q05.01 and Q05.02 to convert 2 meters into inches.\n",
    "\n",
    "Q05.04 Write a function that calculates the area of a circle based on a circle's radius. The formula for the area of a circle is $A = \\pi r^2$ where $A$ is area and $r$ is radius. Use your function to calculate the area of circle with a radius of 5.\n",
    "\n",
    "Q05.05 Write a function that converts degrees Celcius ($C$) to degrees Fahrenheit ($F$). The formula to convert between the two temperature scales is $F = \\frac{9}{5} C \\times + 32$\n",
    "\n",
    "Q05.06 Write a function that converts Kelvin temperature ($K) to degrees Celcius ($C$). The formula to convert between the two temperature scales is $C = K - 273.15$\n",
    "\n",
    "Q05.07 Use the functions in questions Q05.05 and Q05.06 to convert to convert the temperature at Standard Temperature and Pressure (STP) of $ 273.15 K $ into degrees Fahrenheit.\n",
    "\n",
    "Q05.08 Use the functions in questions Q05.05 and Q05.06 to convert to convert the temperature at absolute zero, $0 K$ into degrees Celcius and degrees Fahrenheit.\n",
    "\n",
    "Q05.09 Write a function called ```hp_to_kw()``` which converts horse power ($hp$) into kilowatts ($kW$). Note the conversion factor is $1 hp =  0.7457 kW$. Convert the horsepower of the average horse, 14.9 hp, into kilowatts ($kW$)."
   ]
  },
  {
   "cell_type": "markdown",
   "metadata": {},
   "source": [
    "#### Functions with multiple arguments\n",
    "\n",
    "Q05.20 Write a function called ```cyl_v()``` that calculates the volume $V$ of a cylinder based on cylinder height $h$ and cylinder radius $r$. The formula for the volume of a cylinder is below:\n",
    "\n",
    "$$ V = \\pi r^2 h $$\n",
    "\n",
    "Use your function ```cyl_v()``` to calculate the volume of a cylinder with a height = 2.7 and a radius = 0.73.\n",
    "\n",
    "Q05.20 The universal gas law states that the pressure $P$,  and temperature $T$ of volume $V$ of gas with number of particles $n$ is related by the equation below, where $R$ is the universal gas constant.\n",
    "\n",
    "$$ PV = nRT $$\n",
    "\n",
    "Write a function called ```gas_v()``` to calculate the volume of a gas based on pressure $P$, temperature $T$, number of particles $n$ and universal gas constant $R$. Use your function to find the volume of gas with the following parameters:\n",
    "\n",
    "$$ T = 273.15$$\n",
    "\n",
    "$$ n = 6.02 \\times 10^{23} $$\n",
    "\n",
    "$$ R = 8.314 $$\n",
    "\n",
    "$$ P = 101,325 $$"
   ]
  },
  {
   "cell_type": "markdown",
   "metadata": {},
   "source": [
    "#### Functions with default arguments\n",
    "\n",
    "Q05.30 Rewrite the function in problem Q05.20 called ```gas_v()``` with the default values $n = 6.02 \\times 10^{23}$, $R = 8.314$ and $P = 101,325$.\n",
    "\n",
    "Use your modified function ```gas_v()``` to calculate the volume of a gas at $T = 500 K$ using the default arguments.\n",
    "\n",
    "Also use your modified function ```gas_v()``` to calculate the volume of a gas at $T = 500K$, under half the pressure $p = 101,325/2$.\n",
    "\n",
    "Q05.32 In engineering mechanics, the tensile stress $\\sigma$ applied to a solid cylinder is equal to the tensile force on the cylinder $F$ divided by the cylinder's cross sectional area $A$ according to the formula below:\n",
    "\n",
    "$$ \\sigma = \\frac{F}{A} $$\n",
    "\n",
    "The standard diameter $d$ of a cylinder pulled in tension in a tensile test using the ASTM D8 standard is $d=0.506$ inches. \n",
    "\n",
    "$$ A = \\pi(d/2)^2 $$\n",
    "\n",
    "Use the formula for stress $\\sigma$ and area $A$ above to write a function called ```stress()``` that calculates stress $\\sigma$ based on force $F$ and diameter $d$. Use $d=05.06$ as the default diameter, but allow the user to specify a different diameter if they want.\n",
    "\n",
    "Use your ```stress()``` function to calculate the tensile stress $\\sigma$ in a cylinder with the default diameter and a tensile force $F = 12,000$."
   ]
  },
  {
   "cell_type": "markdown",
   "metadata": {
    "latex": {
     "environment": "problems"
    }
   },
   "source": [
    "#### Nested Functions\n",
    "\n",
    "Q05.31 In mechanical engineering, there are a couple different units of _stress_. Units of stress include: Pascals (Pa), Mega Pascals (MPa), pounds per square inch (psi) and kilopounds per square inch (ksi). \n",
    "\n",
    " (a) Write a function called ```pa_to_mpa``` to convert between Pascals (Pa) and Mega Pascals (MPa)\n",
    " \n",
    " (b) Write a function called ```mpa_to_ksi``` to convert between Mega Pascals (MPa) and kilopounds per square inch (ksi)\n",
    " \n",
    " (c) Write a function called ```ksi_to_psi``` to convert between kilopounds per square inch (ksi) and pounds per square inch (psi)\n",
    " \n",
    " (d) Combine the three functions ```pa_to_mpa```, ```mpa_to_ksi```, ```ksi_to_psi``` into a single function ```pa_to_psi```. Do this with calling the other functions as part of the ```pa_to_psi``` function, not by rewriting the same code you wrote in parts (a), (b), and (c)."
   ]
  },
  {
   "cell_type": "markdown",
   "metadata": {
    "latex": {
     "environment": "problems"
    }
   },
   "source": [
    "#### Functions in other files"
   ]
  },
  {
   "cell_type": "markdown",
   "metadata": {},
   "source": [
    "#### Errors, Explanations, and Solutions\n",
    "\n",
    "For the sections of code below, run the lines of code. Then explain the error in your own words. Below your error explanation, rewrite and run an improved section of code that fixes the error.\n",
    "\n",
    "Q05.80 Run the code below and explain the error. Write the code and run it error free.\n",
    "\n",
    "```python\n",
    "def add_me(num)\n",
    "    return num + 2\n",
    "\n",
    "add_me(1)\n",
    "```\n",
    "\n",
    "Q05.81 Run the code below and explain the error. Re-write the code and run it error free.\n",
    "\n",
    "```python\n",
    "def add_you[nix]:\n",
    "    return num + 2\n",
    "    \n",
    "add_you(2)\n",
    "```\n",
    "\n",
    "Q05.82 Run the code below and explain the error. Re-write the code and run it error free.\n",
    "\n",
    "```python\n",
    "def my_func():\n",
    "    print('yup')\n",
    "    \n",
    "my_func('yup')\n",
    "```"
   ]
  },
  {
   "cell_type": "code",
   "execution_count": null,
   "metadata": {},
   "outputs": [],
   "source": []
  }
 ],
 "metadata": {
  "kernelspec": {
   "display_name": "Python 3",
   "language": "python",
   "name": "python3"
  },
  "language_info": {
   "codemirror_mode": {
    "name": "ipython",
    "version": 3
   },
   "file_extension": ".py",
   "mimetype": "text/x-python",
   "name": "python",
   "nbconvert_exporter": "python",
   "pygments_lexer": "ipython3",
   "version": "3.6.8"
  }
 },
 "nbformat": 4,
 "nbformat_minor": 2
}
