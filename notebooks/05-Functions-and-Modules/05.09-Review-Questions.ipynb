{
 "cells": [
  {
   "cell_type": "markdown",
   "metadata": {},
   "source": [
    "## Review Questions"
   ]
  },
  {
   "cell_type": "markdown",
   "metadata": {
    "latex": {
     "environment": "problems"
    }
   },
   "source": [
    "#### User-defined functions\n",
    "\n",
    "Q05.01 Write a function called ```m_to_ft()``` which converts meters to feet. Note the conversion factor is 1 meter =  3.28084 feet. Convert 5,000 meters into feet using your function."
   ]
  },
  {
   "cell_type": "markdown",
   "metadata": {
    "latex": {
     "environment": "problems"
    }
   },
   "source": [
    "#### Nested Functions\n",
    "\n",
    "Q05.31 In mechanical engineering, there are a couple different units of _stress_. Units of stress include: Pascals (Pa), Mega Pascals (MPa), pounds per square inch (psi) and kilopounds per square inch (ksi). \n",
    "\n",
    " (a) Write a function called ```pa_to_mpa``` to convert between Pascals (Pa) and Mega Pascals (MPa)\n",
    " \n",
    " (b) Write a function called ```mpa_to_ksi``` to convert between Mega Pascals (MPa) and kilopounds per square inch (ksi)\n",
    " \n",
    " (c) Write a function called ```ksi_to_psi``` to convert between kilopounds per square inch (ksi) and pounds per square inch (psi)\n",
    " \n",
    " (d) Combine the three functions ```pa_to_mpa```, ```mpa_to_ksi```, ```ksi_to_psi``` into a single function ```pa_to_psi```. Do this with calling the other functions as part of the ```pa_to_psi``` function, not by rewriting the same code you wrote in parts (a), (b), and (c)."
   ]
  },
  {
   "cell_type": "markdown",
   "metadata": {
    "latex": {
     "environment": "problems"
    }
   },
   "source": [
    "#### Functions in other files"
   ]
  },
  {
   "cell_type": "markdown",
   "metadata": {},
   "source": [
    "#### Errors, Explanations, and Solutions\n",
    "\n",
    "For the sections of code below, run the lines of code. Then explain the error in your own words. Below your error explanation, rewrite and run an improved section of code that fixes the error.\n",
    "\n",
    "Q05.80 Run the code below and explain the error. Write the code and run it error free.\n",
    "\n",
    "```python\n",
    "def add_me(num)\n",
    "    return num + 2\n",
    "\n",
    "add_me(1)\n",
    "```\n",
    "\n",
    "Q05.81 Run the code below and explain the error. Re-write the code and run it error free.\n",
    "\n",
    "```python\n",
    "def add_you[nix]:\n",
    "    return num + 2\n",
    "    \n",
    "add_you(2)\n",
    "```\n",
    "\n",
    "Q05.82 Run the code below and explain the error. Re-write the code and run it error free.\n",
    "\n",
    "```python\n",
    "def my_func():\n",
    "    print('yup')\n",
    "    \n",
    "my_func('yup')\n",
    "```"
   ]
  },
  {
   "cell_type": "code",
   "execution_count": null,
   "metadata": {},
   "outputs": [],
   "source": []
  }
 ],
 "metadata": {
  "kernelspec": {
   "display_name": "Python 3",
   "language": "python",
   "name": "python3"
  },
  "language_info": {
   "codemirror_mode": {
    "name": "ipython",
    "version": 3
   },
   "file_extension": ".py",
   "mimetype": "text/x-python",
   "name": "python",
   "nbconvert_exporter": "python",
   "pygments_lexer": "ipython3",
   "version": "3.6.4"
  }
 },
 "nbformat": 4,
 "nbformat_minor": 2
}
