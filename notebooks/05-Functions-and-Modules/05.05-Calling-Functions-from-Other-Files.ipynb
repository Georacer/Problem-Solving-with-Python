{
 "cells": [
  {
   "cell_type": "markdown",
   "metadata": {},
   "source": [
    "## Calling Functions from Other Files"
   ]
  },
  {
   "cell_type": "markdown",
   "metadata": {},
   "source": [
    "User-defined functions can be called from other files, a different file than where the function definition was written. If a new file called **_myfunctions.py_** is created and contains two function definitions, ```plustwo()``` and ```falldist()```, these functions can be used by a separate file as long as the file and function names are imported first. It is important that the file which contains the functions ends in the **_.py_** extension. Without a **_.py_** extension, the file can not be imported."
   ]
  },
  {
   "cell_type": "markdown",
   "metadata": {},
   "source": [
    "```\n",
    "# myfunctions.py\n",
    "\n",
    "def plustwo(n):\n",
    "    n = n + 2\n",
    "    return n\n",
    "\n",
    "\n",
    "def falldist(t,g=9.81):\n",
    "    d = 0.5 * g * t**2\n",
    "    return d\n",
    "```"
   ]
  },
  {
   "cell_type": "markdown",
   "metadata": {},
   "source": [
    "This file can be imported into another script, or Jupyter Notebook running in the same directory. Using ```from <filename> import <function_name>```. Note that although the file name must contain a **_.py_** extension, ```.py``` is not used as part of the file name during import."
   ]
  },
  {
   "cell_type": "code",
   "execution_count": 1,
   "metadata": {},
   "outputs": [
    {
     "data": {
      "text/plain": [
       "5"
      ]
     },
     "execution_count": 1,
     "metadata": {},
     "output_type": "execute_result"
    }
   ],
   "source": [
    "from myfunctions import plustwo\n",
    "plustwo(3)"
   ]
  },
  {
   "cell_type": "code",
   "execution_count": 2,
   "metadata": {},
   "outputs": [
    {
     "data": {
      "text/plain": [
       "44.145"
      ]
     },
     "execution_count": 2,
     "metadata": {},
     "output_type": "execute_result"
    }
   ],
   "source": [
    "from myfunctions import falldist\n",
    "falldist(3)"
   ]
  },
  {
   "cell_type": "code",
   "execution_count": null,
   "metadata": {},
   "outputs": [],
   "source": []
  }
 ],
 "metadata": {
  "kernelspec": {
   "display_name": "Python 3",
   "language": "python",
   "name": "python3"
  },
  "language_info": {
   "codemirror_mode": {
    "name": "ipython",
    "version": 3
   },
   "file_extension": ".py",
   "mimetype": "text/x-python",
   "name": "python",
   "nbconvert_exporter": "python",
   "pygments_lexer": "ipython3",
   "version": "3.6.4"
  }
 },
 "nbformat": 4,
 "nbformat_minor": 2
}
