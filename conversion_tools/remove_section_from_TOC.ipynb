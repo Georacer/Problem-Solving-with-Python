{
 "cells": [
  {
   "cell_type": "markdown",
   "metadata": {},
   "source": [
    "# Working up removing sections from the table of contents of a latex doc\n",
    "\n",
    "from this:\n",
    "\n",
    "```\n",
    "\\section{Contents}\\label{contents}\n",
    "```   \n",
    "\n",
    "to this:\n",
    "\n",
    "```\n",
    "\\section*{Contents}\\label{contents}\n",
    "\t\\addcontentsline{toc}{section}{Contents}\n",
    "```\n"
   ]
  },
  {
   "cell_type": "code",
   "execution_count": 1,
   "metadata": {},
   "outputs": [
    {
     "name": "stdout",
     "output_type": "stream",
     "text": [
      " Volume in drive C is Windows\n",
      " Volume Serial Number is A048-4C53\n",
      "\n",
      " Directory of C:\\Users\\peter.kazarinoff\\Documents\\bookn\\conversion_tools\n",
      "\n",
      "01/10/2019  12:03 PM    <DIR>          .\n",
      "01/10/2019  12:03 PM    <DIR>          ..\n",
      "01/10/2019  12:02 PM    <DIR>          .ipynb_checkpoints\n",
      "11/06/2018  08:31 AM    <DIR>          __pycache__\n",
      "09/05/2018  08:41 AM             1,762 copy_images_dir.py\n",
      "08/06/2018  08:49 AM             1,079 filter_links.py\n",
      "08/06/2018  08:49 AM             1,321 make_mkdocs_yaml.py\n",
      "08/06/2018  08:49 AM               134 md_not_converted.tpl\n",
      "08/06/2018  08:49 AM             5,183 nb_list_tools.py\n",
      "09/13/2018  09:55 AM             3,763 nb2html.py\n",
      "12/13/2018  09:43 AM             8,727 nb2latex.py\n",
      "09/05/2018  08:41 AM               870 nb2mkdocs.py\n",
      "01/10/2019  12:03 PM               781 remove_section_from_TOC.ipynb\n",
      "01/10/2019  08:15 AM    <DIR>          templates\n",
      "01/10/2019  12:01 PM               617 test_latex.tex\n",
      "01/10/2019  08:15 AM            10,504 TOC.yml\n",
      "08/06/2018  08:49 AM             5,992 yaml_TOC.py\n",
      "              12 File(s)         40,733 bytes\n",
      "               5 Dir(s)  106,738,987,008 bytes free\n"
     ]
    }
   ],
   "source": [
    "%ls"
   ]
  },
  {
   "cell_type": "code",
   "execution_count": 16,
   "metadata": {},
   "outputs": [],
   "source": [
    "with open('test_output.tex','w+') as outfile:\n",
    "    with open('test_latex.tex','r') as infile:\n",
    "        for line in infile.readlines():\n",
    "            if '\\\\section{' in line:\n",
    "                sl = line.rstrip().strip()\n",
    "                #nos_sl = sl.lstrip('\\\\section{')\n",
    "                line = '\\\\section*{'+sl\n",
    "                outfile.write(line)\n",
    "            else:\n",
    "                outfile.write(line)"
   ]
  },
  {
   "cell_type": "code",
   "execution_count": 17,
   "metadata": {},
   "outputs": [],
   "source": [
    "s = '    \\section{NumPy Math Functions}\\label{numpy-math-functions}'"
   ]
  },
  {
   "cell_type": "code",
   "execution_count": 18,
   "metadata": {},
   "outputs": [
    {
     "data": {
      "text/plain": [
       "'    \\\\section{NumPy Math Functions}\\\\label{numpy-math-functions}'"
      ]
     },
     "execution_count": 18,
     "metadata": {},
     "output_type": "execute_result"
    }
   ],
   "source": [
    "s"
   ]
  },
  {
   "cell_type": "code",
   "execution_count": 20,
   "metadata": {},
   "outputs": [
    {
     "data": {
      "text/plain": [
       "'    \\\\section{NumPy Math Functions}\\\\label{numpy-math-functions}'"
      ]
     },
     "execution_count": 20,
     "metadata": {},
     "output_type": "execute_result"
    }
   ],
   "source": [
    "sl = s.rstrip()\n",
    "sl"
   ]
  },
  {
   "cell_type": "code",
   "execution_count": 21,
   "metadata": {},
   "outputs": [
    {
     "data": {
      "text/plain": [
       "'\\\\section{NumPy Math Functions}\\\\label{numpy-math-functions}'"
      ]
     },
     "execution_count": 21,
     "metadata": {},
     "output_type": "execute_result"
    }
   ],
   "source": [
    "sl.strip()"
   ]
  },
  {
   "cell_type": "code",
   "execution_count": 22,
   "metadata": {},
   "outputs": [
    {
     "data": {
      "text/plain": [
       "'\\\\section{NumPy Math Functions}\\\\label{numpy-math-functions}'"
      ]
     },
     "execution_count": 22,
     "metadata": {},
     "output_type": "execute_result"
    }
   ],
   "source": [
    "s = '    \\section{NumPy Math Functions}\\label{numpy-math-functions} \\n'\n",
    "s.rstrip().strip()"
   ]
  },
  {
   "cell_type": "code",
   "execution_count": null,
   "metadata": {},
   "outputs": [],
   "source": []
  }
 ],
 "metadata": {
  "kernelspec": {
   "display_name": "Python 3",
   "language": "python",
   "name": "python3"
  },
  "language_info": {
   "codemirror_mode": {
    "name": "ipython",
    "version": 3
   },
   "file_extension": ".py",
   "mimetype": "text/x-python",
   "name": "python",
   "nbconvert_exporter": "python",
   "pygments_lexer": "ipython3",
   "version": "3.6.4"
  }
 },
 "nbformat": 4,
 "nbformat_minor": 2
}
